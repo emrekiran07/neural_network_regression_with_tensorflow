{
  "nbformat": 4,
  "nbformat_minor": 0,
  "metadata": {
    "colab": {
      "provenance": [],
      "gpuType": "T4"
    },
    "kernelspec": {
      "name": "python3",
      "display_name": "Python 3"
    },
    "language_info": {
      "name": "python"
    },
    "accelerator": "GPU"
  },
  "cells": [
    {
      "cell_type": "code",
      "execution_count": 1,
      "metadata": {
        "id": "uXtYwDGpO0tF"
      },
      "outputs": [],
      "source": [
        "import tensorflow as tf"
      ]
    },
    {
      "cell_type": "code",
      "source": [
        "print(tf.__version__)"
      ],
      "metadata": {
        "colab": {
          "base_uri": "https://localhost:8080/"
        },
        "id": "jOnGm9tTPH3r",
        "outputId": "f1c13142-33d6-4843-9da9-d30e98662ff4"
      },
      "execution_count": 2,
      "outputs": [
        {
          "output_type": "stream",
          "name": "stdout",
          "text": [
            "2.15.0\n"
          ]
        }
      ]
    },
    {
      "cell_type": "markdown",
      "source": [
        "## Creating data to view and fit\n",
        "\n",
        "\n"
      ],
      "metadata": {
        "id": "dKKb_W1BPMnw"
      }
    },
    {
      "cell_type": "code",
      "source": [
        "import numpy as np\n",
        "import matplotlib.pyplot as plt\n",
        "\n",
        "#Create features\n",
        "X = np.array([-7.0, -4.0, -1.0, 2.0, 5.0, 8.0, 11.0, 14.0])\n",
        "\n",
        "#Create labels\n",
        "y= np.array([3.0, 6.0, 9.0, 12.0, 15.0, 18.0, 21.0, 24.0])"
      ],
      "metadata": {
        "id": "t4iN_kx1PhRO"
      },
      "execution_count": 3,
      "outputs": []
    },
    {
      "cell_type": "code",
      "source": [
        "#Visualize\n",
        "plt.scatter(X,y, marker=\"*\")\n",
        "plt.xlabel(\"Features\")\n",
        "plt.ylabel(\"Labels\")"
      ],
      "metadata": {
        "colab": {
          "base_uri": "https://localhost:8080/",
          "height": 471
        },
        "id": "G-D0o3KVSySm",
        "outputId": "fe284ce2-c075-413b-da50-ff33b872fcdb"
      },
      "execution_count": 4,
      "outputs": [
        {
          "output_type": "execute_result",
          "data": {
            "text/plain": [
              "Text(0, 0.5, 'Labels')"
            ]
          },
          "metadata": {},
          "execution_count": 4
        },
        {
          "output_type": "display_data",
          "data": {
            "text/plain": [
              "<Figure size 640x480 with 1 Axes>"
            ],
            "image/png": "[encoded data removed]"
          },
          "metadata": {}
        }
      ]
    },
    {
      "cell_type": "code",
      "source": [
        "y == X+10"
      ],
      "metadata": {
        "colab": {
          "base_uri": "https://localhost:8080/"
        },
        "id": "7qpPu7ctS49-",
        "outputId": "29d81af7-a3aa-4928-86fc-c3f014a9917b"
      },
      "execution_count": 5,
      "outputs": [
        {
          "output_type": "execute_result",
          "data": {
            "text/plain": [
              "array([ True,  True,  True,  True,  True,  True,  True,  True])"
            ]
          },
          "metadata": {},
          "execution_count": 5
        }
      ]
    },
    {
      "cell_type": "markdown",
      "source": [
        "##Input and Output shapes"
      ],
      "metadata": {
        "id": "9P3H3rWpUD8h"
      }
    },
    {
      "cell_type": "code",
      "source": [
        "input_shape = X[0].shape\n",
        "output_shape = y[0].shape\n",
        "input_shape, output_shape"
      ],
      "metadata": {
        "colab": {
          "base_uri": "https://localhost:8080/"
        },
        "id": "bluu6c0YU-Xn",
        "outputId": "1973be3a-2c7b-481b-ec25-57a391332fcd"
      },
      "execution_count": 6,
      "outputs": [
        {
          "output_type": "execute_result",
          "data": {
            "text/plain": [
              "((), ())"
            ]
          },
          "metadata": {},
          "execution_count": 6
        }
      ]
    },
    {
      "cell_type": "code",
      "source": [
        "X[0], y[0]"
      ],
      "metadata": {
        "id": "r9kqH0tnVH3m",
        "colab": {
          "base_uri": "https://localhost:8080/"
        },
        "outputId": "f9377b7a-aaf2-453b-f8ec-951988f9d26a"
      },
      "execution_count": 7,
      "outputs": [
        {
          "output_type": "execute_result",
          "data": {
            "text/plain": [
              "(-7.0, 3.0)"
            ]
          },
          "metadata": {},
          "execution_count": 7
        }
      ]
    },
    {
      "cell_type": "code",
      "source": [
        "X = tf.cast(tf.constant(X), tf.float32)\n",
        "y = tf.cast(tf.constant(y), tf.float32)"
      ],
      "metadata": {
        "id": "dD0O9ZDxWq6S"
      },
      "execution_count": 8,
      "outputs": []
    },
    {
      "cell_type": "code",
      "source": [
        "X, y"
      ],
      "metadata": {
        "colab": {
          "base_uri": "https://localhost:8080/"
        },
        "id": "N4-J68AfHC5g",
        "outputId": "ff99650a-de1f-4af6-a17f-b3aa0d282175"
      },
      "execution_count": 9,
      "outputs": [
        {
          "output_type": "execute_result",
          "data": {
            "text/plain": [
              "(<tf.Tensor: shape=(8,), dtype=float32, numpy=array([-7., -4., -1.,  2.,  5.,  8., 11., 14.], dtype=float32)>,\n",
              " <tf.Tensor: shape=(8,), dtype=float32, numpy=array([ 3.,  6.,  9., 12., 15., 18., 21., 24.], dtype=float32)>)"
            ]
          },
          "metadata": {},
          "execution_count": 9
        }
      ]
    },
    {
      "cell_type": "code",
      "source": [
        "input_shape = X[0].shape\n",
        "output_shape = y[0].shape\n",
        "input_shape, output_shape"
      ],
      "metadata": {
        "colab": {
          "base_uri": "https://localhost:8080/"
        },
        "id": "l4j5quLqHJGW",
        "outputId": "0921c7a2-172a-4822-da63-77c5aa11c65e"
      },
      "execution_count": 10,
      "outputs": [
        {
          "output_type": "execute_result",
          "data": {
            "text/plain": [
              "(TensorShape([]), TensorShape([]))"
            ]
          },
          "metadata": {},
          "execution_count": 10
        }
      ]
    },
    {
      "cell_type": "markdown",
      "source": [
        "## Steps in modelling with Tensorflow\n",
        "1. **Creating a model** - define the input and output layers, as well as the hidden layers of deep learning model.\n",
        "2. **Compiling a model** - define the loss function (in other words, the function which tells our model how wrong it is) and optimizer (tells our model how to improve the patterns its learning) and evaulation metrics (what we can use to interpret the performance of our model).\n",
        "3. **Fitting a model** - letting the model try to find patterns between X & y (features and labels)."
      ],
      "metadata": {
        "id": "y2dHB5ggIGNm"
      }
    },
    {
      "cell_type": "code",
      "source": [
        "tf.random.set_seed(42)"
      ],
      "metadata": {
        "id": "mINAtkSyIlgb"
      },
      "execution_count": 11,
      "outputs": []
    },
    {
      "cell_type": "code",
      "source": [
        "#Create a model using sequential api\n",
        "model = tf.keras.Sequential()\n",
        "model.add(tf.keras.Input(shape=(1,)))\n",
        "model.add(tf.keras.layers.Dense(1))"
      ],
      "metadata": {
        "id": "mZYTln--MJUs"
      },
      "execution_count": 12,
      "outputs": []
    },
    {
      "cell_type": "code",
      "source": [
        "#compile the model\n",
        "model.compile(optimizer = tf.keras.optimizers.SGD(), loss = tf.keras.losses.mae, metrics = [\"mae\"])"
      ],
      "metadata": {
        "id": "H5SFjkHy_0u0"
      },
      "execution_count": 13,
      "outputs": []
    },
    {
      "cell_type": "code",
      "source": [
        "#fit the model\n",
        "model.fit(X, y, epochs = 5)"
      ],
      "metadata": {
        "colab": {
          "base_uri": "https://localhost:8080/"
        },
        "id": "4hHmPy62_ysJ",
        "outputId": "ed3b286c-c947-4ccc-f46d-51eec2581cb5"
      },
      "execution_count": 14,
      "outputs": [
        {
          "output_type": "stream",
          "name": "stdout",
          "text": [
            "Epoch 1/5\n",
            "1/1 [==============================] - 1s 1s/step - loss: 14.9086 - mae: 14.9086\n",
            "Epoch 2/5\n",
            "1/1 [==============================] - 0s 24ms/step - loss: 14.7761 - mae: 14.7761\n",
            "Epoch 3/5\n",
            "1/1 [==============================] - 0s 15ms/step - loss: 14.6436 - mae: 14.6436\n",
            "Epoch 4/5\n",
            "1/1 [==============================] - 0s 22ms/step - loss: 14.5111 - mae: 14.5111\n",
            "Epoch 5/5\n",
            "1/1 [==============================] - 0s 18ms/step - loss: 14.3786 - mae: 14.3786\n"
          ]
        },
        {
          "output_type": "execute_result",
          "data": {
            "text/plain": [
              "<keras.src.callbacks.History at 0x7d6e57dcfeb0>"
            ]
          },
          "metadata": {},
          "execution_count": 14
        }
      ]
    },
    {
      "cell_type": "code",
      "source": [
        "X, y"
      ],
      "metadata": {
        "id": "EbyGKtLHClP9",
        "colab": {
          "base_uri": "https://localhost:8080/"
        },
        "outputId": "ee4647c0-50ca-43d4-bb5c-484a485e2df1"
      },
      "execution_count": 15,
      "outputs": [
        {
          "output_type": "execute_result",
          "data": {
            "text/plain": [
              "(<tf.Tensor: shape=(8,), dtype=float32, numpy=array([-7., -4., -1.,  2.,  5.,  8., 11., 14.], dtype=float32)>,\n",
              " <tf.Tensor: shape=(8,), dtype=float32, numpy=array([ 3.,  6.,  9., 12., 15., 18., 21., 24.], dtype=float32)>)"
            ]
          },
          "metadata": {},
          "execution_count": 15
        }
      ]
    },
    {
      "cell_type": "code",
      "source": [
        "#prediction using our model\n",
        "y_pred = model.predict([17.0])"
      ],
      "metadata": {
        "colab": {
          "base_uri": "https://localhost:8080/"
        },
        "id": "VFazTx2zO2hr",
        "outputId": "6d2964b3-6f04-483b-9f76-7616ef2ddeb8"
      },
      "execution_count": 16,
      "outputs": [
        {
          "output_type": "stream",
          "name": "stdout",
          "text": [
            "1/1 [==============================] - 0s 201ms/step\n"
          ]
        }
      ]
    },
    {
      "cell_type": "code",
      "source": [
        "y_pred"
      ],
      "metadata": {
        "colab": {
          "base_uri": "https://localhost:8080/"
        },
        "id": "UIYMwg0BSEv8",
        "outputId": "b31d2673-57d8-4cca-eb0d-c1437665c96b"
      },
      "execution_count": 17,
      "outputs": [
        {
          "output_type": "execute_result",
          "data": {
            "text/plain": [
              "array([[-3.8166518]], dtype=float32)"
            ]
          },
          "metadata": {},
          "execution_count": 17
        }
      ]
    },
    {
      "cell_type": "code",
      "source": [
        "y_pred + 11.53"
      ],
      "metadata": {
        "colab": {
          "base_uri": "https://localhost:8080/"
        },
        "id": "veUxO5DMP52G",
        "outputId": "0c53c701-ffb4-42f3-a9c4-352bd363f708"
      },
      "execution_count": 18,
      "outputs": [
        {
          "output_type": "execute_result",
          "data": {
            "text/plain": [
              "array([[7.713348]], dtype=float32)"
            ]
          },
          "metadata": {},
          "execution_count": 18
        }
      ]
    },
    {
      "cell_type": "markdown",
      "source": [
        "## Improving the model\n",
        "1. **Creating a model**: here we might add more layers, increase the number of hidden units (neurons) within each of the hidden layers, change the activation functions for each layers.\n",
        "2. **Compiling a model**: here we might change the optimization function or perhaps the **learning rate** (hyperparamater) of the optimization function.\n",
        "3. **Fitting a model**: here we might fit a model for more **epochs** or we can give more data to train the model."
      ],
      "metadata": {
        "id": "AqrP1eRwSMsf"
      }
    },
    {
      "cell_type": "code",
      "source": [
        "# Let's rebuild our model\n",
        "\n",
        "#create the model\n",
        "\n",
        "model = tf.keras.Sequential()\n",
        "model.add(tf.keras.Input(shape=(1,)))\n",
        "model.add(tf.keras.layers.Dense(1))"
      ],
      "metadata": {
        "id": "meP2cLUiSUoe"
      },
      "execution_count": 19,
      "outputs": []
    },
    {
      "cell_type": "code",
      "source": [
        "model.compile(optimizer = tf.keras.optimizers.SGD(),\n",
        "              loss=tf.keras.losses.mae,\n",
        "              metrics=[\"mae\"])"
      ],
      "metadata": {
        "id": "1TugURXxXylZ"
      },
      "execution_count": 20,
      "outputs": []
    },
    {
      "cell_type": "code",
      "source": [
        "model.fit(X,y,epochs = 100)"
      ],
      "metadata": {
        "colab": {
          "base_uri": "https://localhost:8080/"
        },
        "id": "VyrsFtyzcJXH",
        "outputId": "86236559-767e-4985-dae6-ed0c988e1466"
      },
      "execution_count": 21,
      "outputs": [
        {
          "output_type": "stream",
          "name": "stdout",
          "text": [
            "Epoch 1/100\n",
            "1/1 [==============================] - 1s 977ms/step - loss: 10.9503 - mae: 10.9503\n",
            "Epoch 2/100\n",
            "1/1 [==============================] - 0s 13ms/step - loss: 10.8178 - mae: 10.8178\n",
            "Epoch 3/100\n",
            "1/1 [==============================] - 0s 12ms/step - loss: 10.6853 - mae: 10.6853\n",
            "Epoch 4/100\n",
            "1/1 [==============================] - 0s 11ms/step - loss: 10.5528 - mae: 10.5528\n",
            "Epoch 5/100\n",
            "1/1 [==============================] - 0s 15ms/step - loss: 10.4203 - mae: 10.4203\n",
            "Epoch 6/100\n",
            "1/1 [==============================] - 0s 18ms/step - loss: 10.2878 - mae: 10.2878\n",
            "Epoch 7/100\n",
            "1/1 [==============================] - 0s 12ms/step - loss: 10.1553 - mae: 10.1553\n",
            "Epoch 8/100\n",
            "1/1 [==============================] - 0s 11ms/step - loss: 10.0228 - mae: 10.0228\n",
            "Epoch 9/100\n",
            "1/1 [==============================] - 0s 19ms/step - loss: 9.8903 - mae: 9.8903\n",
            "Epoch 10/100\n",
            "1/1 [==============================] - 0s 25ms/step - loss: 9.7578 - mae: 9.7578\n",
            "Epoch 11/100\n",
            "1/1 [==============================] - 0s 33ms/step - loss: 9.6253 - mae: 9.6253\n",
            "Epoch 12/100\n",
            "1/1 [==============================] - 0s 10ms/step - loss: 9.4928 - mae: 9.4928\n",
            "Epoch 13/100\n",
            "1/1 [==============================] - 0s 26ms/step - loss: 9.3603 - mae: 9.3603\n",
            "Epoch 14/100\n",
            "1/1 [==============================] - 0s 24ms/step - loss: 9.2278 - mae: 9.2278\n",
            "Epoch 15/100\n",
            "1/1 [==============================] - 0s 25ms/step - loss: 9.0953 - mae: 9.0953\n",
            "Epoch 16/100\n",
            "1/1 [==============================] - 0s 10ms/step - loss: 8.9628 - mae: 8.9628\n",
            "Epoch 17/100\n",
            "1/1 [==============================] - 0s 32ms/step - loss: 8.8303 - mae: 8.8303\n",
            "Epoch 18/100\n",
            "1/1 [==============================] - 0s 30ms/step - loss: 8.6978 - mae: 8.6978\n",
            "Epoch 19/100\n",
            "1/1 [==============================] - 0s 23ms/step - loss: 8.5653 - mae: 8.5653\n",
            "Epoch 20/100\n",
            "1/1 [==============================] - 0s 32ms/step - loss: 8.4328 - mae: 8.4328\n",
            "Epoch 21/100\n",
            "1/1 [==============================] - 0s 24ms/step - loss: 8.3003 - mae: 8.3003\n",
            "Epoch 22/100\n",
            "1/1 [==============================] - 0s 22ms/step - loss: 8.1678 - mae: 8.1678\n",
            "Epoch 23/100\n",
            "1/1 [==============================] - 0s 21ms/step - loss: 8.0353 - mae: 8.0353\n",
            "Epoch 24/100\n",
            "1/1 [==============================] - 0s 19ms/step - loss: 7.9028 - mae: 7.9028\n",
            "Epoch 25/100\n",
            "1/1 [==============================] - 0s 34ms/step - loss: 7.7703 - mae: 7.7703\n",
            "Epoch 26/100\n",
            "1/1 [==============================] - 0s 12ms/step - loss: 7.6378 - mae: 7.6378\n",
            "Epoch 27/100\n",
            "1/1 [==============================] - 0s 11ms/step - loss: 7.5053 - mae: 7.5053\n",
            "Epoch 28/100\n",
            "1/1 [==============================] - 0s 14ms/step - loss: 7.3728 - mae: 7.3728\n",
            "Epoch 29/100\n",
            "1/1 [==============================] - 0s 65ms/step - loss: 7.2900 - mae: 7.2900\n",
            "Epoch 30/100\n",
            "1/1 [==============================] - 0s 24ms/step - loss: 7.2844 - mae: 7.2844\n",
            "Epoch 31/100\n",
            "1/1 [==============================] - 0s 38ms/step - loss: 7.2787 - mae: 7.2787\n",
            "Epoch 32/100\n",
            "1/1 [==============================] - 0s 20ms/step - loss: 7.2731 - mae: 7.2731\n",
            "Epoch 33/100\n",
            "1/1 [==============================] - 0s 25ms/step - loss: 7.2675 - mae: 7.2675\n",
            "Epoch 34/100\n",
            "1/1 [==============================] - 0s 32ms/step - loss: 7.2619 - mae: 7.2619\n",
            "Epoch 35/100\n",
            "1/1 [==============================] - 0s 23ms/step - loss: 7.2562 - mae: 7.2562\n",
            "Epoch 36/100\n",
            "1/1 [==============================] - 0s 23ms/step - loss: 7.2506 - mae: 7.2506\n",
            "Epoch 37/100\n",
            "1/1 [==============================] - 0s 23ms/step - loss: 7.2450 - mae: 7.2450\n",
            "Epoch 38/100\n",
            "1/1 [==============================] - 0s 31ms/step - loss: 7.2394 - mae: 7.2394\n",
            "Epoch 39/100\n",
            "1/1 [==============================] - 0s 51ms/step - loss: 7.2338 - mae: 7.2338\n",
            "Epoch 40/100\n",
            "1/1 [==============================] - 0s 28ms/step - loss: 7.2281 - mae: 7.2281\n",
            "Epoch 41/100\n",
            "1/1 [==============================] - 0s 38ms/step - loss: 7.2225 - mae: 7.2225\n",
            "Epoch 42/100\n",
            "1/1 [==============================] - 0s 26ms/step - loss: 7.2169 - mae: 7.2169\n",
            "Epoch 43/100\n",
            "1/1 [==============================] - 0s 23ms/step - loss: 7.2113 - mae: 7.2113\n",
            "Epoch 44/100\n",
            "1/1 [==============================] - 0s 19ms/step - loss: 7.2056 - mae: 7.2056\n",
            "Epoch 45/100\n",
            "1/1 [==============================] - 0s 25ms/step - loss: 7.2000 - mae: 7.2000\n",
            "Epoch 46/100\n",
            "1/1 [==============================] - 0s 25ms/step - loss: 7.1944 - mae: 7.1944\n",
            "Epoch 47/100\n",
            "1/1 [==============================] - 0s 28ms/step - loss: 7.1888 - mae: 7.1888\n",
            "Epoch 48/100\n",
            "1/1 [==============================] - 0s 31ms/step - loss: 7.1831 - mae: 7.1831\n",
            "Epoch 49/100\n",
            "1/1 [==============================] - 0s 57ms/step - loss: 7.1775 - mae: 7.1775\n",
            "Epoch 50/100\n",
            "1/1 [==============================] - 0s 24ms/step - loss: 7.1719 - mae: 7.1719\n",
            "Epoch 51/100\n",
            "1/1 [==============================] - 0s 24ms/step - loss: 7.1663 - mae: 7.1663\n",
            "Epoch 52/100\n",
            "1/1 [==============================] - 0s 24ms/step - loss: 7.1606 - mae: 7.1606\n",
            "Epoch 53/100\n",
            "1/1 [==============================] - 0s 23ms/step - loss: 7.1550 - mae: 7.1550\n",
            "Epoch 54/100\n",
            "1/1 [==============================] - 0s 23ms/step - loss: 7.1494 - mae: 7.1494\n",
            "Epoch 55/100\n",
            "1/1 [==============================] - 0s 22ms/step - loss: 7.1438 - mae: 7.1438\n",
            "Epoch 56/100\n",
            "1/1 [==============================] - 0s 25ms/step - loss: 7.1381 - mae: 7.1381\n",
            "Epoch 57/100\n",
            "1/1 [==============================] - 0s 23ms/step - loss: 7.1325 - mae: 7.1325\n",
            "Epoch 58/100\n",
            "1/1 [==============================] - 0s 37ms/step - loss: 7.1269 - mae: 7.1269\n",
            "Epoch 59/100\n",
            "1/1 [==============================] - 0s 21ms/step - loss: 7.1213 - mae: 7.1213\n",
            "Epoch 60/100\n",
            "1/1 [==============================] - 0s 23ms/step - loss: 7.1156 - mae: 7.1156\n",
            "Epoch 61/100\n",
            "1/1 [==============================] - 0s 22ms/step - loss: 7.1100 - mae: 7.1100\n",
            "Epoch 62/100\n",
            "1/1 [==============================] - 0s 26ms/step - loss: 7.1044 - mae: 7.1044\n",
            "Epoch 63/100\n",
            "1/1 [==============================] - 0s 22ms/step - loss: 7.0988 - mae: 7.0988\n",
            "Epoch 64/100\n",
            "1/1 [==============================] - 0s 24ms/step - loss: 7.0931 - mae: 7.0931\n",
            "Epoch 65/100\n",
            "1/1 [==============================] - 0s 19ms/step - loss: 7.0875 - mae: 7.0875\n",
            "Epoch 66/100\n",
            "1/1 [==============================] - 0s 14ms/step - loss: 7.0819 - mae: 7.0819\n",
            "Epoch 67/100\n",
            "1/1 [==============================] - 0s 18ms/step - loss: 7.0763 - mae: 7.0763\n",
            "Epoch 68/100\n",
            "1/1 [==============================] - 0s 23ms/step - loss: 7.0706 - mae: 7.0706\n",
            "Epoch 69/100\n",
            "1/1 [==============================] - 0s 23ms/step - loss: 7.0650 - mae: 7.0650\n",
            "Epoch 70/100\n",
            "1/1 [==============================] - 0s 18ms/step - loss: 7.0594 - mae: 7.0594\n",
            "Epoch 71/100\n",
            "1/1 [==============================] - 0s 17ms/step - loss: 7.0538 - mae: 7.0538\n",
            "Epoch 72/100\n",
            "1/1 [==============================] - 0s 22ms/step - loss: 7.0481 - mae: 7.0481\n",
            "Epoch 73/100\n",
            "1/1 [==============================] - 0s 30ms/step - loss: 7.0425 - mae: 7.0425\n",
            "Epoch 74/100\n",
            "1/1 [==============================] - 0s 16ms/step - loss: 7.0369 - mae: 7.0369\n",
            "Epoch 75/100\n",
            "1/1 [==============================] - 0s 20ms/step - loss: 7.0312 - mae: 7.0312\n",
            "Epoch 76/100\n",
            "1/1 [==============================] - 0s 36ms/step - loss: 7.0256 - mae: 7.0256\n",
            "Epoch 77/100\n",
            "1/1 [==============================] - 0s 26ms/step - loss: 7.0200 - mae: 7.0200\n",
            "Epoch 78/100\n",
            "1/1 [==============================] - 0s 24ms/step - loss: 7.0144 - mae: 7.0144\n",
            "Epoch 79/100\n",
            "1/1 [==============================] - 0s 30ms/step - loss: 7.0087 - mae: 7.0087\n",
            "Epoch 80/100\n",
            "1/1 [==============================] - 0s 17ms/step - loss: 7.0031 - mae: 7.0031\n",
            "Epoch 81/100\n",
            "1/1 [==============================] - 0s 19ms/step - loss: 6.9975 - mae: 6.9975\n",
            "Epoch 82/100\n",
            "1/1 [==============================] - 0s 21ms/step - loss: 6.9919 - mae: 6.9919\n",
            "Epoch 83/100\n",
            "1/1 [==============================] - 0s 20ms/step - loss: 6.9863 - mae: 6.9863\n",
            "Epoch 84/100\n",
            "1/1 [==============================] - 0s 20ms/step - loss: 6.9806 - mae: 6.9806\n",
            "Epoch 85/100\n",
            "1/1 [==============================] - 0s 20ms/step - loss: 6.9750 - mae: 6.9750\n",
            "Epoch 86/100\n",
            "1/1 [==============================] - 0s 17ms/step - loss: 6.9694 - mae: 6.9694\n",
            "Epoch 87/100\n",
            "1/1 [==============================] - 0s 18ms/step - loss: 6.9638 - mae: 6.9638\n",
            "Epoch 88/100\n",
            "1/1 [==============================] - 0s 23ms/step - loss: 6.9581 - mae: 6.9581\n",
            "Epoch 89/100\n",
            "1/1 [==============================] - 0s 24ms/step - loss: 6.9525 - mae: 6.9525\n",
            "Epoch 90/100\n",
            "1/1 [==============================] - 0s 20ms/step - loss: 6.9469 - mae: 6.9469\n",
            "Epoch 91/100\n",
            "1/1 [==============================] - 0s 18ms/step - loss: 6.9413 - mae: 6.9413\n",
            "Epoch 92/100\n",
            "1/1 [==============================] - 0s 17ms/step - loss: 6.9356 - mae: 6.9356\n",
            "Epoch 93/100\n",
            "1/1 [==============================] - 0s 16ms/step - loss: 6.9300 - mae: 6.9300\n",
            "Epoch 94/100\n",
            "1/1 [==============================] - 0s 24ms/step - loss: 6.9244 - mae: 6.9244\n",
            "Epoch 95/100\n",
            "1/1 [==============================] - 0s 27ms/step - loss: 6.9188 - mae: 6.9188\n",
            "Epoch 96/100\n",
            "1/1 [==============================] - 0s 22ms/step - loss: 6.9131 - mae: 6.9131\n",
            "Epoch 97/100\n",
            "1/1 [==============================] - 0s 21ms/step - loss: 6.9075 - mae: 6.9075\n",
            "Epoch 98/100\n",
            "1/1 [==============================] - 0s 22ms/step - loss: 6.9019 - mae: 6.9019\n",
            "Epoch 99/100\n",
            "1/1 [==============================] - 0s 21ms/step - loss: 6.8963 - mae: 6.8963\n",
            "Epoch 100/100\n",
            "1/1 [==============================] - 0s 21ms/step - loss: 6.8906 - mae: 6.8906\n"
          ]
        },
        {
          "output_type": "execute_result",
          "data": {
            "text/plain": [
              "<keras.src.callbacks.History at 0x7d6e5421e800>"
            ]
          },
          "metadata": {},
          "execution_count": 21
        }
      ]
    },
    {
      "cell_type": "code",
      "source": [
        "# Let's see if our model's preediction has been improved\n",
        "model.predict([17.0])"
      ],
      "metadata": {
        "colab": {
          "base_uri": "https://localhost:8080/"
        },
        "id": "wNCc1SI-cQTh",
        "outputId": "79f255b5-c86f-4e98-fcc6-ad352b0c6199"
      },
      "execution_count": 22,
      "outputs": [
        {
          "output_type": "stream",
          "name": "stdout",
          "text": [
            "1/1 [==============================] - 0s 292ms/step\n"
          ]
        },
        {
          "output_type": "execute_result",
          "data": {
            "text/plain": [
              "array([[29.86405]], dtype=float32)"
            ]
          },
          "metadata": {},
          "execution_count": 22
        }
      ]
    },
    {
      "cell_type": "code",
      "source": [
        "model.predict([15.0])"
      ],
      "metadata": {
        "colab": {
          "base_uri": "https://localhost:8080/"
        },
        "id": "9FcP8nZqcai_",
        "outputId": "5120fdd0-711f-48ad-e980-b795a4d6ae17"
      },
      "execution_count": 23,
      "outputs": [
        {
          "output_type": "stream",
          "name": "stdout",
          "text": [
            "1/1 [==============================] - 0s 125ms/step\n"
          ]
        },
        {
          "output_type": "execute_result",
          "data": {
            "text/plain": [
              "array([[26.447104]], dtype=float32)"
            ]
          },
          "metadata": {},
          "execution_count": 23
        }
      ]
    },
    {
      "cell_type": "code",
      "source": [
        "#Let's make another change and see if our model will be improved and give us a better prediction\n",
        "\n",
        "# Create the model and additional 1 more dense layer with 100 neurons with the relu activation function\n",
        "\n",
        "model = tf.keras.Sequential()\n",
        "model.add(tf.keras.layers.Input(shape = (1,)))\n",
        "model.add(tf.keras.layers.Dense(100, activation = \"relu\"))\n",
        "model.add(tf.keras.layers.Dense(1))\n",
        "\n",
        "#Compile the new model with Adam optimizer\n",
        "model.compile(optimizer = tf.keras.optimizers.Adam(learning_rate = 0.01),\n",
        "              loss = tf.keras.losses.mae,\n",
        "              metrics = [\"mae\"])\n",
        "\n",
        "#Fit the model with 100 epochs\n",
        "model.fit(X, y, epochs=100)"
      ],
      "metadata": {
        "id": "hMioTF13cck1",
        "colab": {
          "base_uri": "https://localhost:8080/"
        },
        "outputId": "730008fe-cc62-4681-c899-05800a152e9a"
      },
      "execution_count": 24,
      "outputs": [
        {
          "output_type": "stream",
          "name": "stdout",
          "text": [
            "Epoch 1/100\n",
            "1/1 [==============================] - 1s 1s/step - loss: 12.5271 - mae: 12.5271\n",
            "Epoch 2/100\n",
            "1/1 [==============================] - 0s 21ms/step - loss: 11.5891 - mae: 11.5891\n",
            "Epoch 3/100\n",
            "1/1 [==============================] - 0s 12ms/step - loss: 10.6414 - mae: 10.6414\n",
            "Epoch 4/100\n",
            "1/1 [==============================] - 0s 17ms/step - loss: 9.7012 - mae: 9.7012\n",
            "Epoch 5/100\n",
            "1/1 [==============================] - 0s 21ms/step - loss: 8.7637 - mae: 8.7637\n",
            "Epoch 6/100\n",
            "1/1 [==============================] - 0s 41ms/step - loss: 7.8125 - mae: 7.8125\n",
            "Epoch 7/100\n",
            "1/1 [==============================] - 0s 23ms/step - loss: 6.9461 - mae: 6.9461\n",
            "Epoch 8/100\n",
            "1/1 [==============================] - 0s 24ms/step - loss: 6.1453 - mae: 6.1453\n",
            "Epoch 9/100\n",
            "1/1 [==============================] - 0s 18ms/step - loss: 5.3130 - mae: 5.3130\n",
            "Epoch 10/100\n",
            "1/1 [==============================] - 0s 17ms/step - loss: 4.4497 - mae: 4.4497\n",
            "Epoch 11/100\n",
            "1/1 [==============================] - 0s 22ms/step - loss: 3.8979 - mae: 3.8979\n",
            "Epoch 12/100\n",
            "1/1 [==============================] - 0s 15ms/step - loss: 3.8717 - mae: 3.8717\n",
            "Epoch 13/100\n",
            "1/1 [==============================] - 0s 19ms/step - loss: 4.0351 - mae: 4.0351\n",
            "Epoch 14/100\n",
            "1/1 [==============================] - 0s 20ms/step - loss: 4.3207 - mae: 4.3207\n",
            "Epoch 15/100\n",
            "1/1 [==============================] - 0s 27ms/step - loss: 4.5958 - mae: 4.5958\n",
            "Epoch 16/100\n",
            "1/1 [==============================] - 0s 39ms/step - loss: 4.7578 - mae: 4.7578\n",
            "Epoch 17/100\n",
            "1/1 [==============================] - 0s 37ms/step - loss: 4.8211 - mae: 4.8211\n",
            "Epoch 18/100\n",
            "1/1 [==============================] - 0s 31ms/step - loss: 4.7993 - mae: 4.7993\n",
            "Epoch 19/100\n",
            "1/1 [==============================] - 0s 29ms/step - loss: 4.7055 - mae: 4.7055\n",
            "Epoch 20/100\n",
            "1/1 [==============================] - 0s 23ms/step - loss: 4.5515 - mae: 4.5515\n",
            "Epoch 21/100\n",
            "1/1 [==============================] - 0s 20ms/step - loss: 4.3475 - mae: 4.3475\n",
            "Epoch 22/100\n",
            "1/1 [==============================] - 0s 18ms/step - loss: 4.1029 - mae: 4.1029\n",
            "Epoch 23/100\n",
            "1/1 [==============================] - 0s 18ms/step - loss: 3.8860 - mae: 3.8860\n",
            "Epoch 24/100\n",
            "1/1 [==============================] - 0s 19ms/step - loss: 3.7749 - mae: 3.7749\n",
            "Epoch 25/100\n",
            "1/1 [==============================] - 0s 20ms/step - loss: 3.6637 - mae: 3.6637\n",
            "Epoch 26/100\n",
            "1/1 [==============================] - 0s 20ms/step - loss: 3.5526 - mae: 3.5526\n",
            "Epoch 27/100\n",
            "1/1 [==============================] - 0s 40ms/step - loss: 3.5679 - mae: 3.5679\n",
            "Epoch 28/100\n",
            "1/1 [==============================] - 0s 21ms/step - loss: 3.6277 - mae: 3.6277\n",
            "Epoch 29/100\n",
            "1/1 [==============================] - 0s 25ms/step - loss: 3.6594 - mae: 3.6594\n",
            "Epoch 30/100\n",
            "1/1 [==============================] - 0s 21ms/step - loss: 3.6796 - mae: 3.6796\n",
            "Epoch 31/100\n",
            "1/1 [==============================] - 0s 20ms/step - loss: 3.6240 - mae: 3.6240\n",
            "Epoch 32/100\n",
            "1/1 [==============================] - 0s 22ms/step - loss: 3.5305 - mae: 3.5305\n",
            "Epoch 33/100\n",
            "1/1 [==============================] - 0s 22ms/step - loss: 3.4218 - mae: 3.4218\n",
            "Epoch 34/100\n",
            "1/1 [==============================] - 0s 24ms/step - loss: 3.2971 - mae: 3.2971\n",
            "Epoch 35/100\n",
            "1/1 [==============================] - 0s 33ms/step - loss: 3.1530 - mae: 3.1530\n",
            "Epoch 36/100\n",
            "1/1 [==============================] - 0s 25ms/step - loss: 3.1581 - mae: 3.1581\n",
            "Epoch 37/100\n",
            "1/1 [==============================] - 0s 23ms/step - loss: 3.1488 - mae: 3.1488\n",
            "Epoch 38/100\n",
            "1/1 [==============================] - 0s 27ms/step - loss: 3.1325 - mae: 3.1325\n",
            "Epoch 39/100\n",
            "1/1 [==============================] - 0s 24ms/step - loss: 3.0955 - mae: 3.0955\n",
            "Epoch 40/100\n",
            "1/1 [==============================] - 0s 19ms/step - loss: 3.1134 - mae: 3.1134\n",
            "Epoch 41/100\n",
            "1/1 [==============================] - 0s 28ms/step - loss: 3.0518 - mae: 3.0518\n",
            "Epoch 42/100\n",
            "1/1 [==============================] - 0s 15ms/step - loss: 2.9287 - mae: 2.9287\n",
            "Epoch 43/100\n",
            "1/1 [==============================] - 0s 21ms/step - loss: 2.8334 - mae: 2.8334\n",
            "Epoch 44/100\n",
            "1/1 [==============================] - 0s 25ms/step - loss: 2.7288 - mae: 2.7288\n",
            "Epoch 45/100\n",
            "1/1 [==============================] - 0s 16ms/step - loss: 2.6168 - mae: 2.6168\n",
            "Epoch 46/100\n",
            "1/1 [==============================] - 0s 18ms/step - loss: 2.5021 - mae: 2.5021\n",
            "Epoch 47/100\n",
            "1/1 [==============================] - 0s 20ms/step - loss: 2.3885 - mae: 2.3885\n",
            "Epoch 48/100\n",
            "1/1 [==============================] - 0s 17ms/step - loss: 2.2743 - mae: 2.2743\n",
            "Epoch 49/100\n",
            "1/1 [==============================] - 0s 16ms/step - loss: 2.2038 - mae: 2.2038\n",
            "Epoch 50/100\n",
            "1/1 [==============================] - 0s 36ms/step - loss: 2.1059 - mae: 2.1059\n",
            "Epoch 51/100\n",
            "1/1 [==============================] - 0s 32ms/step - loss: 1.9547 - mae: 1.9547\n",
            "Epoch 52/100\n",
            "1/1 [==============================] - 0s 24ms/step - loss: 1.8394 - mae: 1.8394\n",
            "Epoch 53/100\n",
            "1/1 [==============================] - 0s 21ms/step - loss: 1.7468 - mae: 1.7468\n",
            "Epoch 54/100\n",
            "1/1 [==============================] - 0s 21ms/step - loss: 1.6377 - mae: 1.6377\n",
            "Epoch 55/100\n",
            "1/1 [==============================] - 0s 24ms/step - loss: 1.5085 - mae: 1.5085\n",
            "Epoch 56/100\n",
            "1/1 [==============================] - 0s 24ms/step - loss: 1.3533 - mae: 1.3533\n",
            "Epoch 57/100\n",
            "1/1 [==============================] - 0s 16ms/step - loss: 1.1809 - mae: 1.1809\n",
            "Epoch 58/100\n",
            "1/1 [==============================] - 0s 16ms/step - loss: 1.0058 - mae: 1.0058\n",
            "Epoch 59/100\n",
            "1/1 [==============================] - 0s 29ms/step - loss: 0.8214 - mae: 0.8214\n",
            "Epoch 60/100\n",
            "1/1 [==============================] - 0s 21ms/step - loss: 0.7711 - mae: 0.7711\n",
            "Epoch 61/100\n",
            "1/1 [==============================] - 0s 17ms/step - loss: 0.5052 - mae: 0.5052\n",
            "Epoch 62/100\n",
            "1/1 [==============================] - 0s 19ms/step - loss: 0.4077 - mae: 0.4077\n",
            "Epoch 63/100\n",
            "1/1 [==============================] - 0s 22ms/step - loss: 0.2266 - mae: 0.2266\n",
            "Epoch 64/100\n",
            "1/1 [==============================] - 0s 17ms/step - loss: 0.2731 - mae: 0.2731\n",
            "Epoch 65/100\n",
            "1/1 [==============================] - 0s 32ms/step - loss: 0.2561 - mae: 0.2561\n",
            "Epoch 66/100\n",
            "1/1 [==============================] - 0s 18ms/step - loss: 0.4976 - mae: 0.4976\n",
            "Epoch 67/100\n",
            "1/1 [==============================] - 0s 26ms/step - loss: 0.3988 - mae: 0.3988\n",
            "Epoch 68/100\n",
            "1/1 [==============================] - 0s 31ms/step - loss: 0.5536 - mae: 0.5536\n",
            "Epoch 69/100\n",
            "1/1 [==============================] - 0s 21ms/step - loss: 0.4849 - mae: 0.4849\n",
            "Epoch 70/100\n",
            "1/1 [==============================] - 0s 19ms/step - loss: 0.5142 - mae: 0.5142\n",
            "Epoch 71/100\n",
            "1/1 [==============================] - 0s 15ms/step - loss: 0.5914 - mae: 0.5914\n",
            "Epoch 72/100\n",
            "1/1 [==============================] - 0s 14ms/step - loss: 0.4858 - mae: 0.4858\n",
            "Epoch 73/100\n",
            "1/1 [==============================] - 0s 20ms/step - loss: 0.5067 - mae: 0.5067\n",
            "Epoch 74/100\n",
            "1/1 [==============================] - 0s 31ms/step - loss: 0.4024 - mae: 0.4024\n",
            "Epoch 75/100\n",
            "1/1 [==============================] - 0s 19ms/step - loss: 0.4155 - mae: 0.4155\n",
            "Epoch 76/100\n",
            "1/1 [==============================] - 0s 18ms/step - loss: 0.2807 - mae: 0.2807\n",
            "Epoch 77/100\n",
            "1/1 [==============================] - 0s 28ms/step - loss: 0.3327 - mae: 0.3327\n",
            "Epoch 78/100\n",
            "1/1 [==============================] - 0s 31ms/step - loss: 0.2717 - mae: 0.2717\n",
            "Epoch 79/100\n",
            "1/1 [==============================] - 0s 27ms/step - loss: 0.2680 - mae: 0.2680\n",
            "Epoch 80/100\n",
            "1/1 [==============================] - 0s 23ms/step - loss: 0.2030 - mae: 0.2030\n",
            "Epoch 81/100\n",
            "1/1 [==============================] - 0s 18ms/step - loss: 0.2400 - mae: 0.2400\n",
            "Epoch 82/100\n",
            "1/1 [==============================] - 0s 14ms/step - loss: 0.1970 - mae: 0.1970\n",
            "Epoch 83/100\n",
            "1/1 [==============================] - 0s 15ms/step - loss: 0.2165 - mae: 0.2165\n",
            "Epoch 84/100\n",
            "1/1 [==============================] - 0s 15ms/step - loss: 0.2769 - mae: 0.2769\n",
            "Epoch 85/100\n",
            "1/1 [==============================] - 0s 24ms/step - loss: 0.2536 - mae: 0.2536\n",
            "Epoch 86/100\n",
            "1/1 [==============================] - 0s 33ms/step - loss: 0.1856 - mae: 0.1856\n",
            "Epoch 87/100\n",
            "1/1 [==============================] - 0s 11ms/step - loss: 0.2907 - mae: 0.2907\n",
            "Epoch 88/100\n",
            "1/1 [==============================] - 0s 22ms/step - loss: 0.1835 - mae: 0.1835\n",
            "Epoch 89/100\n",
            "1/1 [==============================] - 0s 14ms/step - loss: 0.3313 - mae: 0.3313\n",
            "Epoch 90/100\n",
            "1/1 [==============================] - 0s 15ms/step - loss: 0.3827 - mae: 0.3827\n",
            "Epoch 91/100\n",
            "1/1 [==============================] - 0s 17ms/step - loss: 0.1881 - mae: 0.1881\n",
            "Epoch 92/100\n",
            "1/1 [==============================] - 0s 16ms/step - loss: 0.3628 - mae: 0.3628\n",
            "Epoch 93/100\n",
            "1/1 [==============================] - 0s 15ms/step - loss: 0.4368 - mae: 0.4368\n",
            "Epoch 94/100\n",
            "1/1 [==============================] - 0s 14ms/step - loss: 0.2960 - mae: 0.2960\n",
            "Epoch 95/100\n",
            "1/1 [==============================] - 0s 16ms/step - loss: 0.2159 - mae: 0.2159\n",
            "Epoch 96/100\n",
            "1/1 [==============================] - 0s 25ms/step - loss: 0.2979 - mae: 0.2979\n",
            "Epoch 97/100\n",
            "1/1 [==============================] - 0s 40ms/step - loss: 0.1552 - mae: 0.1552\n",
            "Epoch 98/100\n",
            "1/1 [==============================] - 0s 20ms/step - loss: 0.2761 - mae: 0.2761\n",
            "Epoch 99/100\n",
            "1/1 [==============================] - 0s 19ms/step - loss: 0.2646 - mae: 0.2646\n",
            "Epoch 100/100\n",
            "1/1 [==============================] - 0s 16ms/step - loss: 0.1634 - mae: 0.1634\n"
          ]
        },
        {
          "output_type": "execute_result",
          "data": {
            "text/plain": [
              "<keras.src.callbacks.History at 0x7d6e5421b070>"
            ]
          },
          "metadata": {},
          "execution_count": 24
        }
      ]
    },
    {
      "cell_type": "code",
      "source": [
        "#Let's predict the same value again\n",
        "model.predict([17.0])"
      ],
      "metadata": {
        "colab": {
          "base_uri": "https://localhost:8080/"
        },
        "id": "nvRopIwplRZk",
        "outputId": "fec41dbf-5316-4968-d752-5daa29850ffa"
      },
      "execution_count": 25,
      "outputs": [
        {
          "output_type": "stream",
          "name": "stdout",
          "text": [
            "1/1 [==============================] - 0s 120ms/step\n"
          ]
        },
        {
          "output_type": "execute_result",
          "data": {
            "text/plain": [
              "array([[27.685938]], dtype=float32)"
            ]
          },
          "metadata": {},
          "execution_count": 25
        }
      ]
    },
    {
      "cell_type": "code",
      "source": [
        "model.predict([15.0])"
      ],
      "metadata": {
        "colab": {
          "base_uri": "https://localhost:8080/"
        },
        "id": "orJX6MbwlbXi",
        "outputId": "8c925b4f-c297-49db-ef82-2463bb677715"
      },
      "execution_count": 26,
      "outputs": [
        {
          "output_type": "stream",
          "name": "stdout",
          "text": [
            "1/1 [==============================] - 0s 139ms/step\n"
          ]
        },
        {
          "output_type": "execute_result",
          "data": {
            "text/plain": [
              "array([[25.569687]], dtype=float32)"
            ]
          },
          "metadata": {},
          "execution_count": 26
        }
      ]
    },
    {
      "cell_type": "markdown",
      "source": [
        "## Evaluating the model\n",
        "\n",
        "It's a good idea to visualize:\n",
        "* The data: what data we're working with? What does it look like?\n",
        "* The model: What does our model look like?\n",
        "* The training of a model: How does a model perform while it learns?\n",
        "* The predictions: How do the predictions of our model line up against the ground truth?\n"
      ],
      "metadata": {
        "id": "QTv82R1RrwXm"
      }
    },
    {
      "cell_type": "code",
      "source": [
        "#Let's make a bigger dataset\n",
        "X = tf.range(-100, 100, 4)\n",
        "X"
      ],
      "metadata": {
        "colab": {
          "base_uri": "https://localhost:8080/"
        },
        "id": "Jje2CQ17lepB",
        "outputId": "996a43c1-6956-4c63-e22c-a64495c41725"
      },
      "execution_count": 27,
      "outputs": [
        {
          "output_type": "execute_result",
          "data": {
            "text/plain": [
              "<tf.Tensor: shape=(50,), dtype=int32, numpy=\n",
              "array([-100,  -96,  -92,  -88,  -84,  -80,  -76,  -72,  -68,  -64,  -60,\n",
              "        -56,  -52,  -48,  -44,  -40,  -36,  -32,  -28,  -24,  -20,  -16,\n",
              "        -12,   -8,   -4,    0,    4,    8,   12,   16,   20,   24,   28,\n",
              "         32,   36,   40,   44,   48,   52,   56,   60,   64,   68,   72,\n",
              "         76,   80,   84,   88,   92,   96], dtype=int32)>"
            ]
          },
          "metadata": {},
          "execution_count": 27
        }
      ]
    },
    {
      "cell_type": "code",
      "source": [
        "y = X + 10\n",
        "y"
      ],
      "metadata": {
        "colab": {
          "base_uri": "https://localhost:8080/"
        },
        "id": "ocP1dlW2vdU6",
        "outputId": "aa5f94b7-8de3-4804-a83f-3a6b233d0775"
      },
      "execution_count": 28,
      "outputs": [
        {
          "output_type": "execute_result",
          "data": {
            "text/plain": [
              "<tf.Tensor: shape=(50,), dtype=int32, numpy=\n",
              "array([-90, -86, -82, -78, -74, -70, -66, -62, -58, -54, -50, -46, -42,\n",
              "       -38, -34, -30, -26, -22, -18, -14, -10,  -6,  -2,   2,   6,  10,\n",
              "        14,  18,  22,  26,  30,  34,  38,  42,  46,  50,  54,  58,  62,\n",
              "        66,  70,  74,  78,  82,  86,  90,  94,  98, 102, 106], dtype=int32)>"
            ]
          },
          "metadata": {},
          "execution_count": 28
        }
      ]
    },
    {
      "cell_type": "code",
      "source": [
        "#Visualize the data\n",
        "plt.scatter(X,y)\n",
        "plt.xlabel(\"Features\")\n",
        "plt.ylabel(\"Labels\")"
      ],
      "metadata": {
        "colab": {
          "base_uri": "https://localhost:8080/",
          "height": 466
        },
        "id": "JpYRD0q-vhUi",
        "outputId": "2acdb312-faa4-444e-d133-c9706b20d94f"
      },
      "execution_count": 29,
      "outputs": [
        {
          "output_type": "execute_result",
          "data": {
            "text/plain": [
              "Text(0, 0.5, 'Labels')"
            ]
          },
          "metadata": {},
          "execution_count": 29
        },
        {
          "output_type": "display_data",
          "data": {
            "text/plain": [
              "<Figure size 640x480 with 1 Axes>"
            ],
            "image/png": "[encoded data removed]"
          },
          "metadata": {}
        }
      ]
    },
    {
      "cell_type": "markdown",
      "source": [
        "### 3 sets of data\n",
        "\n",
        "* **Training set**: the model learnsfrom this data, which is typically 70-80% of the total data.\n",
        "* **Validation set**: the model gets tuned on this data, which is typically 10-15% of the total data.\n",
        "* **Test data**: the model gets evaluated on this data to test what it has learned, this set is typically 10-15% of the total data"
      ],
      "metadata": {
        "id": "6qTVoK4qvzxm"
      }
    },
    {
      "cell_type": "code",
      "source": [
        "#Check how many samples we have\n",
        "len(X)"
      ],
      "metadata": {
        "colab": {
          "base_uri": "https://localhost:8080/"
        },
        "id": "fAjhK-OMyq5a",
        "outputId": "34968d93-a4df-4807-fbc5-555c40e21ad6"
      },
      "execution_count": 30,
      "outputs": [
        {
          "output_type": "execute_result",
          "data": {
            "text/plain": [
              "50"
            ]
          },
          "metadata": {},
          "execution_count": 30
        }
      ]
    },
    {
      "cell_type": "code",
      "source": [
        "# Split the data into train and test sets\n",
        "X_train = X[:40] #80% of the total data\n",
        "y_train = y[:40] #80% of the total label data\n",
        "X_test = X[40:] #20% of the total data\n",
        "y_test = y[40:] #20% of the total label data"
      ],
      "metadata": {
        "id": "2k2yZQhLzimY"
      },
      "execution_count": 31,
      "outputs": []
    },
    {
      "cell_type": "code",
      "source": [
        "len(X_train), len(X_test), len(y_train), len(y_test)"
      ],
      "metadata": {
        "colab": {
          "base_uri": "https://localhost:8080/"
        },
        "id": "2ayXh-wT0OOd",
        "outputId": "689985cc-487a-40b4-ae72-1914402b5ec5"
      },
      "execution_count": 32,
      "outputs": [
        {
          "output_type": "execute_result",
          "data": {
            "text/plain": [
              "(40, 10, 40, 10)"
            ]
          },
          "metadata": {},
          "execution_count": 32
        }
      ]
    },
    {
      "cell_type": "markdown",
      "source": [
        "### Visualize the data\n",
        "Now we've got our train and test data sets. Let's visualize them."
      ],
      "metadata": {
        "id": "Ofn21bBP0uVF"
      }
    },
    {
      "cell_type": "code",
      "source": [
        "plt.figure(figsize=(10,7))\n",
        "plt.scatter(X_train,y_train,c=\"b\",label=\"Training data\")\n",
        "plt.scatter(X_test,y_test,c=\"g\", label=\"Test data\")\n",
        "plt.legend();"
      ],
      "metadata": {
        "colab": {
          "base_uri": "https://localhost:8080/",
          "height": 599
        },
        "id": "yaSPNnBe1Tdx",
        "outputId": "dec9323b-f4e1-4493-9184-dcfb1637c823"
      },
      "execution_count": 33,
      "outputs": [
        {
          "output_type": "display_data",
          "data": {
            "text/plain": [
              "<Figure size 1000x700 with 1 Axes>"
            ],
            "image/png": "[encoded data removed]"
          },
          "metadata": {}
        }
      ]
    },
    {
      "cell_type": "code",
      "source": [
        "# Let's have a look at how to create a neural network for our data\n",
        "tf.random.set_seed(42)\n",
        "#Create a model\n",
        "model = tf.keras.Sequential(name = \"first_neural_network\")\n",
        "model.add(tf.keras.layers.Dense(10, input_shape=[1], name = \"input_layer\"))\n",
        "model.add(tf.keras.layers.Dense(1, name=\"output_layer\"))\n",
        "\n",
        "#Compile our model\n",
        "\n",
        "model.compile(optimizer = tf.keras.optimizers.SGD(),\n",
        "              loss = tf.keras.losses.mae,\n",
        "              metrics = [\"mae\"])"
      ],
      "metadata": {
        "id": "F2pnC-Sy4gzh"
      },
      "execution_count": 34,
      "outputs": []
    },
    {
      "cell_type": "code",
      "source": [
        "model.summary()"
      ],
      "metadata": {
        "colab": {
          "base_uri": "https://localhost:8080/"
        },
        "id": "EALYqRyN2R_S",
        "outputId": "43f9e32c-5fac-4bfd-f746-de8225c8aaee"
      },
      "execution_count": 35,
      "outputs": [
        {
          "output_type": "stream",
          "name": "stdout",
          "text": [
            "Model: \"first_neural_network\"\n",
            "_________________________________________________________________\n",
            " Layer (type)                Output Shape              Param #   \n",
            "=================================================================\n",
            " input_layer (Dense)         (None, 10)                20        \n",
            "                                                                 \n",
            " output_layer (Dense)        (None, 1)                 11        \n",
            "                                                                 \n",
            "=================================================================\n",
            "Total params: 31 (124.00 Byte)\n",
            "Trainable params: 31 (124.00 Byte)\n",
            "Non-trainable params: 0 (0.00 Byte)\n",
            "_________________________________________________________________\n"
          ]
        }
      ]
    },
    {
      "cell_type": "code",
      "source": [
        "model.fit(X,y,epochs=100,verbose=1)"
      ],
      "metadata": {
        "colab": {
          "base_uri": "https://localhost:8080/"
        },
        "id": "sH9JikQL9rwc",
        "outputId": "d48117dc-d4a4-4a3c-ac0d-18bcedbdbdb0"
      },
      "execution_count": 36,
      "outputs": [
        {
          "output_type": "stream",
          "name": "stdout",
          "text": [
            "Epoch 1/100\n",
            "2/2 [==============================] - 1s 27ms/step - loss: 64.6418 - mae: 64.6418\n",
            "Epoch 2/100\n",
            "2/2 [==============================] - 0s 14ms/step - loss: 33.7576 - mae: 33.7576\n",
            "Epoch 3/100\n",
            "2/2 [==============================] - 0s 8ms/step - loss: 31.1374 - mae: 31.1374\n",
            "Epoch 4/100\n",
            "2/2 [==============================] - 0s 24ms/step - loss: 26.7675 - mae: 26.7675\n",
            "Epoch 5/100\n",
            "2/2 [==============================] - 0s 8ms/step - loss: 24.7743 - mae: 24.7743\n",
            "Epoch 6/100\n",
            "2/2 [==============================] - 0s 10ms/step - loss: 20.4187 - mae: 20.4187\n",
            "Epoch 7/100\n",
            "2/2 [==============================] - 0s 11ms/step - loss: 21.2543 - mae: 21.2543\n",
            "Epoch 8/100\n",
            "2/2 [==============================] - 0s 9ms/step - loss: 15.8214 - mae: 15.8214\n",
            "Epoch 9/100\n",
            "2/2 [==============================] - 0s 9ms/step - loss: 30.4607 - mae: 30.4607\n",
            "Epoch 10/100\n",
            "2/2 [==============================] - 0s 11ms/step - loss: 19.9005 - mae: 19.9005\n",
            "Epoch 11/100\n",
            "2/2 [==============================] - 0s 8ms/step - loss: 19.2467 - mae: 19.2467\n",
            "Epoch 12/100\n",
            "2/2 [==============================] - 0s 12ms/step - loss: 21.4720 - mae: 21.4720\n",
            "Epoch 13/100\n",
            "2/2 [==============================] - 0s 12ms/step - loss: 14.1322 - mae: 14.1322\n",
            "Epoch 14/100\n",
            "2/2 [==============================] - 0s 12ms/step - loss: 21.1085 - mae: 21.1085\n",
            "Epoch 15/100\n",
            "2/2 [==============================] - 0s 18ms/step - loss: 19.8254 - mae: 19.8254\n",
            "Epoch 16/100\n",
            "2/2 [==============================] - 0s 16ms/step - loss: 23.2691 - mae: 23.2691\n",
            "Epoch 17/100\n",
            "2/2 [==============================] - 0s 13ms/step - loss: 11.4994 - mae: 11.4994\n",
            "Epoch 18/100\n",
            "2/2 [==============================] - 0s 9ms/step - loss: 29.5434 - mae: 29.5434\n",
            "Epoch 19/100\n",
            "2/2 [==============================] - 0s 9ms/step - loss: 18.4112 - mae: 18.4112\n",
            "Epoch 20/100\n",
            "2/2 [==============================] - 0s 13ms/step - loss: 18.7986 - mae: 18.7986\n",
            "Epoch 21/100\n",
            "2/2 [==============================] - 0s 8ms/step - loss: 19.4529 - mae: 19.4529\n",
            "Epoch 22/100\n",
            "2/2 [==============================] - 0s 8ms/step - loss: 20.6272 - mae: 20.6272\n",
            "Epoch 23/100\n",
            "2/2 [==============================] - 0s 8ms/step - loss: 19.8485 - mae: 19.8485\n",
            "Epoch 24/100\n",
            "2/2 [==============================] - 0s 11ms/step - loss: 18.7079 - mae: 18.7079\n",
            "Epoch 25/100\n",
            "2/2 [==============================] - 0s 23ms/step - loss: 21.8904 - mae: 21.8904\n",
            "Epoch 26/100\n",
            "2/2 [==============================] - 0s 10ms/step - loss: 10.7673 - mae: 10.7673\n",
            "Epoch 27/100\n",
            "2/2 [==============================] - 0s 15ms/step - loss: 30.5315 - mae: 30.5315\n",
            "Epoch 28/100\n",
            "2/2 [==============================] - 0s 18ms/step - loss: 16.4990 - mae: 16.4990\n",
            "Epoch 29/100\n",
            "2/2 [==============================] - 0s 14ms/step - loss: 33.1408 - mae: 33.1408\n",
            "Epoch 30/100\n",
            "2/2 [==============================] - 0s 11ms/step - loss: 19.4439 - mae: 19.4439\n",
            "Epoch 31/100\n",
            "2/2 [==============================] - 0s 23ms/step - loss: 12.5106 - mae: 12.5106\n",
            "Epoch 32/100\n",
            "2/2 [==============================] - 0s 18ms/step - loss: 20.7338 - mae: 20.7338\n",
            "Epoch 33/100\n",
            "2/2 [==============================] - 0s 14ms/step - loss: 20.6720 - mae: 20.6720\n",
            "Epoch 34/100\n",
            "2/2 [==============================] - 0s 36ms/step - loss: 21.2229 - mae: 21.2229\n",
            "Epoch 35/100\n",
            "2/2 [==============================] - 0s 14ms/step - loss: 21.3966 - mae: 21.3966\n",
            "Epoch 36/100\n",
            "2/2 [==============================] - 0s 13ms/step - loss: 19.8965 - mae: 19.8965\n",
            "Epoch 37/100\n",
            "2/2 [==============================] - 0s 11ms/step - loss: 26.8016 - mae: 26.8016\n",
            "Epoch 38/100\n",
            "2/2 [==============================] - 0s 22ms/step - loss: 27.3936 - mae: 27.3936\n",
            "Epoch 39/100\n",
            "2/2 [==============================] - 0s 10ms/step - loss: 20.6423 - mae: 20.6423\n",
            "Epoch 40/100\n",
            "2/2 [==============================] - 0s 24ms/step - loss: 22.0371 - mae: 22.0371\n",
            "Epoch 41/100\n",
            "2/2 [==============================] - 0s 9ms/step - loss: 40.1599 - mae: 40.1599\n",
            "Epoch 42/100\n",
            "2/2 [==============================] - 0s 10ms/step - loss: 17.0126 - mae: 17.0126\n",
            "Epoch 43/100\n",
            "2/2 [==============================] - 0s 15ms/step - loss: 23.2579 - mae: 23.2579\n",
            "Epoch 44/100\n",
            "2/2 [==============================] - 0s 9ms/step - loss: 9.8807 - mae: 9.8807\n",
            "Epoch 45/100\n",
            "2/2 [==============================] - 0s 18ms/step - loss: 21.8522 - mae: 21.8522\n",
            "Epoch 46/100\n",
            "2/2 [==============================] - 0s 17ms/step - loss: 9.2057 - mae: 9.2057\n",
            "Epoch 47/100\n",
            "2/2 [==============================] - 0s 19ms/step - loss: 9.0978 - mae: 9.0978\n",
            "Epoch 48/100\n",
            "2/2 [==============================] - 0s 17ms/step - loss: 17.2721 - mae: 17.2721\n",
            "Epoch 49/100\n",
            "2/2 [==============================] - 0s 11ms/step - loss: 24.2751 - mae: 24.2751\n",
            "Epoch 50/100\n",
            "2/2 [==============================] - 0s 16ms/step - loss: 18.5925 - mae: 18.5925\n",
            "Epoch 51/100\n",
            "2/2 [==============================] - 0s 12ms/step - loss: 15.5850 - mae: 15.5850\n",
            "Epoch 52/100\n",
            "2/2 [==============================] - 0s 17ms/step - loss: 34.1115 - mae: 34.1115\n",
            "Epoch 53/100\n",
            "2/2 [==============================] - 0s 14ms/step - loss: 11.0485 - mae: 11.0485\n",
            "Epoch 54/100\n",
            "2/2 [==============================] - 0s 15ms/step - loss: 39.8208 - mae: 39.8208\n",
            "Epoch 55/100\n",
            "2/2 [==============================] - 0s 10ms/step - loss: 11.8737 - mae: 11.8737\n",
            "Epoch 56/100\n",
            "2/2 [==============================] - 0s 12ms/step - loss: 27.0138 - mae: 27.0138\n",
            "Epoch 57/100\n",
            "2/2 [==============================] - 0s 22ms/step - loss: 24.5026 - mae: 24.5026\n",
            "Epoch 58/100\n",
            "2/2 [==============================] - 0s 21ms/step - loss: 14.7439 - mae: 14.7439\n",
            "Epoch 59/100\n",
            "2/2 [==============================] - 0s 16ms/step - loss: 25.6881 - mae: 25.6881\n",
            "Epoch 60/100\n",
            "2/2 [==============================] - 0s 17ms/step - loss: 28.0514 - mae: 28.0514\n",
            "Epoch 61/100\n",
            "2/2 [==============================] - 0s 20ms/step - loss: 12.2145 - mae: 12.2145\n",
            "Epoch 62/100\n",
            "2/2 [==============================] - 0s 21ms/step - loss: 29.3460 - mae: 29.3460\n",
            "Epoch 63/100\n",
            "2/2 [==============================] - 0s 15ms/step - loss: 10.8134 - mae: 10.8134\n",
            "Epoch 64/100\n",
            "2/2 [==============================] - 0s 20ms/step - loss: 18.6972 - mae: 18.6972\n",
            "Epoch 65/100\n",
            "2/2 [==============================] - 0s 18ms/step - loss: 12.0761 - mae: 12.0761\n",
            "Epoch 66/100\n",
            "2/2 [==============================] - 0s 20ms/step - loss: 9.1890 - mae: 9.1890\n",
            "Epoch 67/100\n",
            "2/2 [==============================] - 0s 32ms/step - loss: 9.2083 - mae: 9.2083\n",
            "Epoch 68/100\n",
            "2/2 [==============================] - 0s 22ms/step - loss: 9.5798 - mae: 9.5798\n",
            "Epoch 69/100\n",
            "2/2 [==============================] - 0s 15ms/step - loss: 27.7586 - mae: 27.7586\n",
            "Epoch 70/100\n",
            "2/2 [==============================] - 0s 8ms/step - loss: 21.2873 - mae: 21.2873\n",
            "Epoch 71/100\n",
            "2/2 [==============================] - 0s 23ms/step - loss: 20.1687 - mae: 20.1687\n",
            "Epoch 72/100\n",
            "2/2 [==============================] - 0s 15ms/step - loss: 23.8294 - mae: 23.8294\n",
            "Epoch 73/100\n",
            "2/2 [==============================] - 0s 23ms/step - loss: 35.9059 - mae: 35.9059\n",
            "Epoch 74/100\n",
            "2/2 [==============================] - 0s 19ms/step - loss: 16.4604 - mae: 16.4604\n",
            "Epoch 75/100\n",
            "2/2 [==============================] - 0s 15ms/step - loss: 29.9900 - mae: 29.9900\n",
            "Epoch 76/100\n",
            "2/2 [==============================] - 0s 16ms/step - loss: 24.8405 - mae: 24.8405\n",
            "Epoch 77/100\n",
            "2/2 [==============================] - 0s 8ms/step - loss: 17.8750 - mae: 17.8750\n",
            "Epoch 78/100\n",
            "2/2 [==============================] - 0s 9ms/step - loss: 23.0509 - mae: 23.0509\n",
            "Epoch 79/100\n",
            "2/2 [==============================] - 0s 21ms/step - loss: 9.1943 - mae: 9.1943\n",
            "Epoch 80/100\n",
            "2/2 [==============================] - 0s 19ms/step - loss: 18.4845 - mae: 18.4845\n",
            "Epoch 81/100\n",
            "2/2 [==============================] - 0s 26ms/step - loss: 23.2107 - mae: 23.2107\n",
            "Epoch 82/100\n",
            "2/2 [==============================] - 0s 17ms/step - loss: 26.5491 - mae: 26.5491\n",
            "Epoch 83/100\n",
            "2/2 [==============================] - 0s 13ms/step - loss: 20.4786 - mae: 20.4786\n",
            "Epoch 84/100\n",
            "2/2 [==============================] - 0s 18ms/step - loss: 22.4987 - mae: 22.4987\n",
            "Epoch 85/100\n",
            "2/2 [==============================] - 0s 16ms/step - loss: 16.0622 - mae: 16.0622\n",
            "Epoch 86/100\n",
            "2/2 [==============================] - 0s 15ms/step - loss: 21.5940 - mae: 21.5940\n",
            "Epoch 87/100\n",
            "2/2 [==============================] - 0s 23ms/step - loss: 16.0724 - mae: 16.0724\n",
            "Epoch 88/100\n",
            "2/2 [==============================] - 0s 12ms/step - loss: 19.6275 - mae: 19.6275\n",
            "Epoch 89/100\n",
            "2/2 [==============================] - 0s 14ms/step - loss: 19.4198 - mae: 19.4198\n",
            "Epoch 90/100\n",
            "2/2 [==============================] - 0s 16ms/step - loss: 37.3830 - mae: 37.3830\n",
            "Epoch 91/100\n",
            "2/2 [==============================] - 0s 11ms/step - loss: 17.6360 - mae: 17.6360\n",
            "Epoch 92/100\n",
            "2/2 [==============================] - 0s 10ms/step - loss: 20.1567 - mae: 20.1567\n",
            "Epoch 93/100\n",
            "2/2 [==============================] - 0s 9ms/step - loss: 21.9402 - mae: 21.9402\n",
            "Epoch 94/100\n",
            "2/2 [==============================] - 0s 10ms/step - loss: 24.5826 - mae: 24.5826\n",
            "Epoch 95/100\n",
            "2/2 [==============================] - 0s 25ms/step - loss: 29.4612 - mae: 29.4612\n",
            "Epoch 96/100\n",
            "2/2 [==============================] - 0s 13ms/step - loss: 20.5984 - mae: 20.5984\n",
            "Epoch 97/100\n",
            "2/2 [==============================] - 0s 21ms/step - loss: 21.4498 - mae: 21.4498\n",
            "Epoch 98/100\n",
            "2/2 [==============================] - 0s 17ms/step - loss: 12.8895 - mae: 12.8895\n",
            "Epoch 99/100\n",
            "2/2 [==============================] - 0s 15ms/step - loss: 16.2246 - mae: 16.2246\n",
            "Epoch 100/100\n",
            "2/2 [==============================] - 0s 29ms/step - loss: 20.5617 - mae: 20.5617\n"
          ]
        },
        {
          "output_type": "execute_result",
          "data": {
            "text/plain": [
              "<keras.src.callbacks.History at 0x7d6e544326e0>"
            ]
          },
          "metadata": {},
          "execution_count": 36
        }
      ]
    },
    {
      "cell_type": "code",
      "source": [
        "model.summary()"
      ],
      "metadata": {
        "colab": {
          "base_uri": "https://localhost:8080/"
        },
        "id": "H5YnxISoGxyC",
        "outputId": "31b04efb-3fbe-478a-ca9a-680e9318c8d3"
      },
      "execution_count": 37,
      "outputs": [
        {
          "output_type": "stream",
          "name": "stdout",
          "text": [
            "Model: \"first_neural_network\"\n",
            "_________________________________________________________________\n",
            " Layer (type)                Output Shape              Param #   \n",
            "=================================================================\n",
            " input_layer (Dense)         (None, 10)                20        \n",
            "                                                                 \n",
            " output_layer (Dense)        (None, 1)                 11        \n",
            "                                                                 \n",
            "=================================================================\n",
            "Total params: 31 (124.00 Byte)\n",
            "Trainable params: 31 (124.00 Byte)\n",
            "Non-trainable params: 0 (0.00 Byte)\n",
            "_________________________________________________________________\n"
          ]
        }
      ]
    },
    {
      "cell_type": "code",
      "source": [
        "from tensorflow.keras.utils import plot_model\n",
        "plot_model(model,show_shapes = True)"
      ],
      "metadata": {
        "colab": {
          "base_uri": "https://localhost:8080/",
          "height": 312
        },
        "id": "fEOoV1cKHXh2",
        "outputId": "ec659502-84d0-4eee-888d-e5d67ca95192"
      },
      "execution_count": 38,
      "outputs": [
        {
          "output_type": "execute_result",
          "data": {
            "image/png": "[encoded data removed]",
            "text/plain": [
              "<IPython.core.display.Image object>"
            ]
          },
          "metadata": {},
          "execution_count": 38
        }
      ]
    },
    {
      "cell_type": "markdown",
      "source": [
        "###Visualizing our model's prediction"
      ],
      "metadata": {
        "id": "XagJN1COI_LG"
      }
    },
    {
      "cell_type": "code",
      "source": [
        "#Let's make some predictions\n",
        "y_pred = model.predict(X_test)\n",
        "y_pred"
      ],
      "metadata": {
        "colab": {
          "base_uri": "https://localhost:8080/"
        },
        "id": "YgLggq5VQFzN",
        "outputId": "1b8d031e-0586-4a9a-920d-813c3b7ab9c2"
      },
      "execution_count": 39,
      "outputs": [
        {
          "output_type": "stream",
          "name": "stdout",
          "text": [
            "1/1 [==============================] - 0s 358ms/step\n"
          ]
        },
        {
          "output_type": "execute_result",
          "data": {
            "text/plain": [
              "array([[42.16835 ],\n",
              "       [44.88318 ],\n",
              "       [47.598003],\n",
              "       [50.312836],\n",
              "       [53.02766 ],\n",
              "       [55.74249 ],\n",
              "       [58.457317],\n",
              "       [61.17215 ],\n",
              "       [63.886974],\n",
              "       [66.60181 ]], dtype=float32)"
            ]
          },
          "metadata": {},
          "execution_count": 39
        }
      ]
    },
    {
      "cell_type": "code",
      "source": [
        "y_test"
      ],
      "metadata": {
        "colab": {
          "base_uri": "https://localhost:8080/"
        },
        "id": "pSalCXJkQuB6",
        "outputId": "2c84b5ab-82ed-4da4-98ed-54a18f245d88"
      },
      "execution_count": 40,
      "outputs": [
        {
          "output_type": "execute_result",
          "data": {
            "text/plain": [
              "<tf.Tensor: shape=(10,), dtype=int32, numpy=array([ 70,  74,  78,  82,  86,  90,  94,  98, 102, 106], dtype=int32)>"
            ]
          },
          "metadata": {},
          "execution_count": 40
        }
      ]
    },
    {
      "cell_type": "code",
      "source": [
        "#Let's create a plotting function\n",
        "def plot_predictions(train_data = X_train,\n",
        "                     train_labels = y_train,\n",
        "                     test_data = X_test,\n",
        "                     test_labels = y_test,\n",
        "                     predictions = y_pred):\n",
        "  \"\"\"\n",
        "  Plots training data, test data and compares predictions to ground truth labels.\n",
        "  \"\"\"\n",
        "\n",
        "  plt.figure(figsize = (10,7))\n",
        "  #Plot training data in blue\n",
        "  plt.scatter(train_data, train_labels, c=\"b\", label = \"Training data\")\n",
        "  #Plot test data in green\n",
        "  plt.scatter(test_data, test_labels, c=\"g\", label = \"Test data\")\n",
        "  #Plot predictions in red color\n",
        "  plt.scatter(test_data, predictions, c=\"r\",label = \"Predictions\")\n",
        "  plt.xlabel(\"Features\")\n",
        "  plt.ylabel(\"Labels\")\n",
        "  plt.legend()"
      ],
      "metadata": {
        "id": "v-yR_fktQ6nJ"
      },
      "execution_count": 41,
      "outputs": []
    },
    {
      "cell_type": "code",
      "source": [
        "plot_predictions(X_train,y_train,X_test,y_test,y_pred)"
      ],
      "metadata": {
        "colab": {
          "base_uri": "https://localhost:8080/",
          "height": 619
        },
        "id": "rzF1AYGDUO0b",
        "outputId": "5dbd23f7-571c-47f2-951a-b6fb2f50c7f1"
      },
      "execution_count": 42,
      "outputs": [
        {
          "output_type": "display_data",
          "data": {
            "text/plain": [
              "<Figure size 1000x700 with 1 Axes>"
            ],
            "image/png": "[encoded data removed]"
          },
          "metadata": {}
        }
      ]
    },
    {
      "cell_type": "markdown",
      "source": [
        "###Evaulating our model's prediction withe regression evaulation metrics\n",
        "\n",
        "Depending on the problem you're working on, there will be different evaluation metrics to evaluate your model's performance.\n",
        "\n",
        "Since we're working on a regression problem, there are two evaluation metrics:\n",
        "* **MAE**: Mean Absolute Error\n",
        "* **MSE**: Mean Squared Error"
      ],
      "metadata": {
        "id": "6RJ0C3C2Ut3P"
      }
    },
    {
      "cell_type": "code",
      "source": [
        "model.evaluate(X_test, y_test)"
      ],
      "metadata": {
        "colab": {
          "base_uri": "https://localhost:8080/"
        },
        "id": "pPwqxYptXz14",
        "outputId": "949a8f32-953f-47f9-fea1-7d72ac186ed6"
      },
      "execution_count": 43,
      "outputs": [
        {
          "output_type": "stream",
          "name": "stdout",
          "text": [
            "1/1 [==============================] - 0s 372ms/step - loss: 33.6149 - mae: 33.6149\n"
          ]
        },
        {
          "output_type": "execute_result",
          "data": {
            "text/plain": [
              "[33.61492156982422, 33.61492156982422]"
            ]
          },
          "metadata": {},
          "execution_count": 43
        }
      ]
    },
    {
      "cell_type": "code",
      "source": [
        "y_pred"
      ],
      "metadata": {
        "colab": {
          "base_uri": "https://localhost:8080/"
        },
        "id": "WX-3TXRWbdQF",
        "outputId": "85f7b5bb-bf90-42f3-f3ba-6587b259bd92"
      },
      "execution_count": 44,
      "outputs": [
        {
          "output_type": "execute_result",
          "data": {
            "text/plain": [
              "array([[42.16835 ],\n",
              "       [44.88318 ],\n",
              "       [47.598003],\n",
              "       [50.312836],\n",
              "       [53.02766 ],\n",
              "       [55.74249 ],\n",
              "       [58.457317],\n",
              "       [61.17215 ],\n",
              "       [63.886974],\n",
              "       [66.60181 ]], dtype=float32)"
            ]
          },
          "metadata": {},
          "execution_count": 44
        }
      ]
    },
    {
      "cell_type": "code",
      "source": [
        "y_test"
      ],
      "metadata": {
        "colab": {
          "base_uri": "https://localhost:8080/"
        },
        "id": "CUtw5nT3bitC",
        "outputId": "1fbfa509-ac8f-41ab-8ba3-2b3125824cea"
      },
      "execution_count": 45,
      "outputs": [
        {
          "output_type": "execute_result",
          "data": {
            "text/plain": [
              "<tf.Tensor: shape=(10,), dtype=int32, numpy=array([ 70,  74,  78,  82,  86,  90,  94,  98, 102, 106], dtype=int32)>"
            ]
          },
          "metadata": {},
          "execution_count": 45
        }
      ]
    },
    {
      "cell_type": "code",
      "source": [
        "#Calculate the Mean Absolute Error\n",
        "mae = tf.keras.metrics.mean_absolute_error(y_test,y_pred)\n",
        "mae"
      ],
      "metadata": {
        "colab": {
          "base_uri": "https://localhost:8080/"
        },
        "id": "22LXLPpqbj-T",
        "outputId": "6c4cf0f9-0167-4a01-8cf7-4db33f501a27"
      },
      "execution_count": 46,
      "outputs": [
        {
          "output_type": "execute_result",
          "data": {
            "text/plain": [
              "<tf.Tensor: shape=(10,), dtype=float32, numpy=\n",
              "array([45.83165 , 43.11682 , 40.401997, 37.687164, 34.97234 , 32.25751 ,\n",
              "       29.542683, 26.82785 , 24.113026, 21.398193], dtype=float32)>"
            ]
          },
          "metadata": {},
          "execution_count": 46
        }
      ]
    },
    {
      "cell_type": "code",
      "source": [
        "#Calculate Mean Square Error\n",
        "mse = tf.keras.metrics.mean_squared_error(y_true= y_test, y_pred=y_pred)\n",
        "mse"
      ],
      "metadata": {
        "colab": {
          "base_uri": "https://localhost:8080/"
        },
        "id": "Yr69WNvKc4dm",
        "outputId": "09ef76ec-8dc9-4a38-c17d-badf4a28eb62"
      },
      "execution_count": 47,
      "outputs": [
        {
          "output_type": "execute_result",
          "data": {
            "text/plain": [
              "<tf.Tensor: shape=(10,), dtype=float32, numpy=\n",
              "array([2232.5403 , 1991.0603 , 1764.3215 , 1552.3224 , 1355.0647 ,\n",
              "       1172.5471 , 1004.77014,  851.7335 ,  713.43805,  589.8827 ],\n",
              "      dtype=float32)>"
            ]
          },
          "metadata": {},
          "execution_count": 47
        }
      ]
    },
    {
      "cell_type": "code",
      "source": [
        "y_pred = tf.constant(y_pred)"
      ],
      "metadata": {
        "id": "x_NqrPJodEIN"
      },
      "execution_count": 48,
      "outputs": []
    },
    {
      "cell_type": "code",
      "source": [
        "y_pred"
      ],
      "metadata": {
        "colab": {
          "base_uri": "https://localhost:8080/"
        },
        "id": "aD2lG1c4fL_s",
        "outputId": "9c7298e4-408f-449f-b814-ec74aafd3cc3"
      },
      "execution_count": 49,
      "outputs": [
        {
          "output_type": "execute_result",
          "data": {
            "text/plain": [
              "<tf.Tensor: shape=(10, 1), dtype=float32, numpy=\n",
              "array([[42.16835 ],\n",
              "       [44.88318 ],\n",
              "       [47.598003],\n",
              "       [50.312836],\n",
              "       [53.02766 ],\n",
              "       [55.74249 ],\n",
              "       [58.457317],\n",
              "       [61.17215 ],\n",
              "       [63.886974],\n",
              "       [66.60181 ]], dtype=float32)>"
            ]
          },
          "metadata": {},
          "execution_count": 49
        }
      ]
    },
    {
      "cell_type": "code",
      "source": [
        "mae = tf.keras.metrics.mean_absolute_error(y_test,y_pred)\n",
        "mae"
      ],
      "metadata": {
        "colab": {
          "base_uri": "https://localhost:8080/"
        },
        "id": "6k67-AGgfNEp",
        "outputId": "fa767211-f7cc-4ab8-ef6b-8a0de7cebf93"
      },
      "execution_count": 50,
      "outputs": [
        {
          "output_type": "execute_result",
          "data": {
            "text/plain": [
              "<tf.Tensor: shape=(10,), dtype=float32, numpy=\n",
              "array([45.83165 , 43.11682 , 40.401997, 37.687164, 34.97234 , 32.25751 ,\n",
              "       29.542683, 26.82785 , 24.113026, 21.398193], dtype=float32)>"
            ]
          },
          "metadata": {},
          "execution_count": 50
        }
      ]
    },
    {
      "cell_type": "code",
      "source": [
        "tf.squeeze(y_pred)"
      ],
      "metadata": {
        "colab": {
          "base_uri": "https://localhost:8080/"
        },
        "id": "F4wZ4JSKfV8p",
        "outputId": "f682bb4a-082b-4297-e013-c2fd3f51705f"
      },
      "execution_count": 51,
      "outputs": [
        {
          "output_type": "execute_result",
          "data": {
            "text/plain": [
              "<tf.Tensor: shape=(10,), dtype=float32, numpy=\n",
              "array([42.16835 , 44.88318 , 47.598003, 50.312836, 53.02766 , 55.74249 ,\n",
              "       58.457317, 61.17215 , 63.886974, 66.60181 ], dtype=float32)>"
            ]
          },
          "metadata": {},
          "execution_count": 51
        }
      ]
    },
    {
      "cell_type": "code",
      "source": [
        "mae = tf.keras.metrics.mean_absolute_error(y_test, tf.squeeze(y_pred))\n",
        "mae"
      ],
      "metadata": {
        "colab": {
          "base_uri": "https://localhost:8080/"
        },
        "id": "wjCw7OgPgP6Z",
        "outputId": "8917ec82-90b1-4d3b-9071-47cd3e37ff3f"
      },
      "execution_count": 52,
      "outputs": [
        {
          "output_type": "execute_result",
          "data": {
            "text/plain": [
              "<tf.Tensor: shape=(), dtype=float32, numpy=33.61492>"
            ]
          },
          "metadata": {},
          "execution_count": 52
        }
      ]
    },
    {
      "cell_type": "code",
      "source": [
        "mse = tf.keras.metrics.mean_squared_error(y_true = y_test, y_pred = tf.squeeze(y_pred))\n",
        "mse"
      ],
      "metadata": {
        "colab": {
          "base_uri": "https://localhost:8080/"
        },
        "id": "fse1ATRHgnUJ",
        "outputId": "6187ea02-1dfa-4f60-ff0f-6342b5318510"
      },
      "execution_count": 53,
      "outputs": [
        {
          "output_type": "execute_result",
          "data": {
            "text/plain": [
              "<tf.Tensor: shape=(), dtype=float32, numpy=1143.5894>"
            ]
          },
          "metadata": {},
          "execution_count": 53
        }
      ]
    },
    {
      "cell_type": "markdown",
      "source": [
        "###Running experiments to improve our model\n",
        "1. Get more data - get more examples for your model to understand the patterns between feature and label datas.\n",
        "2. Make your model larger or in other words increase the complexity. This can be adding more layers or adding more perceptrons which means hidden units or neurons.\n",
        "3. Train for longer. Increase the epochs number and model will be trained better to understand the patterns in the data.\n"
      ],
      "metadata": {
        "id": "NEMkNsFkhNEZ"
      }
    },
    {
      "cell_type": "code",
      "source": [
        "X_train, y_train"
      ],
      "metadata": {
        "colab": {
          "base_uri": "https://localhost:8080/"
        },
        "id": "LWLnox2BmgH3",
        "outputId": "192d576b-316c-4153-ae5d-89c4403c4efb"
      },
      "execution_count": 54,
      "outputs": [
        {
          "output_type": "execute_result",
          "data": {
            "text/plain": [
              "(<tf.Tensor: shape=(40,), dtype=int32, numpy=\n",
              " array([-100,  -96,  -92,  -88,  -84,  -80,  -76,  -72,  -68,  -64,  -60,\n",
              "         -56,  -52,  -48,  -44,  -40,  -36,  -32,  -28,  -24,  -20,  -16,\n",
              "         -12,   -8,   -4,    0,    4,    8,   12,   16,   20,   24,   28,\n",
              "          32,   36,   40,   44,   48,   52,   56], dtype=int32)>,\n",
              " <tf.Tensor: shape=(40,), dtype=int32, numpy=\n",
              " array([-90, -86, -82, -78, -74, -70, -66, -62, -58, -54, -50, -46, -42,\n",
              "        -38, -34, -30, -26, -22, -18, -14, -10,  -6,  -2,   2,   6,  10,\n",
              "         14,  18,  22,  26,  30,  34,  38,  42,  46,  50,  54,  58,  62,\n",
              "         66], dtype=int32)>)"
            ]
          },
          "metadata": {},
          "execution_count": 54
        }
      ]
    },
    {
      "cell_type": "markdown",
      "source": [
        "1. `model_1`: same model as the original one but this time train 100 epochs.\n",
        "\n",
        "2. `model_2`: 2 layers, train 100 epochs\n",
        "\n",
        "3. `model_3`: 2 layers, train 500 epochs\n"
      ],
      "metadata": {
        "id": "AnkpwzYoncYk"
      }
    },
    {
      "cell_type": "markdown",
      "source": [
        "###**Build model_1**:"
      ],
      "metadata": {
        "id": "ri_gMVF3noJ0"
      }
    },
    {
      "cell_type": "code",
      "source": [
        "tf.random.set_seed(42)\n",
        "\n",
        "#Create the model\n",
        "model_1 = tf.keras.Sequential(name = \"model_1\")\n",
        "model_1.add(tf.keras.layers.Input(shape = (1,)))\n",
        "model_1.add(tf.keras.layers.Dense(1))\n",
        "\n",
        "\n",
        "#Compile the model\n",
        "model_1.compile(optimizer = tf.keras.optimizers.SGD(),\n",
        "                loss = tf.keras.losses.mae,\n",
        "                metrics = [\"mae\"])\n",
        "\n",
        "#Fit the model\n",
        "model_1.fit(X_train,y_train, epochs = 100)"
      ],
      "metadata": {
        "colab": {
          "base_uri": "https://localhost:8080/"
        },
        "id": "2tSN0eOloHZL",
        "outputId": "e414b092-511c-4d4b-9e29-a1615798790b"
      },
      "execution_count": 55,
      "outputs": [
        {
          "output_type": "stream",
          "name": "stdout",
          "text": [
            "Epoch 1/100\n",
            "2/2 [==============================] - 1s 14ms/step - loss: 60.2738 - mae: 60.2738\n",
            "Epoch 2/100\n",
            "2/2 [==============================] - 0s 8ms/step - loss: 25.5251 - mae: 25.5251\n",
            "Epoch 3/100\n",
            "2/2 [==============================] - 0s 18ms/step - loss: 10.7824 - mae: 10.7824\n",
            "Epoch 4/100\n",
            "2/2 [==============================] - 0s 8ms/step - loss: 11.2419 - mae: 11.2419\n",
            "Epoch 5/100\n",
            "2/2 [==============================] - 0s 8ms/step - loss: 12.4667 - mae: 12.4667\n",
            "Epoch 6/100\n",
            "2/2 [==============================] - 0s 12ms/step - loss: 9.6456 - mae: 9.6456\n",
            "Epoch 7/100\n",
            "2/2 [==============================] - 0s 9ms/step - loss: 8.7524 - mae: 8.7524\n",
            "Epoch 8/100\n",
            "2/2 [==============================] - 0s 9ms/step - loss: 9.0735 - mae: 9.0735\n",
            "Epoch 9/100\n",
            "2/2 [==============================] - 0s 10ms/step - loss: 19.1799 - mae: 19.1799\n",
            "Epoch 10/100\n",
            "2/2 [==============================] - 0s 14ms/step - loss: 10.3629 - mae: 10.3629\n",
            "Epoch 11/100\n",
            "2/2 [==============================] - 0s 8ms/step - loss: 8.5037 - mae: 8.5037\n",
            "Epoch 12/100\n",
            "2/2 [==============================] - 0s 8ms/step - loss: 10.8658 - mae: 10.8658\n",
            "Epoch 13/100\n",
            "2/2 [==============================] - 0s 9ms/step - loss: 9.9110 - mae: 9.9110\n",
            "Epoch 14/100\n",
            "2/2 [==============================] - 0s 9ms/step - loss: 12.1313 - mae: 12.1313\n",
            "Epoch 15/100\n",
            "2/2 [==============================] - 0s 8ms/step - loss: 12.3686 - mae: 12.3686\n",
            "Epoch 16/100\n",
            "2/2 [==============================] - 0s 8ms/step - loss: 8.4446 - mae: 8.4446\n",
            "Epoch 17/100\n",
            "2/2 [==============================] - 0s 8ms/step - loss: 13.4028 - mae: 13.4028\n",
            "Epoch 18/100\n",
            "2/2 [==============================] - 0s 11ms/step - loss: 11.1698 - mae: 11.1698\n",
            "Epoch 19/100\n",
            "2/2 [==============================] - 0s 8ms/step - loss: 18.3913 - mae: 18.3913\n",
            "Epoch 20/100\n",
            "2/2 [==============================] - 0s 9ms/step - loss: 15.0940 - mae: 15.0940\n",
            "Epoch 21/100\n",
            "2/2 [==============================] - 0s 11ms/step - loss: 11.0618 - mae: 11.0618\n",
            "Epoch 22/100\n",
            "2/2 [==============================] - 0s 9ms/step - loss: 8.1947 - mae: 8.1947\n",
            "Epoch 23/100\n",
            "2/2 [==============================] - 0s 8ms/step - loss: 9.5061 - mae: 9.5061\n",
            "Epoch 24/100\n",
            "2/2 [==============================] - 0s 9ms/step - loss: 7.6810 - mae: 7.6810\n",
            "Epoch 25/100\n",
            "2/2 [==============================] - 0s 9ms/step - loss: 13.1455 - mae: 13.1455\n",
            "Epoch 26/100\n",
            "2/2 [==============================] - 0s 8ms/step - loss: 16.4650 - mae: 16.4650\n",
            "Epoch 27/100\n",
            "2/2 [==============================] - 0s 8ms/step - loss: 13.2047 - mae: 13.2047\n",
            "Epoch 28/100\n",
            "2/2 [==============================] - 0s 9ms/step - loss: 14.3032 - mae: 14.3032\n",
            "Epoch 29/100\n",
            "2/2 [==============================] - 0s 9ms/step - loss: 10.0893 - mae: 10.0893\n",
            "Epoch 30/100\n",
            "2/2 [==============================] - 0s 10ms/step - loss: 16.4041 - mae: 16.4041\n",
            "Epoch 31/100\n",
            "2/2 [==============================] - 0s 8ms/step - loss: 23.5964 - mae: 23.5964\n",
            "Epoch 32/100\n",
            "2/2 [==============================] - 0s 8ms/step - loss: 7.6262 - mae: 7.6262\n",
            "Epoch 33/100\n",
            "2/2 [==============================] - 0s 8ms/step - loss: 9.3237 - mae: 9.3237\n",
            "Epoch 34/100\n",
            "2/2 [==============================] - 0s 8ms/step - loss: 13.7040 - mae: 13.7040\n",
            "Epoch 35/100\n",
            "2/2 [==============================] - 0s 8ms/step - loss: 11.1617 - mae: 11.1617\n",
            "Epoch 36/100\n",
            "2/2 [==============================] - 0s 9ms/step - loss: 13.3747 - mae: 13.3747\n",
            "Epoch 37/100\n",
            "2/2 [==============================] - 0s 9ms/step - loss: 9.4719 - mae: 9.4719\n",
            "Epoch 38/100\n",
            "2/2 [==============================] - 0s 8ms/step - loss: 10.1270 - mae: 10.1270\n",
            "Epoch 39/100\n",
            "2/2 [==============================] - 0s 8ms/step - loss: 10.2137 - mae: 10.2137\n",
            "Epoch 40/100\n",
            "2/2 [==============================] - 0s 10ms/step - loss: 10.9546 - mae: 10.9546\n",
            "Epoch 41/100\n",
            "2/2 [==============================] - 0s 7ms/step - loss: 7.9425 - mae: 7.9425\n",
            "Epoch 42/100\n",
            "2/2 [==============================] - 0s 8ms/step - loss: 10.0838 - mae: 10.0838\n",
            "Epoch 43/100\n",
            "2/2 [==============================] - 0s 8ms/step - loss: 8.7050 - mae: 8.7050\n",
            "Epoch 44/100\n",
            "2/2 [==============================] - 0s 8ms/step - loss: 12.1770 - mae: 12.1770\n",
            "Epoch 45/100\n",
            "2/2 [==============================] - 0s 8ms/step - loss: 13.8440 - mae: 13.8440\n",
            "Epoch 46/100\n",
            "2/2 [==============================] - 0s 8ms/step - loss: 8.5065 - mae: 8.5065\n",
            "Epoch 47/100\n",
            "2/2 [==============================] - 0s 7ms/step - loss: 9.1280 - mae: 9.1280\n",
            "Epoch 48/100\n",
            "2/2 [==============================] - 0s 7ms/step - loss: 10.6060 - mae: 10.6060\n",
            "Epoch 49/100\n",
            "2/2 [==============================] - 0s 7ms/step - loss: 7.7469 - mae: 7.7469\n",
            "Epoch 50/100\n",
            "2/2 [==============================] - 0s 9ms/step - loss: 9.5294 - mae: 9.5294\n",
            "Epoch 51/100\n",
            "2/2 [==============================] - 0s 7ms/step - loss: 9.1655 - mae: 9.1655\n",
            "Epoch 52/100\n",
            "2/2 [==============================] - 0s 6ms/step - loss: 16.3156 - mae: 16.3156\n",
            "Epoch 53/100\n",
            "2/2 [==============================] - 0s 9ms/step - loss: 14.1617 - mae: 14.1617\n",
            "Epoch 54/100\n",
            "2/2 [==============================] - 0s 8ms/step - loss: 21.1883 - mae: 21.1883\n",
            "Epoch 55/100\n",
            "2/2 [==============================] - 0s 8ms/step - loss: 16.3560 - mae: 16.3560\n",
            "Epoch 56/100\n",
            "2/2 [==============================] - 0s 8ms/step - loss: 10.0266 - mae: 10.0266\n",
            "Epoch 57/100\n",
            "2/2 [==============================] - 0s 16ms/step - loss: 9.9518 - mae: 9.9518\n",
            "Epoch 58/100\n",
            "2/2 [==============================] - 0s 8ms/step - loss: 9.2154 - mae: 9.2154\n",
            "Epoch 59/100\n",
            "2/2 [==============================] - 0s 9ms/step - loss: 8.4168 - mae: 8.4168\n",
            "Epoch 60/100\n",
            "2/2 [==============================] - 0s 9ms/step - loss: 9.4853 - mae: 9.4853\n",
            "Epoch 61/100\n",
            "2/2 [==============================] - 0s 8ms/step - loss: 11.4180 - mae: 11.4180\n",
            "Epoch 62/100\n",
            "2/2 [==============================] - 0s 9ms/step - loss: 11.7350 - mae: 11.7350\n",
            "Epoch 63/100\n",
            "2/2 [==============================] - 0s 7ms/step - loss: 7.0863 - mae: 7.0863\n",
            "Epoch 64/100\n",
            "2/2 [==============================] - 0s 8ms/step - loss: 17.0135 - mae: 17.0135\n",
            "Epoch 65/100\n",
            "2/2 [==============================] - 0s 8ms/step - loss: 12.4980 - mae: 12.4980\n",
            "Epoch 66/100\n",
            "2/2 [==============================] - 0s 8ms/step - loss: 13.0648 - mae: 13.0648\n",
            "Epoch 67/100\n",
            "2/2 [==============================] - 0s 8ms/step - loss: 8.0864 - mae: 8.0864\n",
            "Epoch 68/100\n",
            "2/2 [==============================] - 0s 8ms/step - loss: 10.2227 - mae: 10.2227\n",
            "Epoch 69/100\n",
            "2/2 [==============================] - 0s 9ms/step - loss: 12.4125 - mae: 12.4125\n",
            "Epoch 70/100\n",
            "2/2 [==============================] - 0s 9ms/step - loss: 9.0468 - mae: 9.0468\n",
            "Epoch 71/100\n",
            "2/2 [==============================] - 0s 9ms/step - loss: 10.0305 - mae: 10.0305\n",
            "Epoch 72/100\n",
            "2/2 [==============================] - 0s 8ms/step - loss: 10.0490 - mae: 10.0490\n",
            "Epoch 73/100\n",
            "2/2 [==============================] - 0s 8ms/step - loss: 12.5927 - mae: 12.5927\n",
            "Epoch 74/100\n",
            "2/2 [==============================] - 0s 8ms/step - loss: 10.4310 - mae: 10.4310\n",
            "Epoch 75/100\n",
            "2/2 [==============================] - 0s 9ms/step - loss: 9.7176 - mae: 9.7176\n",
            "Epoch 76/100\n",
            "2/2 [==============================] - 0s 8ms/step - loss: 11.2134 - mae: 11.2134\n",
            "Epoch 77/100\n",
            "2/2 [==============================] - 0s 8ms/step - loss: 8.3596 - mae: 8.3596\n",
            "Epoch 78/100\n",
            "2/2 [==============================] - 0s 8ms/step - loss: 9.1100 - mae: 9.1100\n",
            "Epoch 79/100\n",
            "2/2 [==============================] - 0s 9ms/step - loss: 19.5652 - mae: 19.5652\n",
            "Epoch 80/100\n",
            "2/2 [==============================] - 0s 9ms/step - loss: 14.8593 - mae: 14.8593\n",
            "Epoch 81/100\n",
            "2/2 [==============================] - 0s 8ms/step - loss: 9.0576 - mae: 9.0576\n",
            "Epoch 82/100\n",
            "2/2 [==============================] - 0s 8ms/step - loss: 12.9938 - mae: 12.9938\n",
            "Epoch 83/100\n",
            "2/2 [==============================] - 0s 9ms/step - loss: 7.9188 - mae: 7.9188\n",
            "Epoch 84/100\n",
            "2/2 [==============================] - 0s 10ms/step - loss: 7.7111 - mae: 7.7111\n",
            "Epoch 85/100\n",
            "2/2 [==============================] - 0s 8ms/step - loss: 10.0702 - mae: 10.0702\n",
            "Epoch 86/100\n",
            "2/2 [==============================] - 0s 10ms/step - loss: 9.2721 - mae: 9.2721\n",
            "Epoch 87/100\n",
            "2/2 [==============================] - 0s 11ms/step - loss: 12.0607 - mae: 12.0607\n",
            "Epoch 88/100\n",
            "2/2 [==============================] - 0s 8ms/step - loss: 10.6814 - mae: 10.6814\n",
            "Epoch 89/100\n",
            "2/2 [==============================] - 0s 11ms/step - loss: 7.2825 - mae: 7.2825\n",
            "Epoch 90/100\n",
            "2/2 [==============================] - 0s 7ms/step - loss: 12.8247 - mae: 12.8247\n",
            "Epoch 91/100\n",
            "2/2 [==============================] - 0s 9ms/step - loss: 7.4980 - mae: 7.4980\n",
            "Epoch 92/100\n",
            "2/2 [==============================] - 0s 9ms/step - loss: 6.7647 - mae: 6.7647\n",
            "Epoch 93/100\n",
            "2/2 [==============================] - 0s 9ms/step - loss: 11.9743 - mae: 11.9743\n",
            "Epoch 94/100\n",
            "2/2 [==============================] - 0s 7ms/step - loss: 8.9038 - mae: 8.9038\n",
            "Epoch 95/100\n",
            "2/2 [==============================] - 0s 7ms/step - loss: 7.7409 - mae: 7.7409\n",
            "Epoch 96/100\n",
            "2/2 [==============================] - 0s 7ms/step - loss: 6.7656 - mae: 6.7656\n",
            "Epoch 97/100\n",
            "2/2 [==============================] - 0s 8ms/step - loss: 8.6577 - mae: 8.6577\n",
            "Epoch 98/100\n",
            "2/2 [==============================] - 0s 8ms/step - loss: 9.3989 - mae: 9.3989\n",
            "Epoch 99/100\n",
            "2/2 [==============================] - 0s 11ms/step - loss: 9.1358 - mae: 9.1358\n",
            "Epoch 100/100\n",
            "2/2 [==============================] - 0s 8ms/step - loss: 10.4895 - mae: 10.4895\n"
          ]
        },
        {
          "output_type": "execute_result",
          "data": {
            "text/plain": [
              "<keras.src.callbacks.History at 0x7d6e5440f490>"
            ]
          },
          "metadata": {},
          "execution_count": 55
        }
      ]
    },
    {
      "cell_type": "code",
      "source": [
        "#Make predictions\n",
        "y_pred_1 = model_1.predict(X_test)\n",
        "#Plot the predictions\n",
        "plot_predictions(train_data = X_train,train_labels = y_train,test_data = X_test,test_labels = y_test,predictions = y_pred_1)"
      ],
      "metadata": {
        "colab": {
          "base_uri": "https://localhost:8080/",
          "height": 674
        },
        "id": "H7nPsysIoPAZ",
        "outputId": "7c64d9db-d1fc-4c56-f7fb-d24dceddd001"
      },
      "execution_count": 56,
      "outputs": [
        {
          "output_type": "stream",
          "name": "stderr",
          "text": [
            "WARNING:tensorflow:5 out of the last 7 calls to <function Model.make_predict_function.<locals>.predict_function at 0x7d6e54347760> triggered tf.function retracing. Tracing is expensive and the excessive number of tracings could be due to (1) creating @tf.function repeatedly in a loop, (2) passing tensors with different shapes, (3) passing Python objects instead of tensors. For (1), please define your @tf.function outside of the loop. For (2), @tf.function has reduce_retracing=True option that can avoid unnecessary retracing. For (3), please refer to https://www.tensorflow.org/guide/function#controlling_retracing and https://www.tensorflow.org/api_docs/python/tf/function for  more details.\n"
          ]
        },
        {
          "output_type": "stream",
          "name": "stdout",
          "text": [
            "1/1 [==============================] - 0s 54ms/step\n"
          ]
        },
        {
          "output_type": "display_data",
          "data": {
            "text/plain": [
              "<Figure size 1000x700 with 1 Axes>"
            ],
            "image/png": "[encoded data removed]"
          },
          "metadata": {}
        }
      ]
    },
    {
      "cell_type": "code",
      "source": [
        "#Create model_1 evaluation metrics\n",
        "mae_1 = tf.keras.metrics.mean_absolute_error(y_test, tf.squeeze(y_pred_1))\n",
        "\n",
        "mse_1 = tf.keras.metrics.mean_squared_error(y_test, tf.squeeze(y_pred_1))\n",
        "mae_1, mse_1"
      ],
      "metadata": {
        "colab": {
          "base_uri": "https://localhost:8080/"
        },
        "id": "m74boiXssS2I",
        "outputId": "b37383b6-f240-4bf8-f5e7-9d09f71034bd"
      },
      "execution_count": 57,
      "outputs": [
        {
          "output_type": "execute_result",
          "data": {
            "text/plain": [
              "(<tf.Tensor: shape=(), dtype=float32, numpy=14.980222>,\n",
              " <tf.Tensor: shape=(), dtype=float32, numpy=225.25716>)"
            ]
          },
          "metadata": {},
          "execution_count": 57
        }
      ]
    },
    {
      "cell_type": "code",
      "source": [
        "model_1.summary()"
      ],
      "metadata": {
        "colab": {
          "base_uri": "https://localhost:8080/"
        },
        "id": "qwHLBQWovdCH",
        "outputId": "daffb0a7-5cfd-420c-8769-453eb5b843b8"
      },
      "execution_count": 58,
      "outputs": [
        {
          "output_type": "stream",
          "name": "stdout",
          "text": [
            "Model: \"model_1\"\n",
            "_________________________________________________________________\n",
            " Layer (type)                Output Shape              Param #   \n",
            "=================================================================\n",
            " dense_4 (Dense)             (None, 1)                 2         \n",
            "                                                                 \n",
            "=================================================================\n",
            "Total params: 2 (8.00 Byte)\n",
            "Trainable params: 2 (8.00 Byte)\n",
            "Non-trainable params: 0 (0.00 Byte)\n",
            "_________________________________________________________________\n"
          ]
        }
      ]
    },
    {
      "cell_type": "code",
      "source": [
        "plot_model(model_1, show_shapes = True)"
      ],
      "metadata": {
        "colab": {
          "base_uri": "https://localhost:8080/",
          "height": 201
        },
        "id": "tHqXNIDdvhO6",
        "outputId": "c68354a5-025c-4ff3-8174-3890cb9a55e0"
      },
      "execution_count": 59,
      "outputs": [
        {
          "output_type": "execute_result",
          "data": {
            "image/png": "[encoded data removed]",
            "text/plain": [
              "<IPython.core.display.Image object>"
            ]
          },
          "metadata": {},
          "execution_count": 59
        }
      ]
    },
    {
      "cell_type": "markdown",
      "source": [
        "###**Build model_2**:\n",
        "\n",
        "* 2 dense layers with 100 epochs"
      ],
      "metadata": {
        "id": "msnU0QBvvPRD"
      }
    },
    {
      "cell_type": "code",
      "source": [
        "tf.random.set_seed(42)\n",
        "\n",
        "#Create the model\n",
        "model_2 = tf.keras.Sequential(name = \"model_2\")\n",
        "model_2.add(tf.keras.layers.Dense(10, input_shape = [1]))\n",
        "model_2.add(tf.keras.layers.Dense(1))\n",
        "\n",
        "#Compile the model\n",
        "model_2.compile(optimizer = tf.keras.optimizers.SGD(),\n",
        "                loss = tf.keras.losses.mae,\n",
        "                metrics = [\"mse\"])\n",
        "\n",
        "#Fit the model\n",
        "model_2.fit(X_train,y_train, epochs = 100)"
      ],
      "metadata": {
        "colab": {
          "base_uri": "https://localhost:8080/"
        },
        "id": "8hb_r1x70WyW",
        "outputId": "63dfb656-48e1-46a6-c150-a8a6f020a0f7"
      },
      "execution_count": 60,
      "outputs": [
        {
          "output_type": "stream",
          "name": "stdout",
          "text": [
            "Epoch 1/100\n",
            "2/2 [==============================] - 0s 12ms/step - loss: 52.5311 - mse: 4115.7119\n",
            "Epoch 2/100\n",
            "2/2 [==============================] - 0s 8ms/step - loss: 16.9489 - mse: 452.3535\n",
            "Epoch 3/100\n",
            "2/2 [==============================] - 0s 7ms/step - loss: 23.9613 - mse: 839.6093\n",
            "Epoch 4/100\n",
            "2/2 [==============================] - 0s 8ms/step - loss: 12.5460 - mse: 227.1737\n",
            "Epoch 5/100\n",
            "2/2 [==============================] - 0s 7ms/step - loss: 15.4504 - mse: 306.7144\n",
            "Epoch 6/100\n",
            "2/2 [==============================] - 0s 8ms/step - loss: 12.2629 - mse: 187.9632\n",
            "Epoch 7/100\n",
            "2/2 [==============================] - 0s 8ms/step - loss: 11.5521 - mse: 162.7942\n",
            "Epoch 8/100\n",
            "2/2 [==============================] - 0s 10ms/step - loss: 11.2347 - mse: 179.3028\n",
            "Epoch 9/100\n",
            "2/2 [==============================] - 0s 7ms/step - loss: 42.1297 - mse: 2836.1372\n",
            "Epoch 10/100\n",
            "2/2 [==============================] - 0s 7ms/step - loss: 29.3103 - mse: 1215.5641\n",
            "Epoch 11/100\n",
            "2/2 [==============================] - 0s 8ms/step - loss: 7.6944 - mse: 84.1345\n",
            "Epoch 12/100\n",
            "2/2 [==============================] - 0s 7ms/step - loss: 28.5940 - mse: 1118.6802\n",
            "Epoch 13/100\n",
            "2/2 [==============================] - 0s 7ms/step - loss: 11.4861 - mse: 144.9400\n",
            "Epoch 14/100\n",
            "2/2 [==============================] - 0s 7ms/step - loss: 30.1028 - mse: 1450.1042\n",
            "Epoch 15/100\n",
            "2/2 [==============================] - 0s 7ms/step - loss: 19.9021 - mse: 554.9855\n",
            "Epoch 16/100\n",
            "2/2 [==============================] - 0s 7ms/step - loss: 9.8906 - mse: 125.7354\n",
            "Epoch 17/100\n",
            "2/2 [==============================] - 0s 7ms/step - loss: 17.7755 - mse: 418.2601\n",
            "Epoch 18/100\n",
            "2/2 [==============================] - 0s 7ms/step - loss: 14.2500 - mse: 321.1683\n",
            "Epoch 19/100\n",
            "2/2 [==============================] - 0s 7ms/step - loss: 14.0941 - mse: 310.6390\n",
            "Epoch 20/100\n",
            "2/2 [==============================] - 0s 7ms/step - loss: 11.2697 - mse: 147.0683\n",
            "Epoch 21/100\n",
            "2/2 [==============================] - 0s 9ms/step - loss: 17.4260 - mse: 431.4094\n",
            "Epoch 22/100\n",
            "2/2 [==============================] - 0s 8ms/step - loss: 15.9513 - mse: 354.3864\n",
            "Epoch 23/100\n",
            "2/2 [==============================] - 0s 8ms/step - loss: 9.8463 - mse: 141.0799\n",
            "Epoch 24/100\n",
            "2/2 [==============================] - 0s 7ms/step - loss: 16.4412 - mse: 364.6724\n",
            "Epoch 25/100\n",
            "2/2 [==============================] - 0s 7ms/step - loss: 15.3751 - mse: 308.0958\n",
            "Epoch 26/100\n",
            "2/2 [==============================] - 0s 7ms/step - loss: 20.5917 - mse: 629.8795\n",
            "Epoch 27/100\n",
            "2/2 [==============================] - 0s 8ms/step - loss: 26.3149 - mse: 1083.9939\n",
            "Epoch 28/100\n",
            "2/2 [==============================] - 0s 14ms/step - loss: 18.7664 - mse: 558.2032\n",
            "Epoch 29/100\n",
            "2/2 [==============================] - 0s 8ms/step - loss: 9.2526 - mse: 96.2506\n",
            "Epoch 30/100\n",
            "2/2 [==============================] - 0s 8ms/step - loss: 29.4031 - mse: 1553.8345\n",
            "Epoch 31/100\n",
            "2/2 [==============================] - 0s 7ms/step - loss: 53.2911 - mse: 5083.7197\n",
            "Epoch 32/100\n",
            "2/2 [==============================] - 0s 7ms/step - loss: 9.4731 - mse: 100.4707\n",
            "Epoch 33/100\n",
            "2/2 [==============================] - 0s 8ms/step - loss: 12.0478 - mse: 173.4522\n",
            "Epoch 34/100\n",
            "2/2 [==============================] - 0s 8ms/step - loss: 23.2667 - mse: 821.6847\n",
            "Epoch 35/100\n",
            "2/2 [==============================] - 0s 8ms/step - loss: 11.8468 - mse: 217.4156\n",
            "Epoch 36/100\n",
            "2/2 [==============================] - 0s 7ms/step - loss: 21.8228 - mse: 678.9799\n",
            "Epoch 37/100\n",
            "2/2 [==============================] - 0s 8ms/step - loss: 11.1331 - mse: 145.2130\n",
            "Epoch 38/100\n",
            "2/2 [==============================] - 0s 7ms/step - loss: 12.7257 - mse: 234.4928\n",
            "Epoch 39/100\n",
            "2/2 [==============================] - 0s 8ms/step - loss: 11.5985 - mse: 192.1269\n",
            "Epoch 40/100\n",
            "2/2 [==============================] - 0s 8ms/step - loss: 19.2349 - mse: 532.2827\n",
            "Epoch 41/100\n",
            "2/2 [==============================] - 0s 7ms/step - loss: 10.9625 - mse: 180.1249\n",
            "Epoch 42/100\n",
            "2/2 [==============================] - 0s 7ms/step - loss: 9.2929 - mse: 115.4308\n",
            "Epoch 43/100\n",
            "2/2 [==============================] - 0s 7ms/step - loss: 9.5951 - mse: 111.3546\n",
            "Epoch 44/100\n",
            "2/2 [==============================] - 0s 7ms/step - loss: 27.9271 - mse: 1250.4694\n",
            "Epoch 45/100\n",
            "2/2 [==============================] - 0s 7ms/step - loss: 11.2743 - mse: 146.5592\n",
            "Epoch 46/100\n",
            "2/2 [==============================] - 0s 8ms/step - loss: 13.8699 - mse: 281.6093\n",
            "Epoch 47/100\n",
            "2/2 [==============================] - 0s 8ms/step - loss: 11.9223 - mse: 212.0963\n",
            "Epoch 48/100\n",
            "2/2 [==============================] - 0s 8ms/step - loss: 16.9558 - mse: 389.2757\n",
            "Epoch 49/100\n",
            "2/2 [==============================] - 0s 8ms/step - loss: 9.7815 - mse: 105.0563\n",
            "Epoch 50/100\n",
            "2/2 [==============================] - 0s 8ms/step - loss: 14.1741 - mse: 280.9661\n",
            "Epoch 51/100\n",
            "2/2 [==============================] - 0s 8ms/step - loss: 11.7427 - mse: 161.3473\n",
            "Epoch 52/100\n",
            "2/2 [==============================] - 0s 8ms/step - loss: 31.3783 - mse: 1710.8518\n",
            "Epoch 53/100\n",
            "2/2 [==============================] - 0s 8ms/step - loss: 14.7241 - mse: 321.0687\n",
            "Epoch 54/100\n",
            "2/2 [==============================] - 0s 9ms/step - loss: 24.6088 - mse: 911.2972\n",
            "Epoch 55/100\n",
            "2/2 [==============================] - 0s 8ms/step - loss: 23.8927 - mse: 858.2595\n",
            "Epoch 56/100\n",
            "2/2 [==============================] - 0s 8ms/step - loss: 11.1255 - mse: 171.2144\n",
            "Epoch 57/100\n",
            "2/2 [==============================] - 0s 8ms/step - loss: 13.0626 - mse: 211.4383\n",
            "Epoch 58/100\n",
            "2/2 [==============================] - 0s 8ms/step - loss: 9.7838 - mse: 105.6705\n",
            "Epoch 59/100\n",
            "2/2 [==============================] - 0s 8ms/step - loss: 13.2369 - mse: 245.2150\n",
            "Epoch 60/100\n",
            "2/2 [==============================] - 0s 10ms/step - loss: 10.8353 - mse: 137.8594\n",
            "Epoch 61/100\n",
            "2/2 [==============================] - 0s 7ms/step - loss: 13.4133 - mse: 238.0287\n",
            "Epoch 62/100\n",
            "2/2 [==============================] - 0s 8ms/step - loss: 17.3710 - mse: 460.0997\n",
            "Epoch 63/100\n",
            "2/2 [==============================] - 0s 13ms/step - loss: 9.1395 - mse: 87.7669\n",
            "Epoch 64/100\n",
            "2/2 [==============================] - 0s 8ms/step - loss: 17.9901 - mse: 469.6324\n",
            "Epoch 65/100\n",
            "2/2 [==============================] - 0s 10ms/step - loss: 10.6258 - mse: 138.7927\n",
            "Epoch 66/100\n",
            "2/2 [==============================] - 0s 9ms/step - loss: 21.5136 - mse: 684.9556\n",
            "Epoch 67/100\n",
            "2/2 [==============================] - 0s 8ms/step - loss: 10.6385 - mse: 132.9043\n",
            "Epoch 68/100\n",
            "2/2 [==============================] - 0s 7ms/step - loss: 14.8881 - mse: 336.6630\n",
            "Epoch 69/100\n",
            "2/2 [==============================] - 0s 8ms/step - loss: 10.7856 - mse: 134.8007\n",
            "Epoch 70/100\n",
            "2/2 [==============================] - 0s 7ms/step - loss: 12.8885 - mse: 211.8370\n",
            "Epoch 71/100\n",
            "2/2 [==============================] - 0s 8ms/step - loss: 13.3080 - mse: 241.9024\n",
            "Epoch 72/100\n",
            "2/2 [==============================] - 0s 8ms/step - loss: 20.1736 - mse: 578.9758\n",
            "Epoch 73/100\n",
            "2/2 [==============================] - 0s 8ms/step - loss: 9.7411 - mse: 149.5948\n",
            "Epoch 74/100\n",
            "2/2 [==============================] - 0s 8ms/step - loss: 27.4857 - mse: 1202.9231\n",
            "Epoch 75/100\n",
            "2/2 [==============================] - 0s 8ms/step - loss: 10.0321 - mse: 145.9179\n",
            "Epoch 76/100\n",
            "2/2 [==============================] - 0s 8ms/step - loss: 12.9531 - mse: 209.2859\n",
            "Epoch 77/100\n",
            "2/2 [==============================] - 0s 8ms/step - loss: 17.9632 - mse: 503.3161\n",
            "Epoch 78/100\n",
            "2/2 [==============================] - 0s 10ms/step - loss: 8.9664 - mse: 88.2342\n",
            "Epoch 79/100\n",
            "2/2 [==============================] - 0s 8ms/step - loss: 28.8149 - mse: 1312.6584\n",
            "Epoch 80/100\n",
            "2/2 [==============================] - 0s 8ms/step - loss: 31.1686 - mse: 1543.7561\n",
            "Epoch 81/100\n",
            "2/2 [==============================] - 0s 8ms/step - loss: 13.5856 - mse: 259.9687\n",
            "Epoch 82/100\n",
            "2/2 [==============================] - 0s 8ms/step - loss: 15.8629 - mse: 346.1223\n",
            "Epoch 83/100\n",
            "2/2 [==============================] - 0s 8ms/step - loss: 9.1382 - mse: 92.8974\n",
            "Epoch 84/100\n",
            "2/2 [==============================] - 0s 8ms/step - loss: 8.2052 - mse: 108.5452\n",
            "Epoch 85/100\n",
            "2/2 [==============================] - 0s 10ms/step - loss: 18.8753 - mse: 555.1109\n",
            "Epoch 86/100\n",
            "2/2 [==============================] - 0s 8ms/step - loss: 21.9779 - mse: 691.7406\n",
            "Epoch 87/100\n",
            "2/2 [==============================] - 0s 13ms/step - loss: 11.2159 - mse: 150.7125\n",
            "Epoch 88/100\n",
            "2/2 [==============================] - 0s 8ms/step - loss: 25.9355 - mse: 958.9391\n",
            "Epoch 89/100\n",
            "2/2 [==============================] - 0s 9ms/step - loss: 9.5229 - mse: 132.2927\n",
            "Epoch 90/100\n",
            "2/2 [==============================] - 0s 8ms/step - loss: 18.2448 - mse: 477.5283\n",
            "Epoch 91/100\n",
            "2/2 [==============================] - 0s 10ms/step - loss: 10.3257 - mse: 166.7011\n",
            "Epoch 92/100\n",
            "2/2 [==============================] - 0s 8ms/step - loss: 17.4944 - mse: 418.0426\n",
            "Epoch 93/100\n",
            "2/2 [==============================] - 0s 8ms/step - loss: 6.8271 - mse: 64.6567\n",
            "Epoch 94/100\n",
            "2/2 [==============================] - 0s 8ms/step - loss: 17.6591 - mse: 474.7736\n",
            "Epoch 95/100\n",
            "2/2 [==============================] - 0s 8ms/step - loss: 17.3753 - mse: 419.1929\n",
            "Epoch 96/100\n",
            "2/2 [==============================] - 0s 9ms/step - loss: 11.5418 - mse: 209.2888\n",
            "Epoch 97/100\n",
            "2/2 [==============================] - 0s 8ms/step - loss: 18.3158 - mse: 454.6725\n",
            "Epoch 98/100\n",
            "2/2 [==============================] - 0s 8ms/step - loss: 9.7582 - mse: 177.8185\n",
            "Epoch 99/100\n",
            "2/2 [==============================] - 0s 8ms/step - loss: 16.9458 - mse: 450.3199\n",
            "Epoch 100/100\n",
            "2/2 [==============================] - 0s 7ms/step - loss: 17.8182 - mse: 468.7618\n"
          ]
        },
        {
          "output_type": "execute_result",
          "data": {
            "text/plain": [
              "<keras.src.callbacks.History at 0x7d6e4ee64d90>"
            ]
          },
          "metadata": {},
          "execution_count": 60
        }
      ]
    },
    {
      "cell_type": "code",
      "source": [
        "model_2.summary()"
      ],
      "metadata": {
        "colab": {
          "base_uri": "https://localhost:8080/"
        },
        "id": "hFo5Nd3X3I0I",
        "outputId": "5c9c34f5-5fca-41b3-885a-873d23afb854"
      },
      "execution_count": 61,
      "outputs": [
        {
          "output_type": "stream",
          "name": "stdout",
          "text": [
            "Model: \"model_2\"\n",
            "_________________________________________________________________\n",
            " Layer (type)                Output Shape              Param #   \n",
            "=================================================================\n",
            " dense_5 (Dense)             (None, 10)                20        \n",
            "                                                                 \n",
            " dense_6 (Dense)             (None, 1)                 11        \n",
            "                                                                 \n",
            "=================================================================\n",
            "Total params: 31 (124.00 Byte)\n",
            "Trainable params: 31 (124.00 Byte)\n",
            "Non-trainable params: 0 (0.00 Byte)\n",
            "_________________________________________________________________\n"
          ]
        }
      ]
    },
    {
      "cell_type": "code",
      "source": [
        "plot_model(model_2, show_shapes = True)"
      ],
      "metadata": {
        "colab": {
          "base_uri": "https://localhost:8080/",
          "height": 312
        },
        "id": "kKltw0P73KSf",
        "outputId": "f30c8a8c-884f-4786-8d34-047e4f979417"
      },
      "execution_count": 62,
      "outputs": [
        {
          "output_type": "execute_result",
          "data": {
            "image/png": "[encoded data removed]",
            "text/plain": [
              "<IPython.core.display.Image object>"
            ]
          },
          "metadata": {},
          "execution_count": 62
        }
      ]
    },
    {
      "cell_type": "code",
      "source": [
        "y_pred_2 = model_2.predict(X_test)\n",
        "y_pred_2"
      ],
      "metadata": {
        "colab": {
          "base_uri": "https://localhost:8080/"
        },
        "id": "fKYK7SIO3SyM",
        "outputId": "9ceec0c8-bc1b-4697-aa40-d30db9e5aeab"
      },
      "execution_count": 63,
      "outputs": [
        {
          "output_type": "stream",
          "name": "stderr",
          "text": [
            "WARNING:tensorflow:6 out of the last 8 calls to <function Model.make_predict_function.<locals>.predict_function at 0x7d6e4e5304c0> triggered tf.function retracing. Tracing is expensive and the excessive number of tracings could be due to (1) creating @tf.function repeatedly in a loop, (2) passing tensors with different shapes, (3) passing Python objects instead of tensors. For (1), please define your @tf.function outside of the loop. For (2), @tf.function has reduce_retracing=True option that can avoid unnecessary retracing. For (3), please refer to https://www.tensorflow.org/guide/function#controlling_retracing and https://www.tensorflow.org/api_docs/python/tf/function for  more details.\n"
          ]
        },
        {
          "output_type": "stream",
          "name": "stdout",
          "text": [
            "1/1 [==============================] - 0s 55ms/step\n"
          ]
        },
        {
          "output_type": "execute_result",
          "data": {
            "text/plain": [
              "array([[34.868103],\n",
              "       [37.09665 ],\n",
              "       [39.325203],\n",
              "       [41.553753],\n",
              "       [43.782303],\n",
              "       [46.010857],\n",
              "       [48.239403],\n",
              "       [50.467953],\n",
              "       [52.696503],\n",
              "       [54.925056]], dtype=float32)"
            ]
          },
          "metadata": {},
          "execution_count": 63
        }
      ]
    },
    {
      "cell_type": "code",
      "source": [
        "y_test"
      ],
      "metadata": {
        "colab": {
          "base_uri": "https://localhost:8080/"
        },
        "id": "b5EPVVEf3vaK",
        "outputId": "1f2b30cb-6472-485b-dfe5-66bd0f2b3a5c"
      },
      "execution_count": 64,
      "outputs": [
        {
          "output_type": "execute_result",
          "data": {
            "text/plain": [
              "<tf.Tensor: shape=(10,), dtype=int32, numpy=array([ 70,  74,  78,  82,  86,  90,  94,  98, 102, 106], dtype=int32)>"
            ]
          },
          "metadata": {},
          "execution_count": 64
        }
      ]
    },
    {
      "cell_type": "code",
      "source": [
        "plot_predictions(train_data=X_train,train_labels=y_train,test_data=X_test,test_labels=y_test,predictions=y_pred_2)"
      ],
      "metadata": {
        "colab": {
          "base_uri": "https://localhost:8080/",
          "height": 619
        },
        "id": "VyveLGaB3xbX",
        "outputId": "21eb6247-2b97-4276-a1fd-70aba897f989"
      },
      "execution_count": 65,
      "outputs": [
        {
          "output_type": "display_data",
          "data": {
            "text/plain": [
              "<Figure size 1000x700 with 1 Axes>"
            ],
            "image/png": "[encoded data removed]"
          },
          "metadata": {}
        }
      ]
    },
    {
      "cell_type": "code",
      "source": [
        "#Calculate evaluation metrics\n",
        "mae_2 = tf.keras.metrics.mae(y_test, tf.squeeze(y_pred_2))\n",
        "\n",
        "mse_2 = tf.keras.metrics.mse(y_test, tf.squeeze(y_pred_2))\n",
        "\n",
        "mae_2, mse_2"
      ],
      "metadata": {
        "colab": {
          "base_uri": "https://localhost:8080/"
        },
        "id": "BwIxJRto4E59",
        "outputId": "a7150510-93aa-411f-9305-42fdd5282122"
      },
      "execution_count": 66,
      "outputs": [
        {
          "output_type": "execute_result",
          "data": {
            "text/plain": [
              "(<tf.Tensor: shape=(), dtype=float32, numpy=43.10342>,\n",
              " <tf.Tensor: shape=(), dtype=float32, numpy=1883.7937>)"
            ]
          },
          "metadata": {},
          "execution_count": 66
        }
      ]
    },
    {
      "cell_type": "markdown",
      "source": [
        "###**Build model_3**:\n",
        "\n",
        "* 2 dense layers with 500 epochs"
      ],
      "metadata": {
        "id": "Aqd-jLGt6GeG"
      }
    },
    {
      "cell_type": "code",
      "source": [
        "tf.random.set_seed(42)\n",
        "\n",
        "#Create the model\n",
        "model_3 = tf.keras.Sequential(name = \"model_3\")\n",
        "model_3.add(tf.keras.layers.Dense(10, input_shape = [1]))\n",
        "model_3.add(tf.keras.layers.Dense(1))\n",
        "\n",
        "#Compile the model\n",
        "model_3.compile(optimizer = tf.keras.optimizers.SGD(),\n",
        "                loss = tf.keras.losses.mae,\n",
        "                metrics = [\"mse\"])\n",
        "\n",
        "#Fit the model\n",
        "model_3.fit(X_train, y_train, epochs = 500)"
      ],
      "metadata": {
        "colab": {
          "base_uri": "https://localhost:8080/"
        },
        "id": "WMApkzsL5am4",
        "outputId": "d2579e4a-ecf1-4e01-91e8-74b71fd74e51"
      },
      "execution_count": 67,
      "outputs": [
        {
          "output_type": "stream",
          "name": "stdout",
          "text": [
            "Epoch 1/500\n",
            "2/2 [==============================] - 0s 11ms/step - loss: 43.8989 - mse: 2839.0920\n",
            "Epoch 2/500\n",
            "2/2 [==============================] - 0s 7ms/step - loss: 29.8051 - mse: 1192.0691\n",
            "Epoch 3/500\n",
            "2/2 [==============================] - 0s 7ms/step - loss: 35.2947 - mse: 1855.3008\n",
            "Epoch 4/500\n",
            "2/2 [==============================] - 0s 7ms/step - loss: 25.4141 - mse: 938.1678\n",
            "Epoch 5/500\n",
            "2/2 [==============================] - 0s 7ms/step - loss: 15.0198 - mse: 284.1378\n",
            "Epoch 6/500\n",
            "2/2 [==============================] - 0s 7ms/step - loss: 11.9459 - mse: 171.4081\n",
            "Epoch 7/500\n",
            "2/2 [==============================] - 0s 7ms/step - loss: 11.2726 - mse: 153.8648\n",
            "Epoch 8/500\n",
            "2/2 [==============================] - 0s 7ms/step - loss: 11.1375 - mse: 164.2897\n",
            "Epoch 9/500\n",
            "2/2 [==============================] - 0s 10ms/step - loss: 40.9628 - mse: 2657.0669\n",
            "Epoch 10/500\n",
            "2/2 [==============================] - 0s 9ms/step - loss: 28.2935 - mse: 1129.1863\n",
            "Epoch 11/500\n",
            "2/2 [==============================] - 0s 9ms/step - loss: 10.2490 - mse: 149.7880\n",
            "Epoch 12/500\n",
            "2/2 [==============================] - 0s 8ms/step - loss: 25.1739 - mse: 883.9505\n",
            "Epoch 13/500\n",
            "2/2 [==============================] - 0s 8ms/step - loss: 17.6239 - mse: 430.7614\n",
            "Epoch 14/500\n",
            "2/2 [==============================] - 0s 9ms/step - loss: 23.7944 - mse: 869.1180\n",
            "Epoch 15/500\n",
            "2/2 [==============================] - 0s 8ms/step - loss: 15.8326 - mse: 341.5470\n",
            "Epoch 16/500\n",
            "2/2 [==============================] - 0s 9ms/step - loss: 10.4598 - mse: 125.0458\n",
            "Epoch 17/500\n",
            "2/2 [==============================] - 0s 9ms/step - loss: 19.7581 - mse: 532.1481\n",
            "Epoch 18/500\n",
            "2/2 [==============================] - 0s 9ms/step - loss: 13.3694 - mse: 280.7279\n",
            "Epoch 19/500\n",
            "2/2 [==============================] - 0s 9ms/step - loss: 16.3868 - mse: 430.8298\n",
            "Epoch 20/500\n",
            "2/2 [==============================] - 0s 8ms/step - loss: 8.2492 - mse: 93.4292\n",
            "Epoch 21/500\n",
            "2/2 [==============================] - 0s 11ms/step - loss: 14.4563 - mse: 289.5214\n",
            "Epoch 22/500\n",
            "2/2 [==============================] - 0s 7ms/step - loss: 12.8746 - mse: 246.6461\n",
            "Epoch 23/500\n",
            "2/2 [==============================] - 0s 7ms/step - loss: 15.5074 - mse: 315.5851\n",
            "Epoch 24/500\n",
            "2/2 [==============================] - 0s 7ms/step - loss: 15.2982 - mse: 316.8994\n",
            "Epoch 25/500\n",
            "2/2 [==============================] - 0s 9ms/step - loss: 14.3605 - mse: 273.0515\n",
            "Epoch 26/500\n",
            "2/2 [==============================] - 0s 8ms/step - loss: 19.3838 - mse: 570.0917\n",
            "Epoch 27/500\n",
            "2/2 [==============================] - 0s 8ms/step - loss: 11.4326 - mse: 167.4111\n",
            "Epoch 28/500\n",
            "2/2 [==============================] - 0s 8ms/step - loss: 28.9710 - mse: 1363.6755\n",
            "Epoch 29/500\n",
            "2/2 [==============================] - 0s 8ms/step - loss: 9.2505 - mse: 94.8389\n",
            "Epoch 30/500\n",
            "2/2 [==============================] - 0s 8ms/step - loss: 29.7331 - mse: 1598.3923\n",
            "Epoch 31/500\n",
            "2/2 [==============================] - 0s 8ms/step - loss: 53.9373 - mse: 5211.0615\n",
            "Epoch 32/500\n",
            "2/2 [==============================] - 0s 8ms/step - loss: 9.5460 - mse: 100.9385\n",
            "Epoch 33/500\n",
            "2/2 [==============================] - 0s 8ms/step - loss: 12.1337 - mse: 179.2004\n",
            "Epoch 34/500\n",
            "2/2 [==============================] - 0s 8ms/step - loss: 23.7779 - mse: 856.1671\n",
            "Epoch 35/500\n",
            "2/2 [==============================] - 0s 8ms/step - loss: 12.6410 - mse: 241.9134\n",
            "Epoch 36/500\n",
            "2/2 [==============================] - 0s 8ms/step - loss: 21.5770 - mse: 663.9823\n",
            "Epoch 37/500\n",
            "2/2 [==============================] - 0s 8ms/step - loss: 11.3393 - mse: 149.1965\n",
            "Epoch 38/500\n",
            "2/2 [==============================] - 0s 8ms/step - loss: 13.3961 - mse: 265.7622\n",
            "Epoch 39/500\n",
            "2/2 [==============================] - 0s 9ms/step - loss: 10.7568 - mse: 137.5079\n",
            "Epoch 40/500\n",
            "2/2 [==============================] - 0s 11ms/step - loss: 16.4990 - mse: 395.3107\n",
            "Epoch 41/500\n",
            "2/2 [==============================] - 0s 9ms/step - loss: 10.9238 - mse: 180.0354\n",
            "Epoch 42/500\n",
            "2/2 [==============================] - 0s 7ms/step - loss: 9.2632 - mse: 115.5616\n",
            "Epoch 43/500\n",
            "2/2 [==============================] - 0s 8ms/step - loss: 9.5816 - mse: 111.5650\n",
            "Epoch 44/500\n",
            "2/2 [==============================] - 0s 8ms/step - loss: 27.8434 - mse: 1242.3087\n",
            "Epoch 45/500\n",
            "2/2 [==============================] - 0s 8ms/step - loss: 11.2447 - mse: 145.7128\n",
            "Epoch 46/500\n",
            "2/2 [==============================] - 0s 8ms/step - loss: 13.8177 - mse: 279.0097\n",
            "Epoch 47/500\n",
            "2/2 [==============================] - 0s 8ms/step - loss: 11.9357 - mse: 212.1635\n",
            "Epoch 48/500\n",
            "2/2 [==============================] - 0s 7ms/step - loss: 16.9792 - mse: 390.4459\n",
            "Epoch 49/500\n",
            "2/2 [==============================] - 0s 12ms/step - loss: 9.7583 - mse: 104.4478\n",
            "Epoch 50/500\n",
            "2/2 [==============================] - 0s 9ms/step - loss: 14.1381 - mse: 278.9836\n",
            "Epoch 51/500\n",
            "2/2 [==============================] - 0s 10ms/step - loss: 11.7253 - mse: 160.6404\n",
            "Epoch 52/500\n",
            "2/2 [==============================] - 0s 9ms/step - loss: 31.3122 - mse: 1702.7780\n",
            "Epoch 53/500\n",
            "2/2 [==============================] - 0s 8ms/step - loss: 14.6921 - mse: 319.4311\n",
            "Epoch 54/500\n",
            "2/2 [==============================] - 0s 10ms/step - loss: 24.5571 - mse: 906.9525\n",
            "Epoch 55/500\n",
            "2/2 [==============================] - 0s 11ms/step - loss: 23.8351 - mse: 853.8229\n",
            "Epoch 56/500\n",
            "2/2 [==============================] - 0s 9ms/step - loss: 11.1011 - mse: 171.0444\n",
            "Epoch 57/500\n",
            "2/2 [==============================] - 0s 12ms/step - loss: 13.0330 - mse: 210.3048\n",
            "Epoch 58/500\n",
            "2/2 [==============================] - 0s 9ms/step - loss: 9.7654 - mse: 105.3183\n",
            "Epoch 59/500\n",
            "2/2 [==============================] - 0s 9ms/step - loss: 13.2092 - mse: 243.8553\n",
            "Epoch 60/500\n",
            "2/2 [==============================] - 0s 10ms/step - loss: 10.8161 - mse: 137.3041\n",
            "Epoch 61/500\n",
            "2/2 [==============================] - 0s 8ms/step - loss: 13.3909 - mse: 236.9881\n",
            "Epoch 62/500\n",
            "2/2 [==============================] - 0s 9ms/step - loss: 17.3395 - mse: 458.3598\n",
            "Epoch 63/500\n",
            "2/2 [==============================] - 0s 8ms/step - loss: 9.1267 - mse: 87.6398\n",
            "Epoch 64/500\n",
            "2/2 [==============================] - 0s 9ms/step - loss: 17.9622 - mse: 468.1376\n",
            "Epoch 65/500\n",
            "2/2 [==============================] - 0s 11ms/step - loss: 10.6119 - mse: 138.2417\n",
            "Epoch 66/500\n",
            "2/2 [==============================] - 0s 9ms/step - loss: 21.4853 - mse: 682.9879\n",
            "Epoch 67/500\n",
            "2/2 [==============================] - 0s 9ms/step - loss: 10.6241 - mse: 132.4855\n",
            "Epoch 68/500\n",
            "2/2 [==============================] - 0s 9ms/step - loss: 14.8687 - mse: 335.8211\n",
            "Epoch 69/500\n",
            "2/2 [==============================] - 0s 11ms/step - loss: 10.7711 - mse: 134.3763\n",
            "Epoch 70/500\n",
            "2/2 [==============================] - 0s 8ms/step - loss: 12.8731 - mse: 211.3531\n",
            "Epoch 71/500\n",
            "2/2 [==============================] - 0s 10ms/step - loss: 13.2946 - mse: 241.3433\n",
            "Epoch 72/500\n",
            "2/2 [==============================] - 0s 11ms/step - loss: 20.1573 - mse: 578.0573\n",
            "Epoch 73/500\n",
            "2/2 [==============================] - 0s 9ms/step - loss: 9.7333 - mse: 149.5636\n",
            "Epoch 74/500\n",
            "2/2 [==============================] - 0s 9ms/step - loss: 27.4725 - mse: 1201.6340\n",
            "Epoch 75/500\n",
            "2/2 [==============================] - 0s 10ms/step - loss: 10.0228 - mse: 145.7983\n",
            "Epoch 76/500\n",
            "2/2 [==============================] - 0s 8ms/step - loss: 12.9436 - mse: 209.0128\n",
            "Epoch 77/500\n",
            "2/2 [==============================] - 0s 12ms/step - loss: 17.9574 - mse: 502.9777\n",
            "Epoch 78/500\n",
            "2/2 [==============================] - 0s 8ms/step - loss: 8.9597 - mse: 88.1034\n",
            "Epoch 79/500\n",
            "2/2 [==============================] - 0s 8ms/step - loss: 28.8135 - mse: 1312.4318\n",
            "Epoch 80/500\n",
            "2/2 [==============================] - 0s 8ms/step - loss: 31.1663 - mse: 1543.4675\n",
            "Epoch 81/500\n",
            "2/2 [==============================] - 0s 10ms/step - loss: 13.5803 - mse: 259.8136\n",
            "Epoch 82/500\n",
            "2/2 [==============================] - 0s 11ms/step - loss: 15.8592 - mse: 346.0089\n",
            "Epoch 83/500\n",
            "2/2 [==============================] - 0s 9ms/step - loss: 9.1337 - mse: 92.8168\n",
            "Epoch 84/500\n",
            "2/2 [==============================] - 0s 10ms/step - loss: 8.1999 - mse: 108.4775\n",
            "Epoch 85/500\n",
            "2/2 [==============================] - 0s 9ms/step - loss: 18.8696 - mse: 554.8444\n",
            "Epoch 86/500\n",
            "2/2 [==============================] - 0s 10ms/step - loss: 21.9887 - mse: 692.3504\n",
            "Epoch 87/500\n",
            "2/2 [==============================] - 0s 8ms/step - loss: 11.2119 - mse: 150.6231\n",
            "Epoch 88/500\n",
            "2/2 [==============================] - 0s 8ms/step - loss: 25.9510 - mse: 960.1031\n",
            "Epoch 89/500\n",
            "2/2 [==============================] - 0s 10ms/step - loss: 9.5194 - mse: 132.0822\n",
            "Epoch 90/500\n",
            "2/2 [==============================] - 0s 9ms/step - loss: 18.2589 - mse: 478.2325\n",
            "Epoch 91/500\n",
            "2/2 [==============================] - 0s 7ms/step - loss: 10.3244 - mse: 166.4689\n",
            "Epoch 92/500\n",
            "2/2 [==============================] - 0s 13ms/step - loss: 17.5110 - mse: 418.8548\n",
            "Epoch 93/500\n",
            "2/2 [==============================] - 0s 10ms/step - loss: 6.8223 - mse: 64.4731\n",
            "Epoch 94/500\n",
            "2/2 [==============================] - 0s 10ms/step - loss: 17.6501 - mse: 474.1694\n",
            "Epoch 95/500\n",
            "2/2 [==============================] - 0s 9ms/step - loss: 17.3634 - mse: 418.5688\n",
            "Epoch 96/500\n",
            "2/2 [==============================] - 0s 9ms/step - loss: 11.5325 - mse: 209.1695\n",
            "Epoch 97/500\n",
            "2/2 [==============================] - 0s 9ms/step - loss: 18.3020 - mse: 453.9566\n",
            "Epoch 98/500\n",
            "2/2 [==============================] - 0s 8ms/step - loss: 9.7488 - mse: 177.9144\n",
            "Epoch 99/500\n",
            "2/2 [==============================] - 0s 11ms/step - loss: 16.9357 - mse: 449.5619\n",
            "Epoch 100/500\n",
            "2/2 [==============================] - 0s 7ms/step - loss: 17.8065 - mse: 467.9495\n",
            "Epoch 101/500\n",
            "2/2 [==============================] - 0s 11ms/step - loss: 16.4751 - mse: 362.8536\n",
            "Epoch 102/500\n",
            "2/2 [==============================] - 0s 9ms/step - loss: 12.9179 - mse: 242.2880\n",
            "Epoch 103/500\n",
            "2/2 [==============================] - 0s 10ms/step - loss: 16.0730 - mse: 352.2577\n",
            "Epoch 104/500\n",
            "2/2 [==============================] - 0s 8ms/step - loss: 22.2486 - mse: 679.9574\n",
            "Epoch 105/500\n",
            "2/2 [==============================] - 0s 8ms/step - loss: 20.3379 - mse: 635.5355\n",
            "Epoch 106/500\n",
            "2/2 [==============================] - 0s 7ms/step - loss: 10.1003 - mse: 175.5231\n",
            "Epoch 107/500\n",
            "2/2 [==============================] - 0s 7ms/step - loss: 24.7720 - mse: 896.2654\n",
            "Epoch 108/500\n",
            "2/2 [==============================] - 0s 7ms/step - loss: 15.1820 - mse: 346.0976\n",
            "Epoch 109/500\n",
            "2/2 [==============================] - 0s 9ms/step - loss: 7.0694 - mse: 73.6056\n",
            "Epoch 110/500\n",
            "2/2 [==============================] - 0s 8ms/step - loss: 10.9523 - mse: 144.3399\n",
            "Epoch 111/500\n",
            "2/2 [==============================] - 0s 10ms/step - loss: 17.5555 - mse: 439.2490\n",
            "Epoch 112/500\n",
            "2/2 [==============================] - 0s 8ms/step - loss: 9.8198 - mse: 137.3651\n",
            "Epoch 113/500\n",
            "2/2 [==============================] - 0s 8ms/step - loss: 18.4697 - mse: 494.1902\n",
            "Epoch 114/500\n",
            "2/2 [==============================] - 0s 7ms/step - loss: 18.0933 - mse: 490.5995\n",
            "Epoch 115/500\n",
            "2/2 [==============================] - 0s 8ms/step - loss: 10.8081 - mse: 140.2240\n",
            "Epoch 116/500\n",
            "2/2 [==============================] - 0s 13ms/step - loss: 22.0043 - mse: 701.6034\n",
            "Epoch 117/500\n",
            "2/2 [==============================] - 0s 7ms/step - loss: 9.2322 - mse: 129.7209\n",
            "Epoch 118/500\n",
            "2/2 [==============================] - 0s 9ms/step - loss: 10.2347 - mse: 130.0220\n",
            "Epoch 119/500\n",
            "2/2 [==============================] - 0s 8ms/step - loss: 8.0353 - mse: 71.5945\n",
            "Epoch 120/500\n",
            "2/2 [==============================] - 0s 8ms/step - loss: 46.4675 - mse: 3474.7603\n",
            "Epoch 121/500\n",
            "2/2 [==============================] - 0s 8ms/step - loss: 12.1457 - mse: 222.1330\n",
            "Epoch 122/500\n",
            "2/2 [==============================] - 0s 8ms/step - loss: 23.1571 - mse: 779.5262\n",
            "Epoch 123/500\n",
            "2/2 [==============================] - 0s 8ms/step - loss: 27.9135 - mse: 1119.0295\n",
            "Epoch 124/500\n",
            "2/2 [==============================] - 0s 9ms/step - loss: 15.6482 - mse: 361.8069\n",
            "Epoch 125/500\n",
            "2/2 [==============================] - 0s 8ms/step - loss: 8.4059 - mse: 122.0192\n",
            "Epoch 126/500\n",
            "2/2 [==============================] - 0s 8ms/step - loss: 11.2622 - mse: 158.6397\n",
            "Epoch 127/500\n",
            "2/2 [==============================] - 0s 8ms/step - loss: 17.5395 - mse: 487.4853\n",
            "Epoch 128/500\n",
            "2/2 [==============================] - 0s 8ms/step - loss: 11.0464 - mse: 156.6911\n",
            "Epoch 129/500\n",
            "2/2 [==============================] - 0s 9ms/step - loss: 19.6932 - mse: 616.3710\n",
            "Epoch 130/500\n",
            "2/2 [==============================] - 0s 8ms/step - loss: 10.1967 - mse: 120.1987\n",
            "Epoch 131/500\n",
            "2/2 [==============================] - 0s 7ms/step - loss: 21.3419 - mse: 690.4274\n",
            "Epoch 132/500\n",
            "2/2 [==============================] - 0s 10ms/step - loss: 8.2312 - mse: 97.5279\n",
            "Epoch 133/500\n",
            "2/2 [==============================] - 0s 8ms/step - loss: 9.0157 - mse: 108.1790\n",
            "Epoch 134/500\n",
            "2/2 [==============================] - 0s 8ms/step - loss: 16.3944 - mse: 390.4798\n",
            "Epoch 135/500\n",
            "2/2 [==============================] - 0s 8ms/step - loss: 11.3174 - mse: 161.3216\n",
            "Epoch 136/500\n",
            "2/2 [==============================] - 0s 8ms/step - loss: 20.3276 - mse: 590.9442\n",
            "Epoch 137/500\n",
            "2/2 [==============================] - 0s 8ms/step - loss: 23.7952 - mse: 765.2339\n",
            "Epoch 138/500\n",
            "2/2 [==============================] - 0s 8ms/step - loss: 9.4185 - mse: 140.1250\n",
            "Epoch 139/500\n",
            "2/2 [==============================] - 0s 8ms/step - loss: 9.1067 - mse: 142.5908\n",
            "Epoch 140/500\n",
            "2/2 [==============================] - 0s 7ms/step - loss: 17.1549 - mse: 423.0126\n",
            "Epoch 141/500\n",
            "2/2 [==============================] - 0s 11ms/step - loss: 8.3693 - mse: 77.1617\n",
            "Epoch 142/500\n",
            "2/2 [==============================] - 0s 8ms/step - loss: 34.2830 - mse: 2038.6188\n",
            "Epoch 143/500\n",
            "2/2 [==============================] - 0s 7ms/step - loss: 23.3200 - mse: 761.7677\n",
            "Epoch 144/500\n",
            "2/2 [==============================] - 0s 9ms/step - loss: 10.4955 - mse: 183.7821\n",
            "Epoch 145/500\n",
            "2/2 [==============================] - 0s 8ms/step - loss: 25.8520 - mse: 903.8622\n",
            "Epoch 146/500\n",
            "2/2 [==============================] - 0s 8ms/step - loss: 9.9458 - mse: 130.9446\n",
            "Epoch 147/500\n",
            "2/2 [==============================] - 0s 9ms/step - loss: 14.7514 - mse: 290.8162\n",
            "Epoch 148/500\n",
            "2/2 [==============================] - 0s 11ms/step - loss: 17.8674 - mse: 440.4125\n",
            "Epoch 149/500\n",
            "2/2 [==============================] - 0s 9ms/step - loss: 8.4493 - mse: 106.2645\n",
            "Epoch 150/500\n",
            "2/2 [==============================] - 0s 10ms/step - loss: 7.6279 - mse: 66.6198\n",
            "Epoch 151/500\n",
            "2/2 [==============================] - 0s 10ms/step - loss: 18.8008 - mse: 512.6608\n",
            "Epoch 152/500\n",
            "2/2 [==============================] - 0s 8ms/step - loss: 10.4650 - mse: 136.1207\n",
            "Epoch 153/500\n",
            "2/2 [==============================] - 0s 9ms/step - loss: 30.2969 - mse: 1330.9967\n",
            "Epoch 154/500\n",
            "2/2 [==============================] - 0s 8ms/step - loss: 10.0125 - mse: 177.9798\n",
            "Epoch 155/500\n",
            "2/2 [==============================] - 0s 9ms/step - loss: 15.7614 - mse: 369.1241\n",
            "Epoch 156/500\n",
            "2/2 [==============================] - 0s 8ms/step - loss: 17.6943 - mse: 464.9982\n",
            "Epoch 157/500\n",
            "2/2 [==============================] - 0s 10ms/step - loss: 31.0529 - mse: 1548.9927\n",
            "Epoch 158/500\n",
            "2/2 [==============================] - 0s 9ms/step - loss: 10.2106 - mse: 138.7871\n",
            "Epoch 159/500\n",
            "2/2 [==============================] - 0s 8ms/step - loss: 8.6943 - mse: 98.4648\n",
            "Epoch 160/500\n",
            "2/2 [==============================] - 0s 9ms/step - loss: 20.7020 - mse: 616.1944\n",
            "Epoch 161/500\n",
            "2/2 [==============================] - 0s 11ms/step - loss: 11.8046 - mse: 205.7615\n",
            "Epoch 162/500\n",
            "2/2 [==============================] - 0s 8ms/step - loss: 21.6795 - mse: 677.4828\n",
            "Epoch 163/500\n",
            "2/2 [==============================] - 0s 8ms/step - loss: 19.3565 - mse: 539.4803\n",
            "Epoch 164/500\n",
            "2/2 [==============================] - 0s 9ms/step - loss: 11.1186 - mse: 180.6926\n",
            "Epoch 165/500\n",
            "2/2 [==============================] - 0s 8ms/step - loss: 9.6297 - mse: 181.0124\n",
            "Epoch 166/500\n",
            "2/2 [==============================] - 0s 8ms/step - loss: 21.5698 - mse: 680.9017\n",
            "Epoch 167/500\n",
            "2/2 [==============================] - 0s 9ms/step - loss: 26.3553 - mse: 1055.1202\n",
            "Epoch 168/500\n",
            "2/2 [==============================] - 0s 9ms/step - loss: 9.9209 - mse: 119.4175\n",
            "Epoch 169/500\n",
            "2/2 [==============================] - 0s 9ms/step - loss: 22.5918 - mse: 789.8317\n",
            "Epoch 170/500\n",
            "2/2 [==============================] - 0s 10ms/step - loss: 10.1741 - mse: 196.8759\n",
            "Epoch 171/500\n",
            "2/2 [==============================] - 0s 9ms/step - loss: 18.0502 - mse: 503.3742\n",
            "Epoch 172/500\n",
            "2/2 [==============================] - 0s 10ms/step - loss: 28.8351 - mse: 1306.4736\n",
            "Epoch 173/500\n",
            "2/2 [==============================] - 0s 8ms/step - loss: 16.5433 - mse: 433.2436\n",
            "Epoch 174/500\n",
            "2/2 [==============================] - 0s 9ms/step - loss: 11.2376 - mse: 200.7010\n",
            "Epoch 175/500\n",
            "2/2 [==============================] - 0s 9ms/step - loss: 27.5900 - mse: 1097.9512\n",
            "Epoch 176/500\n",
            "2/2 [==============================] - 0s 9ms/step - loss: 8.3138 - mse: 78.3022\n",
            "Epoch 177/500\n",
            "2/2 [==============================] - 0s 8ms/step - loss: 9.3066 - mse: 109.7032\n",
            "Epoch 178/500\n",
            "2/2 [==============================] - 0s 9ms/step - loss: 18.1109 - mse: 464.7593\n",
            "Epoch 179/500\n",
            "2/2 [==============================] - 0s 8ms/step - loss: 10.6309 - mse: 148.7780\n",
            "Epoch 180/500\n",
            "2/2 [==============================] - 0s 8ms/step - loss: 7.9411 - mse: 101.9074\n",
            "Epoch 181/500\n",
            "2/2 [==============================] - 0s 8ms/step - loss: 17.3471 - mse: 436.1387\n",
            "Epoch 182/500\n",
            "2/2 [==============================] - 0s 9ms/step - loss: 11.0322 - mse: 157.4019\n",
            "Epoch 183/500\n",
            "2/2 [==============================] - 0s 10ms/step - loss: 11.6848 - mse: 203.2551\n",
            "Epoch 184/500\n",
            "2/2 [==============================] - 0s 10ms/step - loss: 30.2572 - mse: 1373.3512\n",
            "Epoch 185/500\n",
            "2/2 [==============================] - 0s 8ms/step - loss: 8.2193 - mse: 130.9969\n",
            "Epoch 186/500\n",
            "2/2 [==============================] - 0s 8ms/step - loss: 18.7050 - mse: 513.2007\n",
            "Epoch 187/500\n",
            "2/2 [==============================] - 0s 8ms/step - loss: 8.8065 - mse: 146.8021\n",
            "Epoch 188/500\n",
            "2/2 [==============================] - 0s 9ms/step - loss: 23.6933 - mse: 820.0985\n",
            "Epoch 189/500\n",
            "2/2 [==============================] - 0s 8ms/step - loss: 9.4228 - mse: 115.8893\n",
            "Epoch 190/500\n",
            "2/2 [==============================] - 0s 7ms/step - loss: 17.1122 - mse: 400.7030\n",
            "Epoch 191/500\n",
            "2/2 [==============================] - 0s 6ms/step - loss: 8.6042 - mse: 138.2453\n",
            "Epoch 192/500\n",
            "2/2 [==============================] - 0s 8ms/step - loss: 15.1865 - mse: 303.4966\n",
            "Epoch 193/500\n",
            "2/2 [==============================] - 0s 7ms/step - loss: 30.0222 - mse: 1245.1871\n",
            "Epoch 194/500\n",
            "2/2 [==============================] - 0s 10ms/step - loss: 9.6583 - mse: 165.9577\n",
            "Epoch 195/500\n",
            "2/2 [==============================] - 0s 10ms/step - loss: 12.0302 - mse: 242.8587\n",
            "Epoch 196/500\n",
            "2/2 [==============================] - 0s 11ms/step - loss: 23.3903 - mse: 790.9434\n",
            "Epoch 197/500\n",
            "2/2 [==============================] - 0s 10ms/step - loss: 17.8588 - mse: 469.6948\n",
            "Epoch 198/500\n",
            "2/2 [==============================] - 0s 11ms/step - loss: 12.6395 - mse: 241.7766\n",
            "Epoch 199/500\n",
            "2/2 [==============================] - 0s 11ms/step - loss: 18.1161 - mse: 470.6744\n",
            "Epoch 200/500\n",
            "2/2 [==============================] - 0s 10ms/step - loss: 13.9442 - mse: 290.1967\n",
            "Epoch 201/500\n",
            "2/2 [==============================] - 0s 8ms/step - loss: 6.1078 - mse: 51.7189\n",
            "Epoch 202/500\n",
            "2/2 [==============================] - 0s 9ms/step - loss: 22.9301 - mse: 750.0770\n",
            "Epoch 203/500\n",
            "2/2 [==============================] - 0s 7ms/step - loss: 9.0368 - mse: 154.2141\n",
            "Epoch 204/500\n",
            "2/2 [==============================] - 0s 10ms/step - loss: 18.8664 - mse: 533.8039\n",
            "Epoch 205/500\n",
            "2/2 [==============================] - 0s 8ms/step - loss: 9.4336 - mse: 128.4355\n",
            "Epoch 206/500\n",
            "2/2 [==============================] - 0s 8ms/step - loss: 10.4926 - mse: 144.3112\n",
            "Epoch 207/500\n",
            "2/2 [==============================] - 0s 9ms/step - loss: 21.0589 - mse: 674.4952\n",
            "Epoch 208/500\n",
            "2/2 [==============================] - 0s 11ms/step - loss: 16.4753 - mse: 390.5657\n",
            "Epoch 209/500\n",
            "2/2 [==============================] - 0s 8ms/step - loss: 14.3418 - mse: 317.5409\n",
            "Epoch 210/500\n",
            "2/2 [==============================] - 0s 8ms/step - loss: 17.3035 - mse: 437.1572\n",
            "Epoch 211/500\n",
            "2/2 [==============================] - 0s 9ms/step - loss: 10.3005 - mse: 147.5122\n",
            "Epoch 212/500\n",
            "2/2 [==============================] - 0s 7ms/step - loss: 19.7696 - mse: 586.9401\n",
            "Epoch 213/500\n",
            "2/2 [==============================] - 0s 10ms/step - loss: 14.6853 - mse: 297.9427\n",
            "Epoch 214/500\n",
            "2/2 [==============================] - 0s 11ms/step - loss: 14.3672 - mse: 282.5891\n",
            "Epoch 215/500\n",
            "2/2 [==============================] - 0s 16ms/step - loss: 22.8637 - mse: 771.3854\n",
            "Epoch 216/500\n",
            "2/2 [==============================] - 0s 8ms/step - loss: 13.9264 - mse: 298.1750\n",
            "Epoch 217/500\n",
            "2/2 [==============================] - 0s 8ms/step - loss: 10.3645 - mse: 153.7712\n",
            "Epoch 218/500\n",
            "2/2 [==============================] - 0s 8ms/step - loss: 12.2515 - mse: 199.4973\n",
            "Epoch 219/500\n",
            "2/2 [==============================] - 0s 9ms/step - loss: 6.6023 - mse: 61.7342\n",
            "Epoch 220/500\n",
            "2/2 [==============================] - 0s 7ms/step - loss: 7.1716 - mse: 53.2291\n",
            "Epoch 221/500\n",
            "2/2 [==============================] - 0s 12ms/step - loss: 37.5003 - mse: 2408.0581\n",
            "Epoch 222/500\n",
            "2/2 [==============================] - 0s 8ms/step - loss: 37.3117 - mse: 2269.7063\n",
            "Epoch 223/500\n",
            "2/2 [==============================] - 0s 7ms/step - loss: 6.1491 - mse: 68.0804\n",
            "Epoch 224/500\n",
            "2/2 [==============================] - 0s 7ms/step - loss: 14.5266 - mse: 307.2485\n",
            "Epoch 225/500\n",
            "2/2 [==============================] - 0s 9ms/step - loss: 16.5396 - mse: 351.6590\n",
            "Epoch 226/500\n",
            "2/2 [==============================] - 0s 12ms/step - loss: 15.6936 - mse: 356.9243\n",
            "Epoch 227/500\n",
            "2/2 [==============================] - 0s 8ms/step - loss: 16.1550 - mse: 368.6605\n",
            "Epoch 228/500\n",
            "2/2 [==============================] - 0s 10ms/step - loss: 9.3246 - mse: 169.7850\n",
            "Epoch 229/500\n",
            "2/2 [==============================] - 0s 9ms/step - loss: 17.9897 - mse: 452.4298\n",
            "Epoch 230/500\n",
            "2/2 [==============================] - 0s 9ms/step - loss: 15.5891 - mse: 314.2528\n",
            "Epoch 231/500\n",
            "2/2 [==============================] - 0s 11ms/step - loss: 21.1050 - mse: 665.7545\n",
            "Epoch 232/500\n",
            "2/2 [==============================] - 0s 9ms/step - loss: 25.5217 - mse: 932.9988\n",
            "Epoch 233/500\n",
            "2/2 [==============================] - 0s 11ms/step - loss: 16.5244 - mse: 396.4880\n",
            "Epoch 234/500\n",
            "2/2 [==============================] - 0s 10ms/step - loss: 7.3905 - mse: 68.0269\n",
            "Epoch 235/500\n",
            "2/2 [==============================] - 0s 12ms/step - loss: 17.1548 - mse: 411.7512\n",
            "Epoch 236/500\n",
            "2/2 [==============================] - 0s 7ms/step - loss: 7.2455 - mse: 70.9588\n",
            "Epoch 237/500\n",
            "2/2 [==============================] - 0s 10ms/step - loss: 9.3377 - mse: 121.0239\n",
            "Epoch 238/500\n",
            "2/2 [==============================] - 0s 10ms/step - loss: 8.1982 - mse: 87.9195\n",
            "Epoch 239/500\n",
            "2/2 [==============================] - 0s 9ms/step - loss: 17.1231 - mse: 441.5837\n",
            "Epoch 240/500\n",
            "2/2 [==============================] - 0s 7ms/step - loss: 8.9576 - mse: 109.2472\n",
            "Epoch 241/500\n",
            "2/2 [==============================] - 0s 11ms/step - loss: 13.2335 - mse: 274.9722\n",
            "Epoch 242/500\n",
            "2/2 [==============================] - 0s 10ms/step - loss: 8.8693 - mse: 106.0188\n",
            "Epoch 243/500\n",
            "2/2 [==============================] - 0s 9ms/step - loss: 18.8040 - mse: 541.1329\n",
            "Epoch 244/500\n",
            "2/2 [==============================] - 0s 8ms/step - loss: 14.0953 - mse: 276.6229\n",
            "Epoch 245/500\n",
            "2/2 [==============================] - 0s 10ms/step - loss: 14.7174 - mse: 291.4616\n",
            "Epoch 246/500\n",
            "2/2 [==============================] - 0s 10ms/step - loss: 15.8546 - mse: 372.5965\n",
            "Epoch 247/500\n",
            "2/2 [==============================] - 0s 9ms/step - loss: 17.7463 - mse: 424.2048\n",
            "Epoch 248/500\n",
            "2/2 [==============================] - 0s 7ms/step - loss: 13.3017 - mse: 253.2147\n",
            "Epoch 249/500\n",
            "2/2 [==============================] - 0s 7ms/step - loss: 14.5628 - mse: 291.0057\n",
            "Epoch 250/500\n",
            "2/2 [==============================] - 0s 7ms/step - loss: 23.3092 - mse: 797.2313\n",
            "Epoch 251/500\n",
            "2/2 [==============================] - 0s 7ms/step - loss: 8.5449 - mse: 96.6194\n",
            "Epoch 252/500\n",
            "2/2 [==============================] - 0s 8ms/step - loss: 41.3467 - mse: 2885.8862\n",
            "Epoch 253/500\n",
            "2/2 [==============================] - 0s 9ms/step - loss: 25.5419 - mse: 922.9954\n",
            "Epoch 254/500\n",
            "2/2 [==============================] - 0s 11ms/step - loss: 7.6336 - mse: 71.5428\n",
            "Epoch 255/500\n",
            "2/2 [==============================] - 0s 10ms/step - loss: 26.9286 - mse: 1073.4119\n",
            "Epoch 256/500\n",
            "2/2 [==============================] - 0s 7ms/step - loss: 14.7443 - mse: 314.6785\n",
            "Epoch 257/500\n",
            "2/2 [==============================] - 0s 9ms/step - loss: 7.8343 - mse: 117.3205\n",
            "Epoch 258/500\n",
            "2/2 [==============================] - 0s 7ms/step - loss: 11.0618 - mse: 185.7873\n",
            "Epoch 259/500\n",
            "2/2 [==============================] - 0s 8ms/step - loss: 16.2573 - mse: 386.9013\n",
            "Epoch 260/500\n",
            "2/2 [==============================] - 0s 7ms/step - loss: 24.3856 - mse: 883.5431\n",
            "Epoch 261/500\n",
            "2/2 [==============================] - 0s 7ms/step - loss: 8.9259 - mse: 140.0391\n",
            "Epoch 262/500\n",
            "2/2 [==============================] - 0s 9ms/step - loss: 8.0957 - mse: 125.8294\n",
            "Epoch 263/500\n",
            "2/2 [==============================] - 0s 9ms/step - loss: 7.7948 - mse: 107.7965\n",
            "Epoch 264/500\n",
            "2/2 [==============================] - 0s 7ms/step - loss: 16.6804 - mse: 392.5708\n",
            "Epoch 265/500\n",
            "2/2 [==============================] - 0s 10ms/step - loss: 12.6809 - mse: 223.0257\n",
            "Epoch 266/500\n",
            "2/2 [==============================] - 0s 9ms/step - loss: 14.2324 - mse: 282.4145\n",
            "Epoch 267/500\n",
            "2/2 [==============================] - 0s 7ms/step - loss: 11.3735 - mse: 221.6158\n",
            "Epoch 268/500\n",
            "2/2 [==============================] - 0s 11ms/step - loss: 19.8447 - mse: 581.0404\n",
            "Epoch 269/500\n",
            "2/2 [==============================] - 0s 8ms/step - loss: 38.5917 - mse: 2290.7043\n",
            "Epoch 270/500\n",
            "2/2 [==============================] - 0s 10ms/step - loss: 11.5173 - mse: 202.5452\n",
            "Epoch 271/500\n",
            "2/2 [==============================] - 0s 11ms/step - loss: 13.9750 - mse: 272.0177\n",
            "Epoch 272/500\n",
            "2/2 [==============================] - 0s 7ms/step - loss: 27.6595 - mse: 1051.8152\n",
            "Epoch 273/500\n",
            "2/2 [==============================] - 0s 10ms/step - loss: 8.4139 - mse: 93.4136\n",
            "Epoch 274/500\n",
            "2/2 [==============================] - 0s 10ms/step - loss: 6.5109 - mse: 50.9717\n",
            "Epoch 275/500\n",
            "2/2 [==============================] - 0s 8ms/step - loss: 35.3747 - mse: 1902.9886\n",
            "Epoch 276/500\n",
            "2/2 [==============================] - 0s 10ms/step - loss: 8.1556 - mse: 116.4353\n",
            "Epoch 277/500\n",
            "2/2 [==============================] - 0s 9ms/step - loss: 26.4463 - mse: 950.0718\n",
            "Epoch 278/500\n",
            "2/2 [==============================] - 0s 7ms/step - loss: 11.2937 - mse: 227.8441\n",
            "Epoch 279/500\n",
            "2/2 [==============================] - 0s 11ms/step - loss: 16.0799 - mse: 386.7698\n",
            "Epoch 280/500\n",
            "2/2 [==============================] - 0s 8ms/step - loss: 21.1530 - mse: 677.2065\n",
            "Epoch 281/500\n",
            "2/2 [==============================] - 0s 7ms/step - loss: 18.0198 - mse: 494.7005\n",
            "Epoch 282/500\n",
            "2/2 [==============================] - 0s 7ms/step - loss: 6.9171 - mse: 95.0916\n",
            "Epoch 283/500\n",
            "2/2 [==============================] - 0s 8ms/step - loss: 8.1169 - mse: 86.7695\n",
            "Epoch 284/500\n",
            "2/2 [==============================] - 0s 8ms/step - loss: 24.4989 - mse: 900.6045\n",
            "Epoch 285/500\n",
            "2/2 [==============================] - 0s 7ms/step - loss: 13.3565 - mse: 286.2271\n",
            "Epoch 286/500\n",
            "2/2 [==============================] - 0s 7ms/step - loss: 8.6530 - mse: 156.4809\n",
            "Epoch 287/500\n",
            "2/2 [==============================] - 0s 9ms/step - loss: 22.3461 - mse: 732.2103\n",
            "Epoch 288/500\n",
            "2/2 [==============================] - 0s 9ms/step - loss: 23.2837 - mse: 811.1393\n",
            "Epoch 289/500\n",
            "2/2 [==============================] - 0s 10ms/step - loss: 12.0945 - mse: 243.4870\n",
            "Epoch 290/500\n",
            "2/2 [==============================] - 0s 9ms/step - loss: 16.6626 - mse: 373.4707\n",
            "Epoch 291/500\n",
            "2/2 [==============================] - 0s 9ms/step - loss: 16.9660 - mse: 423.0295\n",
            "Epoch 292/500\n",
            "2/2 [==============================] - 0s 11ms/step - loss: 9.5961 - mse: 208.8434\n",
            "Epoch 293/500\n",
            "2/2 [==============================] - 0s 9ms/step - loss: 15.3742 - mse: 323.5673\n",
            "Epoch 294/500\n",
            "2/2 [==============================] - 0s 13ms/step - loss: 22.9037 - mse: 791.5559\n",
            "Epoch 295/500\n",
            "2/2 [==============================] - 0s 10ms/step - loss: 17.5334 - mse: 438.9068\n",
            "Epoch 296/500\n",
            "2/2 [==============================] - 0s 11ms/step - loss: 6.0589 - mse: 60.2814\n",
            "Epoch 297/500\n",
            "2/2 [==============================] - 0s 13ms/step - loss: 11.0399 - mse: 247.4912\n",
            "Epoch 298/500\n",
            "2/2 [==============================] - 0s 11ms/step - loss: 23.3421 - mse: 796.9595\n",
            "Epoch 299/500\n",
            "2/2 [==============================] - 0s 9ms/step - loss: 17.3204 - mse: 449.4280\n",
            "Epoch 300/500\n",
            "2/2 [==============================] - 0s 12ms/step - loss: 6.9502 - mse: 61.3209\n",
            "Epoch 301/500\n",
            "2/2 [==============================] - 0s 11ms/step - loss: 24.6986 - mse: 860.2454\n",
            "Epoch 302/500\n",
            "2/2 [==============================] - 0s 10ms/step - loss: 8.2479 - mse: 95.3940\n",
            "Epoch 303/500\n",
            "2/2 [==============================] - 0s 11ms/step - loss: 21.0856 - mse: 655.2787\n",
            "Epoch 304/500\n",
            "2/2 [==============================] - 0s 10ms/step - loss: 13.6931 - mse: 278.5260\n",
            "Epoch 305/500\n",
            "2/2 [==============================] - 0s 9ms/step - loss: 7.1063 - mse: 93.4910\n",
            "Epoch 306/500\n",
            "2/2 [==============================] - 0s 8ms/step - loss: 19.1707 - mse: 514.0508\n",
            "Epoch 307/500\n",
            "2/2 [==============================] - 0s 9ms/step - loss: 9.0334 - mse: 163.7350\n",
            "Epoch 308/500\n",
            "2/2 [==============================] - 0s 10ms/step - loss: 20.6615 - mse: 655.2076\n",
            "Epoch 309/500\n",
            "2/2 [==============================] - 0s 10ms/step - loss: 13.4756 - mse: 285.9191\n",
            "Epoch 310/500\n",
            "2/2 [==============================] - 0s 8ms/step - loss: 6.7381 - mse: 96.6535\n",
            "Epoch 311/500\n",
            "2/2 [==============================] - 0s 10ms/step - loss: 13.7021 - mse: 264.5197\n",
            "Epoch 312/500\n",
            "2/2 [==============================] - 0s 11ms/step - loss: 30.0675 - mse: 1248.1394\n",
            "Epoch 313/500\n",
            "2/2 [==============================] - 0s 10ms/step - loss: 7.5120 - mse: 105.3823\n",
            "Epoch 314/500\n",
            "2/2 [==============================] - 0s 10ms/step - loss: 10.5039 - mse: 269.9544\n",
            "Epoch 315/500\n",
            "2/2 [==============================] - 0s 8ms/step - loss: 23.4076 - mse: 797.3058\n",
            "Epoch 316/500\n",
            "2/2 [==============================] - 0s 9ms/step - loss: 14.7141 - mse: 335.9352\n",
            "Epoch 317/500\n",
            "2/2 [==============================] - 0s 11ms/step - loss: 20.3802 - mse: 568.1299\n",
            "Epoch 318/500\n",
            "2/2 [==============================] - 0s 10ms/step - loss: 8.1617 - mse: 88.2171\n",
            "Epoch 319/500\n",
            "2/2 [==============================] - 0s 11ms/step - loss: 18.4496 - mse: 503.3857\n",
            "Epoch 320/500\n",
            "2/2 [==============================] - 0s 9ms/step - loss: 10.8994 - mse: 199.6065\n",
            "Epoch 321/500\n",
            "2/2 [==============================] - 0s 10ms/step - loss: 7.2224 - mse: 108.2200\n",
            "Epoch 322/500\n",
            "2/2 [==============================] - 0s 10ms/step - loss: 8.6398 - mse: 174.3377\n",
            "Epoch 323/500\n",
            "2/2 [==============================] - 0s 10ms/step - loss: 18.2670 - mse: 513.7257\n",
            "Epoch 324/500\n",
            "2/2 [==============================] - 0s 9ms/step - loss: 16.3279 - mse: 360.8790\n",
            "Epoch 325/500\n",
            "2/2 [==============================] - 0s 9ms/step - loss: 18.2991 - mse: 526.7281\n",
            "Epoch 326/500\n",
            "2/2 [==============================] - 0s 11ms/step - loss: 22.4052 - mse: 754.1041\n",
            "Epoch 327/500\n",
            "2/2 [==============================] - 0s 9ms/step - loss: 8.5570 - mse: 103.9726\n",
            "Epoch 328/500\n",
            "2/2 [==============================] - 0s 11ms/step - loss: 7.0778 - mse: 101.5273\n",
            "Epoch 329/500\n",
            "2/2 [==============================] - 0s 10ms/step - loss: 9.9540 - mse: 147.6292\n",
            "Epoch 330/500\n",
            "2/2 [==============================] - 0s 11ms/step - loss: 6.8772 - mse: 90.2704\n",
            "Epoch 331/500\n",
            "2/2 [==============================] - 0s 7ms/step - loss: 20.1130 - mse: 615.4447\n",
            "Epoch 332/500\n",
            "2/2 [==============================] - 0s 13ms/step - loss: 11.2130 - mse: 200.6732\n",
            "Epoch 333/500\n",
            "2/2 [==============================] - 0s 12ms/step - loss: 13.4433 - mse: 281.7184\n",
            "Epoch 334/500\n",
            "2/2 [==============================] - 0s 8ms/step - loss: 10.3825 - mse: 211.2706\n",
            "Epoch 335/500\n",
            "2/2 [==============================] - 0s 7ms/step - loss: 12.4861 - mse: 283.9629\n",
            "Epoch 336/500\n",
            "2/2 [==============================] - 0s 8ms/step - loss: 32.1399 - mse: 1408.8158\n",
            "Epoch 337/500\n",
            "2/2 [==============================] - 0s 10ms/step - loss: 10.3800 - mse: 181.6599\n",
            "Epoch 338/500\n",
            "2/2 [==============================] - 0s 12ms/step - loss: 19.5235 - mse: 565.6382\n",
            "Epoch 339/500\n",
            "2/2 [==============================] - 0s 13ms/step - loss: 35.5322 - mse: 1902.6501\n",
            "Epoch 340/500\n",
            "2/2 [==============================] - 0s 10ms/step - loss: 10.6280 - mse: 185.1413\n",
            "Epoch 341/500\n",
            "2/2 [==============================] - 0s 10ms/step - loss: 10.1962 - mse: 172.4384\n",
            "Epoch 342/500\n",
            "2/2 [==============================] - 0s 8ms/step - loss: 13.2754 - mse: 232.1398\n",
            "Epoch 343/500\n",
            "2/2 [==============================] - 0s 7ms/step - loss: 11.0370 - mse: 168.2133\n",
            "Epoch 344/500\n",
            "2/2 [==============================] - 0s 7ms/step - loss: 9.9721 - mse: 210.0132\n",
            "Epoch 345/500\n",
            "2/2 [==============================] - 0s 8ms/step - loss: 30.9978 - mse: 1350.8096\n",
            "Epoch 346/500\n",
            "2/2 [==============================] - 0s 8ms/step - loss: 10.7016 - mse: 254.2519\n",
            "Epoch 347/500\n",
            "2/2 [==============================] - 0s 10ms/step - loss: 25.6961 - mse: 924.0076\n",
            "Epoch 348/500\n",
            "2/2 [==============================] - 0s 10ms/step - loss: 12.9814 - mse: 263.4416\n",
            "Epoch 349/500\n",
            "2/2 [==============================] - 0s 9ms/step - loss: 13.1537 - mse: 249.7754\n",
            "Epoch 350/500\n",
            "2/2 [==============================] - 0s 10ms/step - loss: 15.4474 - mse: 332.4580\n",
            "Epoch 351/500\n",
            "2/2 [==============================] - 0s 11ms/step - loss: 32.9466 - mse: 1523.2195\n",
            "Epoch 352/500\n",
            "2/2 [==============================] - 0s 12ms/step - loss: 14.1987 - mse: 282.6276\n",
            "Epoch 353/500\n",
            "2/2 [==============================] - 0s 8ms/step - loss: 15.9162 - mse: 373.4337\n",
            "Epoch 354/500\n",
            "2/2 [==============================] - 0s 8ms/step - loss: 19.0763 - mse: 534.0336\n",
            "Epoch 355/500\n",
            "2/2 [==============================] - 0s 9ms/step - loss: 34.1611 - mse: 1788.3103\n",
            "Epoch 356/500\n",
            "2/2 [==============================] - 0s 9ms/step - loss: 7.7330 - mse: 91.7109\n",
            "Epoch 357/500\n",
            "2/2 [==============================] - 0s 8ms/step - loss: 25.2278 - mse: 975.1564\n",
            "Epoch 358/500\n",
            "2/2 [==============================] - 0s 8ms/step - loss: 22.6986 - mse: 743.8596\n",
            "Epoch 359/500\n",
            "2/2 [==============================] - 0s 8ms/step - loss: 8.9196 - mse: 199.1341\n",
            "Epoch 360/500\n",
            "2/2 [==============================] - 0s 9ms/step - loss: 21.4870 - mse: 687.7297\n",
            "Epoch 361/500\n",
            "2/2 [==============================] - 0s 10ms/step - loss: 20.5806 - mse: 615.4601\n",
            "Epoch 362/500\n",
            "2/2 [==============================] - 0s 7ms/step - loss: 7.1173 - mse: 70.0890\n",
            "Epoch 363/500\n",
            "2/2 [==============================] - 0s 9ms/step - loss: 25.7578 - mse: 990.3246\n",
            "Epoch 364/500\n",
            "2/2 [==============================] - 0s 8ms/step - loss: 32.1600 - mse: 1521.0352\n",
            "Epoch 365/500\n",
            "2/2 [==============================] - 0s 11ms/step - loss: 10.0259 - mse: 161.7396\n",
            "Epoch 366/500\n",
            "2/2 [==============================] - 0s 10ms/step - loss: 9.7131 - mse: 226.4355\n",
            "Epoch 367/500\n",
            "2/2 [==============================] - 0s 9ms/step - loss: 30.4425 - mse: 1296.2466\n",
            "Epoch 368/500\n",
            "2/2 [==============================] - 0s 9ms/step - loss: 10.5479 - mse: 235.2808\n",
            "Epoch 369/500\n",
            "2/2 [==============================] - 0s 10ms/step - loss: 15.0374 - mse: 332.9275\n",
            "Epoch 370/500\n",
            "2/2 [==============================] - 0s 8ms/step - loss: 14.6912 - mse: 309.9949\n",
            "Epoch 371/500\n",
            "2/2 [==============================] - 0s 12ms/step - loss: 23.4300 - mse: 792.1776\n",
            "Epoch 372/500\n",
            "2/2 [==============================] - 0s 8ms/step - loss: 13.0144 - mse: 288.2376\n",
            "Epoch 373/500\n",
            "2/2 [==============================] - 0s 11ms/step - loss: 8.9312 - mse: 126.5844\n",
            "Epoch 374/500\n",
            "2/2 [==============================] - 0s 13ms/step - loss: 5.8922 - mse: 69.6434\n",
            "Epoch 375/500\n",
            "2/2 [==============================] - 0s 10ms/step - loss: 14.7871 - mse: 306.0235\n",
            "Epoch 376/500\n",
            "2/2 [==============================] - 0s 17ms/step - loss: 16.5309 - mse: 423.7968\n",
            "Epoch 377/500\n",
            "2/2 [==============================] - 0s 13ms/step - loss: 5.3722 - mse: 46.8592\n",
            "Epoch 378/500\n",
            "2/2 [==============================] - 0s 10ms/step - loss: 19.9951 - mse: 592.2900\n",
            "Epoch 379/500\n",
            "2/2 [==============================] - 0s 12ms/step - loss: 30.8162 - mse: 1372.7899\n",
            "Epoch 380/500\n",
            "2/2 [==============================] - 0s 10ms/step - loss: 26.8239 - mse: 1048.8516\n",
            "Epoch 381/500\n",
            "2/2 [==============================] - 0s 6ms/step - loss: 6.5675 - mse: 92.8005\n",
            "Epoch 382/500\n",
            "2/2 [==============================] - 0s 8ms/step - loss: 7.6012 - mse: 91.9274\n",
            "Epoch 383/500\n",
            "2/2 [==============================] - 0s 15ms/step - loss: 15.4788 - mse: 319.5297\n",
            "Epoch 384/500\n",
            "2/2 [==============================] - 0s 11ms/step - loss: 15.9441 - mse: 381.6257\n",
            "Epoch 385/500\n",
            "2/2 [==============================] - 0s 8ms/step - loss: 11.5837 - mse: 257.9174\n",
            "Epoch 386/500\n",
            "2/2 [==============================] - 0s 9ms/step - loss: 19.8453 - mse: 604.7388\n",
            "Epoch 387/500\n",
            "2/2 [==============================] - 0s 10ms/step - loss: 24.6271 - mse: 879.4287\n",
            "Epoch 388/500\n",
            "2/2 [==============================] - 0s 7ms/step - loss: 8.2751 - mse: 109.3373\n",
            "Epoch 389/500\n",
            "2/2 [==============================] - 0s 9ms/step - loss: 10.8115 - mse: 189.0702\n",
            "Epoch 390/500\n",
            "2/2 [==============================] - 0s 10ms/step - loss: 4.8274 - mse: 40.0029\n",
            "Epoch 391/500\n",
            "2/2 [==============================] - 0s 10ms/step - loss: 18.8238 - mse: 538.7216\n",
            "Epoch 392/500\n",
            "2/2 [==============================] - 0s 8ms/step - loss: 26.9960 - mse: 1030.7375\n",
            "Epoch 393/500\n",
            "2/2 [==============================] - 0s 8ms/step - loss: 12.3313 - mse: 247.4811\n",
            "Epoch 394/500\n",
            "2/2 [==============================] - 0s 8ms/step - loss: 11.8489 - mse: 275.5114\n",
            "Epoch 395/500\n",
            "2/2 [==============================] - 0s 7ms/step - loss: 25.3035 - mse: 903.3102\n",
            "Epoch 396/500\n",
            "2/2 [==============================] - 0s 9ms/step - loss: 18.2581 - mse: 478.6286\n",
            "Epoch 397/500\n",
            "2/2 [==============================] - 0s 12ms/step - loss: 11.8179 - mse: 270.1288\n",
            "Epoch 398/500\n",
            "2/2 [==============================] - 0s 11ms/step - loss: 19.6711 - mse: 601.5186\n",
            "Epoch 399/500\n",
            "2/2 [==============================] - 0s 9ms/step - loss: 24.9286 - mse: 924.0314\n",
            "Epoch 400/500\n",
            "2/2 [==============================] - 0s 10ms/step - loss: 14.6086 - mse: 312.1241\n",
            "Epoch 401/500\n",
            "2/2 [==============================] - 0s 9ms/step - loss: 14.5473 - mse: 281.8597\n",
            "Epoch 402/500\n",
            "2/2 [==============================] - 0s 12ms/step - loss: 24.0005 - mse: 820.6528\n",
            "Epoch 403/500\n",
            "2/2 [==============================] - 0s 9ms/step - loss: 17.0052 - mse: 425.9276\n",
            "Epoch 404/500\n",
            "2/2 [==============================] - 0s 10ms/step - loss: 9.8795 - mse: 186.7030\n",
            "Epoch 405/500\n",
            "2/2 [==============================] - 0s 9ms/step - loss: 7.0000 - mse: 74.3985\n",
            "Epoch 406/500\n",
            "2/2 [==============================] - 0s 9ms/step - loss: 20.2961 - mse: 620.9028\n",
            "Epoch 407/500\n",
            "2/2 [==============================] - 0s 8ms/step - loss: 9.1342 - mse: 199.0135\n",
            "Epoch 408/500\n",
            "2/2 [==============================] - 0s 8ms/step - loss: 21.9177 - mse: 723.0944\n",
            "Epoch 409/500\n",
            "2/2 [==============================] - 0s 8ms/step - loss: 27.8068 - mse: 1181.5265\n",
            "Epoch 410/500\n",
            "2/2 [==============================] - 0s 10ms/step - loss: 10.7812 - mse: 248.0830\n",
            "Epoch 411/500\n",
            "2/2 [==============================] - 0s 10ms/step - loss: 14.8814 - mse: 286.2923\n",
            "Epoch 412/500\n",
            "2/2 [==============================] - 0s 7ms/step - loss: 21.7317 - mse: 721.2026\n",
            "Epoch 413/500\n",
            "2/2 [==============================] - 0s 8ms/step - loss: 12.6693 - mse: 249.1682\n",
            "Epoch 414/500\n",
            "2/2 [==============================] - 0s 9ms/step - loss: 6.1215 - mse: 88.8841\n",
            "Epoch 415/500\n",
            "2/2 [==============================] - 0s 13ms/step - loss: 13.2288 - mse: 240.1355\n",
            "Epoch 416/500\n",
            "2/2 [==============================] - 0s 10ms/step - loss: 27.4396 - mse: 1038.5276\n",
            "Epoch 417/500\n",
            "2/2 [==============================] - 0s 10ms/step - loss: 10.6120 - mse: 206.9045\n",
            "Epoch 418/500\n",
            "2/2 [==============================] - 0s 9ms/step - loss: 12.8498 - mse: 237.5909\n",
            "Epoch 419/500\n",
            "2/2 [==============================] - 0s 10ms/step - loss: 15.9159 - mse: 376.0329\n",
            "Epoch 420/500\n",
            "2/2 [==============================] - 0s 7ms/step - loss: 24.7890 - mse: 851.4204\n",
            "Epoch 421/500\n",
            "2/2 [==============================] - 0s 9ms/step - loss: 17.2982 - mse: 441.0426\n",
            "Epoch 422/500\n",
            "2/2 [==============================] - 0s 10ms/step - loss: 7.8813 - mse: 156.2749\n",
            "Epoch 423/500\n",
            "2/2 [==============================] - 0s 9ms/step - loss: 25.4312 - mse: 910.5548\n",
            "Epoch 424/500\n",
            "2/2 [==============================] - 0s 8ms/step - loss: 14.9884 - mse: 365.7430\n",
            "Epoch 425/500\n",
            "2/2 [==============================] - 0s 8ms/step - loss: 7.1943 - mse: 75.6727\n",
            "Epoch 426/500\n",
            "2/2 [==============================] - 0s 10ms/step - loss: 20.1807 - mse: 563.7075\n",
            "Epoch 427/500\n",
            "2/2 [==============================] - 0s 8ms/step - loss: 6.3418 - mse: 86.5117\n",
            "Epoch 428/500\n",
            "2/2 [==============================] - 0s 7ms/step - loss: 12.6530 - mse: 271.1715\n",
            "Epoch 429/500\n",
            "2/2 [==============================] - 0s 9ms/step - loss: 12.0760 - mse: 230.1858\n",
            "Epoch 430/500\n",
            "2/2 [==============================] - 0s 8ms/step - loss: 11.0874 - mse: 243.1036\n",
            "Epoch 431/500\n",
            "2/2 [==============================] - 0s 7ms/step - loss: 10.0268 - mse: 194.3472\n",
            "Epoch 432/500\n",
            "2/2 [==============================] - 0s 9ms/step - loss: 13.3429 - mse: 290.5593\n",
            "Epoch 433/500\n",
            "2/2 [==============================] - 0s 10ms/step - loss: 11.4328 - mse: 293.5756\n",
            "Epoch 434/500\n",
            "2/2 [==============================] - 0s 10ms/step - loss: 30.4387 - mse: 1299.3998\n",
            "Epoch 435/500\n",
            "2/2 [==============================] - 0s 7ms/step - loss: 10.5651 - mse: 280.0491\n",
            "Epoch 436/500\n",
            "2/2 [==============================] - 0s 8ms/step - loss: 28.9357 - mse: 1220.0315\n",
            "Epoch 437/500\n",
            "2/2 [==============================] - 0s 8ms/step - loss: 8.7023 - mse: 207.3943\n",
            "Epoch 438/500\n",
            "2/2 [==============================] - 0s 10ms/step - loss: 12.7769 - mse: 262.1617\n",
            "Epoch 439/500\n",
            "2/2 [==============================] - 0s 8ms/step - loss: 33.7117 - mse: 1573.2008\n",
            "Epoch 440/500\n",
            "2/2 [==============================] - 0s 8ms/step - loss: 15.1879 - mse: 298.0566\n",
            "Epoch 441/500\n",
            "2/2 [==============================] - 0s 7ms/step - loss: 17.5548 - mse: 492.7617\n",
            "Epoch 442/500\n",
            "2/2 [==============================] - 0s 7ms/step - loss: 22.4323 - mse: 757.5909\n",
            "Epoch 443/500\n",
            "2/2 [==============================] - 0s 7ms/step - loss: 23.2864 - mse: 763.4352\n",
            "Epoch 444/500\n",
            "2/2 [==============================] - 0s 7ms/step - loss: 10.7780 - mse: 198.3801\n",
            "Epoch 445/500\n",
            "2/2 [==============================] - 0s 8ms/step - loss: 15.0116 - mse: 321.5556\n",
            "Epoch 446/500\n",
            "2/2 [==============================] - 0s 8ms/step - loss: 18.1338 - mse: 522.3638\n",
            "Epoch 447/500\n",
            "2/2 [==============================] - 0s 8ms/step - loss: 5.3781 - mse: 52.1468\n",
            "Epoch 448/500\n",
            "2/2 [==============================] - 0s 8ms/step - loss: 10.1992 - mse: 249.1711\n",
            "Epoch 449/500\n",
            "2/2 [==============================] - 0s 7ms/step - loss: 14.1220 - mse: 280.4844\n",
            "Epoch 450/500\n",
            "2/2 [==============================] - 0s 7ms/step - loss: 16.9002 - mse: 431.8209\n",
            "Epoch 451/500\n",
            "2/2 [==============================] - 0s 8ms/step - loss: 14.3616 - mse: 308.9788\n",
            "Epoch 452/500\n",
            "2/2 [==============================] - 0s 8ms/step - loss: 30.7167 - mse: 1337.2587\n",
            "Epoch 453/500\n",
            "2/2 [==============================] - 0s 7ms/step - loss: 8.4495 - mse: 198.9700\n",
            "Epoch 454/500\n",
            "2/2 [==============================] - 0s 8ms/step - loss: 27.6470 - mse: 1067.6003\n",
            "Epoch 455/500\n",
            "2/2 [==============================] - 0s 8ms/step - loss: 9.9704 - mse: 190.3263\n",
            "Epoch 456/500\n",
            "2/2 [==============================] - 0s 8ms/step - loss: 14.6198 - mse: 289.5395\n",
            "Epoch 457/500\n",
            "2/2 [==============================] - 0s 7ms/step - loss: 17.7760 - mse: 481.4258\n",
            "Epoch 458/500\n",
            "2/2 [==============================] - 0s 7ms/step - loss: 14.0785 - mse: 270.6601\n",
            "Epoch 459/500\n",
            "2/2 [==============================] - 0s 9ms/step - loss: 25.9825 - mse: 973.7050\n",
            "Epoch 460/500\n",
            "2/2 [==============================] - 0s 8ms/step - loss: 14.8256 - mse: 328.6259\n",
            "Epoch 461/500\n",
            "2/2 [==============================] - 0s 8ms/step - loss: 12.0379 - mse: 263.9757\n",
            "Epoch 462/500\n",
            "2/2 [==============================] - 0s 8ms/step - loss: 13.3113 - mse: 245.0915\n",
            "Epoch 463/500\n",
            "2/2 [==============================] - 0s 8ms/step - loss: 29.5225 - mse: 1217.1709\n",
            "Epoch 464/500\n",
            "2/2 [==============================] - 0s 7ms/step - loss: 3.5224 - mse: 22.6948\n",
            "Epoch 465/500\n",
            "2/2 [==============================] - 0s 7ms/step - loss: 15.1944 - mse: 351.5735\n",
            "Epoch 466/500\n",
            "2/2 [==============================] - 0s 11ms/step - loss: 20.8044 - mse: 649.4382\n",
            "Epoch 467/500\n",
            "2/2 [==============================] - 0s 7ms/step - loss: 30.5871 - mse: 1429.9130\n",
            "Epoch 468/500\n",
            "2/2 [==============================] - 0s 8ms/step - loss: 11.1292 - mse: 237.1480\n",
            "Epoch 469/500\n",
            "2/2 [==============================] - 0s 8ms/step - loss: 12.8910 - mse: 279.6559\n",
            "Epoch 470/500\n",
            "2/2 [==============================] - 0s 8ms/step - loss: 3.3165 - mse: 14.6687\n",
            "Epoch 471/500\n",
            "2/2 [==============================] - 0s 8ms/step - loss: 16.7165 - mse: 373.3696\n",
            "Epoch 472/500\n",
            "2/2 [==============================] - 0s 8ms/step - loss: 13.4003 - mse: 253.7249\n",
            "Epoch 473/500\n",
            "2/2 [==============================] - 0s 7ms/step - loss: 15.3066 - mse: 397.2565\n",
            "Epoch 474/500\n",
            "2/2 [==============================] - 0s 8ms/step - loss: 11.7798 - mse: 305.3572\n",
            "Epoch 475/500\n",
            "2/2 [==============================] - 0s 8ms/step - loss: 16.4280 - mse: 398.1713\n",
            "Epoch 476/500\n",
            "2/2 [==============================] - 0s 8ms/step - loss: 13.9001 - mse: 274.8592\n",
            "Epoch 477/500\n",
            "2/2 [==============================] - 0s 8ms/step - loss: 30.6834 - mse: 1310.1941\n",
            "Epoch 478/500\n",
            "2/2 [==============================] - 0s 8ms/step - loss: 8.6226 - mse: 188.3031\n",
            "Epoch 479/500\n",
            "2/2 [==============================] - 0s 8ms/step - loss: 10.7838 - mse: 261.0995\n",
            "Epoch 480/500\n",
            "2/2 [==============================] - 0s 8ms/step - loss: 17.9486 - mse: 486.3490\n",
            "Epoch 481/500\n",
            "2/2 [==============================] - 0s 8ms/step - loss: 15.8508 - mse: 370.1846\n",
            "Epoch 482/500\n",
            "2/2 [==============================] - 0s 8ms/step - loss: 21.3688 - mse: 700.9540\n",
            "Epoch 483/500\n",
            "2/2 [==============================] - 0s 8ms/step - loss: 25.2399 - mse: 942.9711\n",
            "Epoch 484/500\n",
            "2/2 [==============================] - 0s 8ms/step - loss: 23.8589 - mse: 802.1626\n",
            "Epoch 485/500\n",
            "2/2 [==============================] - 0s 8ms/step - loss: 5.8165 - mse: 54.2808\n",
            "Epoch 486/500\n",
            "2/2 [==============================] - 0s 8ms/step - loss: 19.7687 - mse: 552.4168\n",
            "Epoch 487/500\n",
            "2/2 [==============================] - 0s 7ms/step - loss: 13.9506 - mse: 279.0269\n",
            "Epoch 488/500\n",
            "2/2 [==============================] - 0s 8ms/step - loss: 30.4221 - mse: 1319.0623\n",
            "Epoch 489/500\n",
            "2/2 [==============================] - 0s 7ms/step - loss: 11.6635 - mse: 239.1531\n",
            "Epoch 490/500\n",
            "2/2 [==============================] - 0s 8ms/step - loss: 12.4264 - mse: 245.5278\n",
            "Epoch 491/500\n",
            "2/2 [==============================] - 0s 8ms/step - loss: 23.5809 - mse: 834.6196\n",
            "Epoch 492/500\n",
            "2/2 [==============================] - 0s 8ms/step - loss: 20.4918 - mse: 590.0494\n",
            "Epoch 493/500\n",
            "2/2 [==============================] - 0s 8ms/step - loss: 5.0473 - mse: 48.6510\n",
            "Epoch 494/500\n",
            "2/2 [==============================] - 0s 8ms/step - loss: 12.7625 - mse: 246.5988\n",
            "Epoch 495/500\n",
            "2/2 [==============================] - 0s 7ms/step - loss: 13.4217 - mse: 240.9113\n",
            "Epoch 496/500\n",
            "2/2 [==============================] - 0s 8ms/step - loss: 12.7061 - mse: 241.7386\n",
            "Epoch 497/500\n",
            "2/2 [==============================] - 0s 8ms/step - loss: 17.6866 - mse: 518.0229\n",
            "Epoch 498/500\n",
            "2/2 [==============================] - 0s 11ms/step - loss: 23.4409 - mse: 807.6550\n",
            "Epoch 499/500\n",
            "2/2 [==============================] - 0s 7ms/step - loss: 9.1767 - mse: 130.1276\n",
            "Epoch 500/500\n",
            "2/2 [==============================] - 0s 12ms/step - loss: 14.3986 - mse: 273.7322\n"
          ]
        },
        {
          "output_type": "execute_result",
          "data": {
            "text/plain": [
              "<keras.src.callbacks.History at 0x7d6e4f7ef790>"
            ]
          },
          "metadata": {},
          "execution_count": 67
        }
      ]
    },
    {
      "cell_type": "code",
      "source": [
        "model_3.summary()"
      ],
      "metadata": {
        "colab": {
          "base_uri": "https://localhost:8080/"
        },
        "id": "CNNbUx087IcH",
        "outputId": "c8c5347d-ff3d-457e-8f2e-09646cce4f6f"
      },
      "execution_count": 68,
      "outputs": [
        {
          "output_type": "stream",
          "name": "stdout",
          "text": [
            "Model: \"model_3\"\n",
            "_________________________________________________________________\n",
            " Layer (type)                Output Shape              Param #   \n",
            "=================================================================\n",
            " dense_7 (Dense)             (None, 10)                20        \n",
            "                                                                 \n",
            " dense_8 (Dense)             (None, 1)                 11        \n",
            "                                                                 \n",
            "=================================================================\n",
            "Total params: 31 (124.00 Byte)\n",
            "Trainable params: 31 (124.00 Byte)\n",
            "Non-trainable params: 0 (0.00 Byte)\n",
            "_________________________________________________________________\n"
          ]
        }
      ]
    },
    {
      "cell_type": "code",
      "source": [
        "plot_model(model_3, show_shapes = True)"
      ],
      "metadata": {
        "colab": {
          "base_uri": "https://localhost:8080/",
          "height": 312
        },
        "id": "9AySNW1m7Ntz",
        "outputId": "f2e2af4a-94be-47f0-b19f-b51cd3ef4d6c"
      },
      "execution_count": 69,
      "outputs": [
        {
          "output_type": "execute_result",
          "data": {
            "image/png": "[encoded data removed]",
            "text/plain": [
              "<IPython.core.display.Image object>"
            ]
          },
          "metadata": {},
          "execution_count": 69
        }
      ]
    },
    {
      "cell_type": "code",
      "source": [
        "y_pred_3 = model_3.predict(X_test)\n",
        "y_pred_3"
      ],
      "metadata": {
        "colab": {
          "base_uri": "https://localhost:8080/"
        },
        "id": "-72TPbGu7UyZ",
        "outputId": "9d95aee4-b2b5-4c8c-e0ca-420a0bb49e05"
      },
      "execution_count": 70,
      "outputs": [
        {
          "output_type": "stream",
          "name": "stdout",
          "text": [
            "1/1 [==============================] - 0s 89ms/step\n"
          ]
        },
        {
          "output_type": "execute_result",
          "data": {
            "text/plain": [
              "array([[16.410559],\n",
              "       [17.212072],\n",
              "       [18.013586],\n",
              "       [18.8151  ],\n",
              "       [19.616613],\n",
              "       [20.418125],\n",
              "       [21.219639],\n",
              "       [22.021154],\n",
              "       [22.822668],\n",
              "       [23.624182]], dtype=float32)"
            ]
          },
          "metadata": {},
          "execution_count": 70
        }
      ]
    },
    {
      "cell_type": "code",
      "source": [
        "y_test"
      ],
      "metadata": {
        "colab": {
          "base_uri": "https://localhost:8080/"
        },
        "id": "Gz4HEDev7oAY",
        "outputId": "6b37e39c-d56f-4c12-f0f8-f4a4fcba7651"
      },
      "execution_count": 71,
      "outputs": [
        {
          "output_type": "execute_result",
          "data": {
            "text/plain": [
              "<tf.Tensor: shape=(10,), dtype=int32, numpy=array([ 70,  74,  78,  82,  86,  90,  94,  98, 102, 106], dtype=int32)>"
            ]
          },
          "metadata": {},
          "execution_count": 71
        }
      ]
    },
    {
      "cell_type": "code",
      "source": [
        "#Evaluation metrics of model 3\n",
        "mae_3 = tf.keras.metrics.mean_absolute_error(y_test, tf.squeeze(y_pred_3))\n",
        "\n",
        "mse_3 = tf.keras.metrics.mean_squared_error(y_test, tf.squeeze(y_pred_3))\n",
        "\n",
        "mae_3, mse_3"
      ],
      "metadata": {
        "colab": {
          "base_uri": "https://localhost:8080/"
        },
        "id": "d_nLzoLc7xcd",
        "outputId": "d7e4ffda-1a2a-4ed3-f4eb-e8f641ccc521"
      },
      "execution_count": 72,
      "outputs": [
        {
          "output_type": "execute_result",
          "data": {
            "text/plain": [
              "(<tf.Tensor: shape=(), dtype=float32, numpy=67.98263>,\n",
              " <tf.Tensor: shape=(), dtype=float32, numpy=4706.038>)"
            ]
          },
          "metadata": {},
          "execution_count": 72
        }
      ]
    },
    {
      "cell_type": "code",
      "source": [
        "plot_predictions(predictions=y_pred_3)"
      ],
      "metadata": {
        "colab": {
          "base_uri": "https://localhost:8080/",
          "height": 619
        },
        "id": "zVdfLRqW8URW",
        "outputId": "dd06325d-cc57-4e33-9f66-eb59ca480794"
      },
      "execution_count": 73,
      "outputs": [
        {
          "output_type": "display_data",
          "data": {
            "text/plain": [
              "<Figure size 1000x700 with 1 Axes>"
            ],
            "image/png": "[encoded data removed]"
          },
          "metadata": {}
        }
      ]
    },
    {
      "cell_type": "markdown",
      "source": [
        "###Comparing the results of our experiment"
      ],
      "metadata": {
        "id": "duXcb-e88ciW"
      }
    },
    {
      "cell_type": "code",
      "source": [
        "#Let's compare our model's results with pandas DataFrame\n",
        "import pandas as pd\n",
        "\n",
        "model_result = [[\"model_1\",mae_1.numpy(),mse_1.numpy()],\n",
        "                [\"model_2\",mae_2.numpy(),mse_2.numpy()],\n",
        "                [\"model_3\",mae_3.numpy(),mse_3.numpy()]]\n",
        "\n",
        "all_results = pd.DataFrame(data = model_result, columns = [\"model\",\"mae\",\"mse\"])\n",
        "all_results"
      ],
      "metadata": {
        "colab": {
          "base_uri": "https://localhost:8080/",
          "height": 143
        },
        "id": "5u8PLfatddwf",
        "outputId": "5262c453-7f50-48e7-a6e0-a0dbd96a2f47"
      },
      "execution_count": 74,
      "outputs": [
        {
          "output_type": "execute_result",
          "data": {
            "text/plain": [
              "     model        mae          mse\n",
              "0  model_1  14.980222   225.257156\n",
              "1  model_2  43.103420  1883.793701\n",
              "2  model_3  67.982628  4706.038086"
            ],
            "text/html": [
              "\n",
              "  <div id=\"df-6b51bc7d-90ae-49d5-8e2a-47492d917730\" class=\"colab-df-container\">\n",
              "    <div>\n",
              "<style scoped>\n",
              "    .dataframe tbody tr th:only-of-type {\n",
              "        vertical-align: middle;\n",
              "    }\n",
              "\n",
              "    .dataframe tbody tr th {\n",
              "        vertical-align: top;\n",
              "    }\n",
              "\n",
              "    .dataframe thead th {\n",
              "        text-align: right;\n",
              "    }\n",
              "</style>\n",
              "<table border=\"1\" class=\"dataframe\">\n",
              "  <thead>\n",
              "    <tr style=\"text-align: right;\">\n",
              "      <th></th>\n",
              "      <th>model</th>\n",
              "      <th>mae</th>\n",
              "      <th>mse</th>\n",
              "    </tr>\n",
              "  </thead>\n",
              "  <tbody>\n",
              "    <tr>\n",
              "      <th>0</th>\n",
              "      <td>model_1</td>\n",
              "      <td>14.980222</td>\n",
              "      <td>225.257156</td>\n",
              "    </tr>\n",
              "    <tr>\n",
              "      <th>1</th>\n",
              "      <td>model_2</td>\n",
              "      <td>43.103420</td>\n",
              "      <td>1883.793701</td>\n",
              "    </tr>\n",
              "    <tr>\n",
              "      <th>2</th>\n",
              "      <td>model_3</td>\n",
              "      <td>67.982628</td>\n",
              "      <td>4706.038086</td>\n",
              "    </tr>\n",
              "  </tbody>\n",
              "</table>\n",
              "</div>\n",
              "    <div class=\"colab-df-buttons\">\n",
              "\n",
              "  <div class=\"colab-df-container\">\n",
              "    <button class=\"colab-df-convert\" onclick=\"convertToInteractive('df-6b51bc7d-90ae-49d5-8e2a-47492d917730')\"\n",
              "            title=\"Convert this dataframe to an interactive table.\"\n",
              "            style=\"display:none;\">\n",
              "\n",
              "  <svg xmlns=\"http://www.w3.org/2000/svg\" height=\"24px\" viewBox=\"0 -960 960 960\">\n",
              "    <path d=\"M120-120v-720h720v720H120Zm60-500h600v-160H180v160Zm220 220h160v-160H400v160Zm0 220h160v-160H400v160ZM180-400h160v-160H180v160Zm440 0h160v-160H620v160ZM180-180h160v-160H180v160Zm440 0h160v-160H620v160Z\"/>\n",
              "  </svg>\n",
              "    </button>\n",
              "\n",
              "  <style>\n",
              "    .colab-df-container {\n",
              "      display:flex;\n",
              "      gap: 12px;\n",
              "    }\n",
              "\n",
              "    .colab-df-convert {\n",
              "      background-color: #E8F0FE;\n",
              "      border: none;\n",
              "      border-radius: 50%;\n",
              "      cursor: pointer;\n",
              "      display: none;\n",
              "      fill: #1967D2;\n",
              "      height: 32px;\n",
              "      padding: 0 0 0 0;\n",
              "      width: 32px;\n",
              "    }\n",
              "\n",
              "    .colab-df-convert:hover {\n",
              "      background-color: #E2EBFA;\n",
              "      box-shadow: 0px 1px 2px rgba(60, 64, 67, 0.3), 0px 1px 3px 1px rgba(60, 64, 67, 0.15);\n",
              "      fill: #174EA6;\n",
              "    }\n",
              "\n",
              "    .colab-df-buttons div {\n",
              "      margin-bottom: 4px;\n",
              "    }\n",
              "\n",
              "    [theme=dark] .colab-df-convert {\n",
              "      background-color: #3B4455;\n",
              "      fill: #D2E3FC;\n",
              "    }\n",
              "\n",
              "    [theme=dark] .colab-df-convert:hover {\n",
              "      background-color: #434B5C;\n",
              "      box-shadow: 0px 1px 3px 1px rgba(0, 0, 0, 0.15);\n",
              "      filter: drop-shadow(0px 1px 2px rgba(0, 0, 0, 0.3));\n",
              "      fill: #FFFFFF;\n",
              "    }\n",
              "  </style>\n",
              "\n",
              "    <script>\n",
              "      const buttonEl =\n",
              "        document.querySelector('#df-6b51bc7d-90ae-49d5-8e2a-47492d917730 button.colab-df-convert');\n",
              "      buttonEl.style.display =\n",
              "        google.colab.kernel.accessAllowed ? 'block' : 'none';\n",
              "\n",
              "      async function convertToInteractive(key) {\n",
              "        const element = document.querySelector('#df-6b51bc7d-90ae-49d5-8e2a-47492d917730');\n",
              "        const dataTable =\n",
              "          await google.colab.kernel.invokeFunction('convertToInteractive',\n",
              "                                                    [key], {});\n",
              "        if (!dataTable) return;\n",
              "\n",
              "        const docLinkHtml = 'Like what you see? Visit the ' +\n",
              "          '<a target=\"_blank\" href=https://colab.research.google.com/notebooks/data_table.ipynb>data table notebook</a>'\n",
              "          + ' to learn more about interactive tables.';\n",
              "        element.innerHTML = '';\n",
              "        dataTable['output_type'] = 'display_data';\n",
              "        await google.colab.output.renderOutput(dataTable, element);\n",
              "        const docLink = document.createElement('div');\n",
              "        docLink.innerHTML = docLinkHtml;\n",
              "        element.appendChild(docLink);\n",
              "      }\n",
              "    </script>\n",
              "  </div>\n",
              "\n",
              "\n",
              "<div id=\"df-5bb0ea0c-144b-48a8-9d45-74d37bc83f4d\">\n",
              "  <button class=\"colab-df-quickchart\" onclick=\"quickchart('df-5bb0ea0c-144b-48a8-9d45-74d37bc83f4d')\"\n",
              "            title=\"Suggest charts\"\n",
              "            style=\"display:none;\">\n",
              "\n",
              "<svg xmlns=\"http://www.w3.org/2000/svg\" height=\"24px\"viewBox=\"0 0 24 24\"\n",
              "     width=\"24px\">\n",
              "    <g>\n",
              "        <path d=\"M19 3H5c-1.1 0-2 .9-2 2v14c0 1.1.9 2 2 2h14c1.1 0 2-.9 2-2V5c0-1.1-.9-2-2-2zM9 17H7v-7h2v7zm4 0h-2V7h2v10zm4 0h-2v-4h2v4z\"/>\n",
              "    </g>\n",
              "</svg>\n",
              "  </button>\n",
              "\n",
              "<style>\n",
              "  .colab-df-quickchart {\n",
              "      --bg-color: #E8F0FE;\n",
              "      --fill-color: #1967D2;\n",
              "      --hover-bg-color: #E2EBFA;\n",
              "      --hover-fill-color: #174EA6;\n",
              "      --disabled-fill-color: #AAA;\n",
              "      --disabled-bg-color: #DDD;\n",
              "  }\n",
              "\n",
              "  [theme=dark] .colab-df-quickchart {\n",
              "      --bg-color: #3B4455;\n",
              "      --fill-color: #D2E3FC;\n",
              "      --hover-bg-color: #434B5C;\n",
              "      --hover-fill-color: #FFFFFF;\n",
              "      --disabled-bg-color: #3B4455;\n",
              "      --disabled-fill-color: #666;\n",
              "  }\n",
              "\n",
              "  .colab-df-quickchart {\n",
              "    background-color: var(--bg-color);\n",
              "    border: none;\n",
              "    border-radius: 50%;\n",
              "    cursor: pointer;\n",
              "    display: none;\n",
              "    fill: var(--fill-color);\n",
              "    height: 32px;\n",
              "    padding: 0;\n",
              "    width: 32px;\n",
              "  }\n",
              "\n",
              "  .colab-df-quickchart:hover {\n",
              "    background-color: var(--hover-bg-color);\n",
              "    box-shadow: 0 1px 2px rgba(60, 64, 67, 0.3), 0 1px 3px 1px rgba(60, 64, 67, 0.15);\n",
              "    fill: var(--button-hover-fill-color);\n",
              "  }\n",
              "\n",
              "  .colab-df-quickchart-complete:disabled,\n",
              "  .colab-df-quickchart-complete:disabled:hover {\n",
              "    background-color: var(--disabled-bg-color);\n",
              "    fill: var(--disabled-fill-color);\n",
              "    box-shadow: none;\n",
              "  }\n",
              "\n",
              "  .colab-df-spinner {\n",
              "    border: 2px solid var(--fill-color);\n",
              "    border-color: transparent;\n",
              "    border-bottom-color: var(--fill-color);\n",
              "    animation:\n",
              "      spin 1s steps(1) infinite;\n",
              "  }\n",
              "\n",
              "  @keyframes spin {\n",
              "    0% {\n",
              "      border-color: transparent;\n",
              "      border-bottom-color: var(--fill-color);\n",
              "      border-left-color: var(--fill-color);\n",
              "    }\n",
              "    20% {\n",
              "      border-color: transparent;\n",
              "      border-left-color: var(--fill-color);\n",
              "      border-top-color: var(--fill-color);\n",
              "    }\n",
              "    30% {\n",
              "      border-color: transparent;\n",
              "      border-left-color: var(--fill-color);\n",
              "      border-top-color: var(--fill-color);\n",
              "      border-right-color: var(--fill-color);\n",
              "    }\n",
              "    40% {\n",
              "      border-color: transparent;\n",
              "      border-right-color: var(--fill-color);\n",
              "      border-top-color: var(--fill-color);\n",
              "    }\n",
              "    60% {\n",
              "      border-color: transparent;\n",
              "      border-right-color: var(--fill-color);\n",
              "    }\n",
              "    80% {\n",
              "      border-color: transparent;\n",
              "      border-right-color: var(--fill-color);\n",
              "      border-bottom-color: var(--fill-color);\n",
              "    }\n",
              "    90% {\n",
              "      border-color: transparent;\n",
              "      border-bottom-color: var(--fill-color);\n",
              "    }\n",
              "  }\n",
              "</style>\n",
              "\n",
              "  <script>\n",
              "    async function quickchart(key) {\n",
              "      const quickchartButtonEl =\n",
              "        document.querySelector('#' + key + ' button');\n",
              "      quickchartButtonEl.disabled = true;  // To prevent multiple clicks.\n",
              "      quickchartButtonEl.classList.add('colab-df-spinner');\n",
              "      try {\n",
              "        const charts = await google.colab.kernel.invokeFunction(\n",
              "            'suggestCharts', [key], {});\n",
              "      } catch (error) {\n",
              "        console.error('Error during call to suggestCharts:', error);\n",
              "      }\n",
              "      quickchartButtonEl.classList.remove('colab-df-spinner');\n",
              "      quickchartButtonEl.classList.add('colab-df-quickchart-complete');\n",
              "    }\n",
              "    (() => {\n",
              "      let quickchartButtonEl =\n",
              "        document.querySelector('#df-5bb0ea0c-144b-48a8-9d45-74d37bc83f4d button');\n",
              "      quickchartButtonEl.style.display =\n",
              "        google.colab.kernel.accessAllowed ? 'block' : 'none';\n",
              "    })();\n",
              "  </script>\n",
              "</div>\n",
              "    </div>\n",
              "  </div>\n"
            ],
            "application/vnd.google.colaboratory.intrinsic+json": {
              "type": "dataframe",
              "variable_name": "all_results",
              "summary": "{\n  \"name\": \"all_results\",\n  \"rows\": 3,\n  \"fields\": [\n    {\n      \"column\": \"model\",\n      \"properties\": {\n        \"dtype\": \"string\",\n        \"num_unique_values\": 3,\n        \"samples\": [\n          \"model_1\",\n          \"model_2\",\n          \"model_3\"\n        ],\n        \"semantic_type\": \"\",\n        \"description\": \"\"\n      }\n    },\n    {\n      \"column\": \"mae\",\n      \"properties\": {\n        \"dtype\": \"float32\",\n        \"num_unique_values\": 3,\n        \"samples\": [\n          14.98022174835205,\n          43.10342025756836,\n          67.98262786865234\n        ],\n        \"semantic_type\": \"\",\n        \"description\": \"\"\n      }\n    },\n    {\n      \"column\": \"mse\",\n      \"properties\": {\n        \"dtype\": \"float32\",\n        \"num_unique_values\": 3,\n        \"samples\": [\n          225.2571563720703,\n          1883.793701171875,\n          4706.0380859375\n        ],\n        \"semantic_type\": \"\",\n        \"description\": \"\"\n      }\n    }\n  ]\n}"
            }
          },
          "metadata": {},
          "execution_count": 74
        }
      ]
    },
    {
      "cell_type": "code",
      "source": [
        "model_2.summary()"
      ],
      "metadata": {
        "colab": {
          "base_uri": "https://localhost:8080/"
        },
        "id": "StixGgSYfDa1",
        "outputId": "f049a669-6b48-4a04-cbe2-459736832693"
      },
      "execution_count": 75,
      "outputs": [
        {
          "output_type": "stream",
          "name": "stdout",
          "text": [
            "Model: \"model_2\"\n",
            "_________________________________________________________________\n",
            " Layer (type)                Output Shape              Param #   \n",
            "=================================================================\n",
            " dense_5 (Dense)             (None, 10)                20        \n",
            "                                                                 \n",
            " dense_6 (Dense)             (None, 1)                 11        \n",
            "                                                                 \n",
            "=================================================================\n",
            "Total params: 31 (124.00 Byte)\n",
            "Trainable params: 31 (124.00 Byte)\n",
            "Non-trainable params: 0 (0.00 Byte)\n",
            "_________________________________________________________________\n"
          ]
        }
      ]
    },
    {
      "cell_type": "markdown",
      "source": [
        "##Tracking your experiments\n",
        "* **TenseorBoard:** a component of the TensorFlow library to help tracking modelling experiments.\n",
        "* **Weights & Biases:** a tool for tracking all kinds of machine learning experiments"
      ],
      "metadata": {
        "id": "26R3gxIvgbLw"
      }
    },
    {
      "cell_type": "markdown",
      "source": [
        "##Saving our models"
      ],
      "metadata": {
        "id": "5AGS6544izmw"
      }
    },
    {
      "cell_type": "code",
      "source": [
        "#Save a model using SavedModel format\n",
        "model_2.save(\"best_model_SavedModel_format\")"
      ],
      "metadata": {
        "id": "VjvAcvv5j_xR"
      },
      "execution_count": 76,
      "outputs": []
    },
    {
      "cell_type": "code",
      "source": [
        "#Save model using HDF5 format\n",
        "model_2.save(\"best_model_HDF5_format.h5\")"
      ],
      "metadata": {
        "colab": {
          "base_uri": "https://localhost:8080/"
        },
        "id": "zcvkpB-dlram",
        "outputId": "7b97cf75-a43a-48fb-adad-c3adcf5a484d"
      },
      "execution_count": 77,
      "outputs": [
        {
          "output_type": "stream",
          "name": "stderr",
          "text": [
            "/usr/local/lib/python3.10/dist-packages/keras/src/engine/training.py:3103: UserWarning: You are saving your model as an HDF5 file via `model.save()`. This file format is considered legacy. We recommend using instead the native Keras format, e.g. `model.save('my_model.keras')`.\n",
            "  saving_api.save_model(\n"
          ]
        }
      ]
    },
    {
      "cell_type": "markdown",
      "source": [
        "##Loading a saved model"
      ],
      "metadata": {
        "id": "DhsQQlZEsBny"
      }
    },
    {
      "cell_type": "code",
      "source": [
        "loaded_saved_model_format = tf.keras.models.load_model(\"best_model_SavedModel_format\")"
      ],
      "metadata": {
        "id": "OJ0wQqkgtXzw"
      },
      "execution_count": 78,
      "outputs": []
    },
    {
      "cell_type": "code",
      "source": [
        "loaded_saved_model_format.summary()"
      ],
      "metadata": {
        "colab": {
          "base_uri": "https://localhost:8080/"
        },
        "id": "mnuhhpRduqXF",
        "outputId": "13ee56a0-5f35-4a5f-e8f4-b88f3a4761d5"
      },
      "execution_count": 79,
      "outputs": [
        {
          "output_type": "stream",
          "name": "stdout",
          "text": [
            "Model: \"model_2\"\n",
            "_________________________________________________________________\n",
            " Layer (type)                Output Shape              Param #   \n",
            "=================================================================\n",
            " dense_5 (Dense)             (None, 10)                20        \n",
            "                                                                 \n",
            " dense_6 (Dense)             (None, 1)                 11        \n",
            "                                                                 \n",
            "=================================================================\n",
            "Total params: 31 (124.00 Byte)\n",
            "Trainable params: 31 (124.00 Byte)\n",
            "Non-trainable params: 0 (0.00 Byte)\n",
            "_________________________________________________________________\n"
          ]
        }
      ]
    },
    {
      "cell_type": "code",
      "source": [
        "model2_pred = model_2.predict(X_test)\n",
        "saved_model_pred = loaded_saved_model_format.predict(X_test)\n",
        "model2_pred == saved_model_pred"
      ],
      "metadata": {
        "colab": {
          "base_uri": "https://localhost:8080/"
        },
        "id": "2EEY2M18vAgz",
        "outputId": "ec134778-58bb-4a1d-8d73-7b54254a595a"
      },
      "execution_count": 80,
      "outputs": [
        {
          "output_type": "stream",
          "name": "stdout",
          "text": [
            "1/1 [==============================] - 0s 50ms/step\n",
            "1/1 [==============================] - 0s 92ms/step\n"
          ]
        },
        {
          "output_type": "execute_result",
          "data": {
            "text/plain": [
              "array([[ True],\n",
              "       [ True],\n",
              "       [ True],\n",
              "       [ True],\n",
              "       [ True],\n",
              "       [ True],\n",
              "       [ True],\n",
              "       [ True],\n",
              "       [ True],\n",
              "       [ True]])"
            ]
          },
          "metadata": {},
          "execution_count": 80
        }
      ]
    },
    {
      "cell_type": "code",
      "source": [
        "model2_pred, saved_model_pred"
      ],
      "metadata": {
        "colab": {
          "base_uri": "https://localhost:8080/"
        },
        "id": "T5aG1lVXv1vZ",
        "outputId": "eded4a86-28a3-48f1-d90c-85c31ad08f49"
      },
      "execution_count": 81,
      "outputs": [
        {
          "output_type": "execute_result",
          "data": {
            "text/plain": [
              "(array([[34.868103],\n",
              "        [37.09665 ],\n",
              "        [39.325203],\n",
              "        [41.553753],\n",
              "        [43.782303],\n",
              "        [46.010857],\n",
              "        [48.239403],\n",
              "        [50.467953],\n",
              "        [52.696503],\n",
              "        [54.925056]], dtype=float32),\n",
              " array([[34.868103],\n",
              "        [37.09665 ],\n",
              "        [39.325203],\n",
              "        [41.553753],\n",
              "        [43.782303],\n",
              "        [46.010857],\n",
              "        [48.239403],\n",
              "        [50.467953],\n",
              "        [52.696503],\n",
              "        [54.925056]], dtype=float32))"
            ]
          },
          "metadata": {},
          "execution_count": 81
        }
      ]
    },
    {
      "cell_type": "code",
      "source": [
        "tf.keras.metrics.mean_absolute_error(y_true = y_test, y_pred = tf.squeeze(model2_pred)) == tf.keras.metrics.mean_absolute_error(y_true = y_test, y_pred = tf.squeeze(saved_model_pred))"
      ],
      "metadata": {
        "colab": {
          "base_uri": "https://localhost:8080/"
        },
        "id": "UwI89drBwg2W",
        "outputId": "977061b3-5fa5-41f6-e2b8-4c2e494818ef"
      },
      "execution_count": 82,
      "outputs": [
        {
          "output_type": "execute_result",
          "data": {
            "text/plain": [
              "<tf.Tensor: shape=(), dtype=bool, numpy=True>"
            ]
          },
          "metadata": {},
          "execution_count": 82
        }
      ]
    },
    {
      "cell_type": "code",
      "source": [
        "tf.keras.metrics.mean_squared_error(y_true = y_test, y_pred =tf.squeeze(model2_pred)) == tf.keras.metrics.mean_squared_error(y_true = y_test, y_pred = tf.squeeze(saved_model_pred))"
      ],
      "metadata": {
        "colab": {
          "base_uri": "https://localhost:8080/"
        },
        "id": "NFhr9vOBxCPo",
        "outputId": "6e15cca0-ab3e-4a80-f33b-1e083cdb3ee4"
      },
      "execution_count": 83,
      "outputs": [
        {
          "output_type": "execute_result",
          "data": {
            "text/plain": [
              "<tf.Tensor: shape=(), dtype=bool, numpy=True>"
            ]
          },
          "metadata": {},
          "execution_count": 83
        }
      ]
    },
    {
      "cell_type": "markdown",
      "source": [
        "###Larger DataSet"
      ],
      "metadata": {
        "id": "jR1jfoz_06Du"
      }
    },
    {
      "cell_type": "code",
      "source": [
        "import tensorflow as tf\n",
        "import pandas as pd\n",
        "import matplotlib.pyplot as plt"
      ],
      "metadata": {
        "id": "J3G9JyId4O-f"
      },
      "execution_count": 84,
      "outputs": []
    },
    {
      "cell_type": "code",
      "source": [
        "insurance = pd.read_csv(\"https://raw.githubusercontent.com/stedy/Machine-Learning-with-R-datasets/master/insurance.csv\")"
      ],
      "metadata": {
        "id": "Qtgyaj7L3E3Z"
      },
      "execution_count": 85,
      "outputs": []
    },
    {
      "cell_type": "code",
      "source": [
        "insurance"
      ],
      "metadata": {
        "colab": {
          "base_uri": "https://localhost:8080/",
          "height": 423
        },
        "id": "TIswa7Oi48mL",
        "outputId": "8c91dd79-85e9-420a-e2ac-ae0dc6198610"
      },
      "execution_count": 86,
      "outputs": [
        {
          "output_type": "execute_result",
          "data": {
            "text/plain": [
              "      age     sex     bmi  children smoker     region      charges\n",
              "0      19  female  27.900         0    yes  southwest  16884.92400\n",
              "1      18    male  33.770         1     no  southeast   1725.55230\n",
              "2      28    male  33.000         3     no  southeast   4449.46200\n",
              "3      33    male  22.705         0     no  northwest  21984.47061\n",
              "4      32    male  28.880         0     no  northwest   3866.85520\n",
              "...   ...     ...     ...       ...    ...        ...          ...\n",
              "1333   50    male  30.970         3     no  northwest  10600.54830\n",
              "1334   18  female  31.920         0     no  northeast   2205.98080\n",
              "1335   18  female  36.850         0     no  southeast   1629.83350\n",
              "1336   21  female  25.800         0     no  southwest   2007.94500\n",
              "1337   61  female  29.070         0    yes  northwest  29141.36030\n",
              "\n",
              "[1338 rows x 7 columns]"
            ],
            "text/html": [
              "\n",
              "  <div id=\"df-98965dd4-c2b0-4162-8bc6-fc32a4f29628\" class=\"colab-df-container\">\n",
              "    <div>\n",
              "<style scoped>\n",
              "    .dataframe tbody tr th:only-of-type {\n",
              "        vertical-align: middle;\n",
              "    }\n",
              "\n",
              "    .dataframe tbody tr th {\n",
              "        vertical-align: top;\n",
              "    }\n",
              "\n",
              "    .dataframe thead th {\n",
              "        text-align: right;\n",
              "    }\n",
              "</style>\n",
              "<table border=\"1\" class=\"dataframe\">\n",
              "  <thead>\n",
              "    <tr style=\"text-align: right;\">\n",
              "      <th></th>\n",
              "      <th>age</th>\n",
              "      <th>sex</th>\n",
              "      <th>bmi</th>\n",
              "      <th>children</th>\n",
              "      <th>smoker</th>\n",
              "      <th>region</th>\n",
              "      <th>charges</th>\n",
              "    </tr>\n",
              "  </thead>\n",
              "  <tbody>\n",
              "    <tr>\n",
              "      <th>0</th>\n",
              "      <td>19</td>\n",
              "      <td>female</td>\n",
              "      <td>27.900</td>\n",
              "      <td>0</td>\n",
              "      <td>yes</td>\n",
              "      <td>southwest</td>\n",
              "      <td>16884.92400</td>\n",
              "    </tr>\n",
              "    <tr>\n",
              "      <th>1</th>\n",
              "      <td>18</td>\n",
              "      <td>male</td>\n",
              "      <td>33.770</td>\n",
              "      <td>1</td>\n",
              "      <td>no</td>\n",
              "      <td>southeast</td>\n",
              "      <td>1725.55230</td>\n",
              "    </tr>\n",
              "    <tr>\n",
              "      <th>2</th>\n",
              "      <td>28</td>\n",
              "      <td>male</td>\n",
              "      <td>33.000</td>\n",
              "      <td>3</td>\n",
              "      <td>no</td>\n",
              "      <td>southeast</td>\n",
              "      <td>4449.46200</td>\n",
              "    </tr>\n",
              "    <tr>\n",
              "      <th>3</th>\n",
              "      <td>33</td>\n",
              "      <td>male</td>\n",
              "      <td>22.705</td>\n",
              "      <td>0</td>\n",
              "      <td>no</td>\n",
              "      <td>northwest</td>\n",
              "      <td>21984.47061</td>\n",
              "    </tr>\n",
              "    <tr>\n",
              "      <th>4</th>\n",
              "      <td>32</td>\n",
              "      <td>male</td>\n",
              "      <td>28.880</td>\n",
              "      <td>0</td>\n",
              "      <td>no</td>\n",
              "      <td>northwest</td>\n",
              "      <td>3866.85520</td>\n",
              "    </tr>\n",
              "    <tr>\n",
              "      <th>...</th>\n",
              "      <td>...</td>\n",
              "      <td>...</td>\n",
              "      <td>...</td>\n",
              "      <td>...</td>\n",
              "      <td>...</td>\n",
              "      <td>...</td>\n",
              "      <td>...</td>\n",
              "    </tr>\n",
              "    <tr>\n",
              "      <th>1333</th>\n",
              "      <td>50</td>\n",
              "      <td>male</td>\n",
              "      <td>30.970</td>\n",
              "      <td>3</td>\n",
              "      <td>no</td>\n",
              "      <td>northwest</td>\n",
              "      <td>10600.54830</td>\n",
              "    </tr>\n",
              "    <tr>\n",
              "      <th>1334</th>\n",
              "      <td>18</td>\n",
              "      <td>female</td>\n",
              "      <td>31.920</td>\n",
              "      <td>0</td>\n",
              "      <td>no</td>\n",
              "      <td>northeast</td>\n",
              "      <td>2205.98080</td>\n",
              "    </tr>\n",
              "    <tr>\n",
              "      <th>1335</th>\n",
              "      <td>18</td>\n",
              "      <td>female</td>\n",
              "      <td>36.850</td>\n",
              "      <td>0</td>\n",
              "      <td>no</td>\n",
              "      <td>southeast</td>\n",
              "      <td>1629.83350</td>\n",
              "    </tr>\n",
              "    <tr>\n",
              "      <th>1336</th>\n",
              "      <td>21</td>\n",
              "      <td>female</td>\n",
              "      <td>25.800</td>\n",
              "      <td>0</td>\n",
              "      <td>no</td>\n",
              "      <td>southwest</td>\n",
              "      <td>2007.94500</td>\n",
              "    </tr>\n",
              "    <tr>\n",
              "      <th>1337</th>\n",
              "      <td>61</td>\n",
              "      <td>female</td>\n",
              "      <td>29.070</td>\n",
              "      <td>0</td>\n",
              "      <td>yes</td>\n",
              "      <td>northwest</td>\n",
              "      <td>29141.36030</td>\n",
              "    </tr>\n",
              "  </tbody>\n",
              "</table>\n",
              "<p>1338 rows × 7 columns</p>\n",
              "</div>\n",
              "    <div class=\"colab-df-buttons\">\n",
              "\n",
              "  <div class=\"colab-df-container\">\n",
              "    <button class=\"colab-df-convert\" onclick=\"convertToInteractive('df-98965dd4-c2b0-4162-8bc6-fc32a4f29628')\"\n",
              "            title=\"Convert this dataframe to an interactive table.\"\n",
              "            style=\"display:none;\">\n",
              "\n",
              "  <svg xmlns=\"http://www.w3.org/2000/svg\" height=\"24px\" viewBox=\"0 -960 960 960\">\n",
              "    <path d=\"M120-120v-720h720v720H120Zm60-500h600v-160H180v160Zm220 220h160v-160H400v160Zm0 220h160v-160H400v160ZM180-400h160v-160H180v160Zm440 0h160v-160H620v160ZM180-180h160v-160H180v160Zm440 0h160v-160H620v160Z\"/>\n",
              "  </svg>\n",
              "    </button>\n",
              "\n",
              "  <style>\n",
              "    .colab-df-container {\n",
              "      display:flex;\n",
              "      gap: 12px;\n",
              "    }\n",
              "\n",
              "    .colab-df-convert {\n",
              "      background-color: #E8F0FE;\n",
              "      border: none;\n",
              "      border-radius: 50%;\n",
              "      cursor: pointer;\n",
              "      display: none;\n",
              "      fill: #1967D2;\n",
              "      height: 32px;\n",
              "      padding: 0 0 0 0;\n",
              "      width: 32px;\n",
              "    }\n",
              "\n",
              "    .colab-df-convert:hover {\n",
              "      background-color: #E2EBFA;\n",
              "      box-shadow: 0px 1px 2px rgba(60, 64, 67, 0.3), 0px 1px 3px 1px rgba(60, 64, 67, 0.15);\n",
              "      fill: #174EA6;\n",
              "    }\n",
              "\n",
              "    .colab-df-buttons div {\n",
              "      margin-bottom: 4px;\n",
              "    }\n",
              "\n",
              "    [theme=dark] .colab-df-convert {\n",
              "      background-color: #3B4455;\n",
              "      fill: #D2E3FC;\n",
              "    }\n",
              "\n",
              "    [theme=dark] .colab-df-convert:hover {\n",
              "      background-color: #434B5C;\n",
              "      box-shadow: 0px 1px 3px 1px rgba(0, 0, 0, 0.15);\n",
              "      filter: drop-shadow(0px 1px 2px rgba(0, 0, 0, 0.3));\n",
              "      fill: #FFFFFF;\n",
              "    }\n",
              "  </style>\n",
              "\n",
              "    <script>\n",
              "      const buttonEl =\n",
              "        document.querySelector('#df-98965dd4-c2b0-4162-8bc6-fc32a4f29628 button.colab-df-convert');\n",
              "      buttonEl.style.display =\n",
              "        google.colab.kernel.accessAllowed ? 'block' : 'none';\n",
              "\n",
              "      async function convertToInteractive(key) {\n",
              "        const element = document.querySelector('#df-98965dd4-c2b0-4162-8bc6-fc32a4f29628');\n",
              "        const dataTable =\n",
              "          await google.colab.kernel.invokeFunction('convertToInteractive',\n",
              "                                                    [key], {});\n",
              "        if (!dataTable) return;\n",
              "\n",
              "        const docLinkHtml = 'Like what you see? Visit the ' +\n",
              "          '<a target=\"_blank\" href=https://colab.research.google.com/notebooks/data_table.ipynb>data table notebook</a>'\n",
              "          + ' to learn more about interactive tables.';\n",
              "        element.innerHTML = '';\n",
              "        dataTable['output_type'] = 'display_data';\n",
              "        await google.colab.output.renderOutput(dataTable, element);\n",
              "        const docLink = document.createElement('div');\n",
              "        docLink.innerHTML = docLinkHtml;\n",
              "        element.appendChild(docLink);\n",
              "      }\n",
              "    </script>\n",
              "  </div>\n",
              "\n",
              "\n",
              "<div id=\"df-c2e84ec6-d795-41f0-8e2e-e2dd91915266\">\n",
              "  <button class=\"colab-df-quickchart\" onclick=\"quickchart('df-c2e84ec6-d795-41f0-8e2e-e2dd91915266')\"\n",
              "            title=\"Suggest charts\"\n",
              "            style=\"display:none;\">\n",
              "\n",
              "<svg xmlns=\"http://www.w3.org/2000/svg\" height=\"24px\"viewBox=\"0 0 24 24\"\n",
              "     width=\"24px\">\n",
              "    <g>\n",
              "        <path d=\"M19 3H5c-1.1 0-2 .9-2 2v14c0 1.1.9 2 2 2h14c1.1 0 2-.9 2-2V5c0-1.1-.9-2-2-2zM9 17H7v-7h2v7zm4 0h-2V7h2v10zm4 0h-2v-4h2v4z\"/>\n",
              "    </g>\n",
              "</svg>\n",
              "  </button>\n",
              "\n",
              "<style>\n",
              "  .colab-df-quickchart {\n",
              "      --bg-color: #E8F0FE;\n",
              "      --fill-color: #1967D2;\n",
              "      --hover-bg-color: #E2EBFA;\n",
              "      --hover-fill-color: #174EA6;\n",
              "      --disabled-fill-color: #AAA;\n",
              "      --disabled-bg-color: #DDD;\n",
              "  }\n",
              "\n",
              "  [theme=dark] .colab-df-quickchart {\n",
              "      --bg-color: #3B4455;\n",
              "      --fill-color: #D2E3FC;\n",
              "      --hover-bg-color: #434B5C;\n",
              "      --hover-fill-color: #FFFFFF;\n",
              "      --disabled-bg-color: #3B4455;\n",
              "      --disabled-fill-color: #666;\n",
              "  }\n",
              "\n",
              "  .colab-df-quickchart {\n",
              "    background-color: var(--bg-color);\n",
              "    border: none;\n",
              "    border-radius: 50%;\n",
              "    cursor: pointer;\n",
              "    display: none;\n",
              "    fill: var(--fill-color);\n",
              "    height: 32px;\n",
              "    padding: 0;\n",
              "    width: 32px;\n",
              "  }\n",
              "\n",
              "  .colab-df-quickchart:hover {\n",
              "    background-color: var(--hover-bg-color);\n",
              "    box-shadow: 0 1px 2px rgba(60, 64, 67, 0.3), 0 1px 3px 1px rgba(60, 64, 67, 0.15);\n",
              "    fill: var(--button-hover-fill-color);\n",
              "  }\n",
              "\n",
              "  .colab-df-quickchart-complete:disabled,\n",
              "  .colab-df-quickchart-complete:disabled:hover {\n",
              "    background-color: var(--disabled-bg-color);\n",
              "    fill: var(--disabled-fill-color);\n",
              "    box-shadow: none;\n",
              "  }\n",
              "\n",
              "  .colab-df-spinner {\n",
              "    border: 2px solid var(--fill-color);\n",
              "    border-color: transparent;\n",
              "    border-bottom-color: var(--fill-color);\n",
              "    animation:\n",
              "      spin 1s steps(1) infinite;\n",
              "  }\n",
              "\n",
              "  @keyframes spin {\n",
              "    0% {\n",
              "      border-color: transparent;\n",
              "      border-bottom-color: var(--fill-color);\n",
              "      border-left-color: var(--fill-color);\n",
              "    }\n",
              "    20% {\n",
              "      border-color: transparent;\n",
              "      border-left-color: var(--fill-color);\n",
              "      border-top-color: var(--fill-color);\n",
              "    }\n",
              "    30% {\n",
              "      border-color: transparent;\n",
              "      border-left-color: var(--fill-color);\n",
              "      border-top-color: var(--fill-color);\n",
              "      border-right-color: var(--fill-color);\n",
              "    }\n",
              "    40% {\n",
              "      border-color: transparent;\n",
              "      border-right-color: var(--fill-color);\n",
              "      border-top-color: var(--fill-color);\n",
              "    }\n",
              "    60% {\n",
              "      border-color: transparent;\n",
              "      border-right-color: var(--fill-color);\n",
              "    }\n",
              "    80% {\n",
              "      border-color: transparent;\n",
              "      border-right-color: var(--fill-color);\n",
              "      border-bottom-color: var(--fill-color);\n",
              "    }\n",
              "    90% {\n",
              "      border-color: transparent;\n",
              "      border-bottom-color: var(--fill-color);\n",
              "    }\n",
              "  }\n",
              "</style>\n",
              "\n",
              "  <script>\n",
              "    async function quickchart(key) {\n",
              "      const quickchartButtonEl =\n",
              "        document.querySelector('#' + key + ' button');\n",
              "      quickchartButtonEl.disabled = true;  // To prevent multiple clicks.\n",
              "      quickchartButtonEl.classList.add('colab-df-spinner');\n",
              "      try {\n",
              "        const charts = await google.colab.kernel.invokeFunction(\n",
              "            'suggestCharts', [key], {});\n",
              "      } catch (error) {\n",
              "        console.error('Error during call to suggestCharts:', error);\n",
              "      }\n",
              "      quickchartButtonEl.classList.remove('colab-df-spinner');\n",
              "      quickchartButtonEl.classList.add('colab-df-quickchart-complete');\n",
              "    }\n",
              "    (() => {\n",
              "      let quickchartButtonEl =\n",
              "        document.querySelector('#df-c2e84ec6-d795-41f0-8e2e-e2dd91915266 button');\n",
              "      quickchartButtonEl.style.display =\n",
              "        google.colab.kernel.accessAllowed ? 'block' : 'none';\n",
              "    })();\n",
              "  </script>\n",
              "</div>\n",
              "    </div>\n",
              "  </div>\n"
            ],
            "application/vnd.google.colaboratory.intrinsic+json": {
              "type": "dataframe",
              "variable_name": "insurance",
              "summary": "{\n  \"name\": \"insurance\",\n  \"rows\": 1338,\n  \"fields\": [\n    {\n      \"column\": \"age\",\n      \"properties\": {\n        \"dtype\": \"number\",\n        \"std\": 14,\n        \"min\": 18,\n        \"max\": 64,\n        \"num_unique_values\": 47,\n        \"samples\": [\n          21,\n          45,\n          36\n        ],\n        \"semantic_type\": \"\",\n        \"description\": \"\"\n      }\n    },\n    {\n      \"column\": \"sex\",\n      \"properties\": {\n        \"dtype\": \"category\",\n        \"num_unique_values\": 2,\n        \"samples\": [\n          \"male\",\n          \"female\"\n        ],\n        \"semantic_type\": \"\",\n        \"description\": \"\"\n      }\n    },\n    {\n      \"column\": \"bmi\",\n      \"properties\": {\n        \"dtype\": \"number\",\n        \"std\": 6.098186911679014,\n        \"min\": 15.96,\n        \"max\": 53.13,\n        \"num_unique_values\": 548,\n        \"samples\": [\n          23.18,\n          26.885\n        ],\n        \"semantic_type\": \"\",\n        \"description\": \"\"\n      }\n    },\n    {\n      \"column\": \"children\",\n      \"properties\": {\n        \"dtype\": \"number\",\n        \"std\": 1,\n        \"min\": 0,\n        \"max\": 5,\n        \"num_unique_values\": 6,\n        \"samples\": [\n          0,\n          1\n        ],\n        \"semantic_type\": \"\",\n        \"description\": \"\"\n      }\n    },\n    {\n      \"column\": \"smoker\",\n      \"properties\": {\n        \"dtype\": \"category\",\n        \"num_unique_values\": 2,\n        \"samples\": [\n          \"no\",\n          \"yes\"\n        ],\n        \"semantic_type\": \"\",\n        \"description\": \"\"\n      }\n    },\n    {\n      \"column\": \"region\",\n      \"properties\": {\n        \"dtype\": \"category\",\n        \"num_unique_values\": 4,\n        \"samples\": [\n          \"southeast\",\n          \"northeast\"\n        ],\n        \"semantic_type\": \"\",\n        \"description\": \"\"\n      }\n    },\n    {\n      \"column\": \"charges\",\n      \"properties\": {\n        \"dtype\": \"number\",\n        \"std\": 12110.011236694001,\n        \"min\": 1121.8739,\n        \"max\": 63770.42801,\n        \"num_unique_values\": 1337,\n        \"samples\": [\n          8688.85885,\n          5708.867\n        ],\n        \"semantic_type\": \"\",\n        \"description\": \"\"\n      }\n    }\n  ]\n}"
            }
          },
          "metadata": {},
          "execution_count": 86
        }
      ]
    },
    {
      "cell_type": "code",
      "source": [
        "insurance_one_hot = pd.get_dummies(insurance)\n",
        "insurance_one_hot.head()"
      ],
      "metadata": {
        "colab": {
          "base_uri": "https://localhost:8080/",
          "height": 226
        },
        "id": "9QZLCI-w5DyE",
        "outputId": "ed9bfe1f-0b9d-4883-bd8a-d4ebadcff175"
      },
      "execution_count": 87,
      "outputs": [
        {
          "output_type": "execute_result",
          "data": {
            "text/plain": [
              "   age     bmi  children      charges  sex_female  sex_male  smoker_no  \\\n",
              "0   19  27.900         0  16884.92400           1         0          0   \n",
              "1   18  33.770         1   1725.55230           0         1          1   \n",
              "2   28  33.000         3   4449.46200           0         1          1   \n",
              "3   33  22.705         0  21984.47061           0         1          1   \n",
              "4   32  28.880         0   3866.85520           0         1          1   \n",
              "\n",
              "   smoker_yes  region_northeast  region_northwest  region_southeast  \\\n",
              "0           1                 0                 0                 0   \n",
              "1           0                 0                 0                 1   \n",
              "2           0                 0                 0                 1   \n",
              "3           0                 0                 1                 0   \n",
              "4           0                 0                 1                 0   \n",
              "\n",
              "   region_southwest  \n",
              "0                 1  \n",
              "1                 0  \n",
              "2                 0  \n",
              "3                 0  \n",
              "4                 0  "
            ],
            "text/html": [
              "\n",
              "  <div id=\"df-912c7107-d675-4342-9a92-d67d9f49aa8e\" class=\"colab-df-container\">\n",
              "    <div>\n",
              "<style scoped>\n",
              "    .dataframe tbody tr th:only-of-type {\n",
              "        vertical-align: middle;\n",
              "    }\n",
              "\n",
              "    .dataframe tbody tr th {\n",
              "        vertical-align: top;\n",
              "    }\n",
              "\n",
              "    .dataframe thead th {\n",
              "        text-align: right;\n",
              "    }\n",
              "</style>\n",
              "<table border=\"1\" class=\"dataframe\">\n",
              "  <thead>\n",
              "    <tr style=\"text-align: right;\">\n",
              "      <th></th>\n",
              "      <th>age</th>\n",
              "      <th>bmi</th>\n",
              "      <th>children</th>\n",
              "      <th>charges</th>\n",
              "      <th>sex_female</th>\n",
              "      <th>sex_male</th>\n",
              "      <th>smoker_no</th>\n",
              "      <th>smoker_yes</th>\n",
              "      <th>region_northeast</th>\n",
              "      <th>region_northwest</th>\n",
              "      <th>region_southeast</th>\n",
              "      <th>region_southwest</th>\n",
              "    </tr>\n",
              "  </thead>\n",
              "  <tbody>\n",
              "    <tr>\n",
              "      <th>0</th>\n",
              "      <td>19</td>\n",
              "      <td>27.900</td>\n",
              "      <td>0</td>\n",
              "      <td>16884.92400</td>\n",
              "      <td>1</td>\n",
              "      <td>0</td>\n",
              "      <td>0</td>\n",
              "      <td>1</td>\n",
              "      <td>0</td>\n",
              "      <td>0</td>\n",
              "      <td>0</td>\n",
              "      <td>1</td>\n",
              "    </tr>\n",
              "    <tr>\n",
              "      <th>1</th>\n",
              "      <td>18</td>\n",
              "      <td>33.770</td>\n",
              "      <td>1</td>\n",
              "      <td>1725.55230</td>\n",
              "      <td>0</td>\n",
              "      <td>1</td>\n",
              "      <td>1</td>\n",
              "      <td>0</td>\n",
              "      <td>0</td>\n",
              "      <td>0</td>\n",
              "      <td>1</td>\n",
              "      <td>0</td>\n",
              "    </tr>\n",
              "    <tr>\n",
              "      <th>2</th>\n",
              "      <td>28</td>\n",
              "      <td>33.000</td>\n",
              "      <td>3</td>\n",
              "      <td>4449.46200</td>\n",
              "      <td>0</td>\n",
              "      <td>1</td>\n",
              "      <td>1</td>\n",
              "      <td>0</td>\n",
              "      <td>0</td>\n",
              "      <td>0</td>\n",
              "      <td>1</td>\n",
              "      <td>0</td>\n",
              "    </tr>\n",
              "    <tr>\n",
              "      <th>3</th>\n",
              "      <td>33</td>\n",
              "      <td>22.705</td>\n",
              "      <td>0</td>\n",
              "      <td>21984.47061</td>\n",
              "      <td>0</td>\n",
              "      <td>1</td>\n",
              "      <td>1</td>\n",
              "      <td>0</td>\n",
              "      <td>0</td>\n",
              "      <td>1</td>\n",
              "      <td>0</td>\n",
              "      <td>0</td>\n",
              "    </tr>\n",
              "    <tr>\n",
              "      <th>4</th>\n",
              "      <td>32</td>\n",
              "      <td>28.880</td>\n",
              "      <td>0</td>\n",
              "      <td>3866.85520</td>\n",
              "      <td>0</td>\n",
              "      <td>1</td>\n",
              "      <td>1</td>\n",
              "      <td>0</td>\n",
              "      <td>0</td>\n",
              "      <td>1</td>\n",
              "      <td>0</td>\n",
              "      <td>0</td>\n",
              "    </tr>\n",
              "  </tbody>\n",
              "</table>\n",
              "</div>\n",
              "    <div class=\"colab-df-buttons\">\n",
              "\n",
              "  <div class=\"colab-df-container\">\n",
              "    <button class=\"colab-df-convert\" onclick=\"convertToInteractive('df-912c7107-d675-4342-9a92-d67d9f49aa8e')\"\n",
              "            title=\"Convert this dataframe to an interactive table.\"\n",
              "            style=\"display:none;\">\n",
              "\n",
              "  <svg xmlns=\"http://www.w3.org/2000/svg\" height=\"24px\" viewBox=\"0 -960 960 960\">\n",
              "    <path d=\"M120-120v-720h720v720H120Zm60-500h600v-160H180v160Zm220 220h160v-160H400v160Zm0 220h160v-160H400v160ZM180-400h160v-160H180v160Zm440 0h160v-160H620v160ZM180-180h160v-160H180v160Zm440 0h160v-160H620v160Z\"/>\n",
              "  </svg>\n",
              "    </button>\n",
              "\n",
              "  <style>\n",
              "    .colab-df-container {\n",
              "      display:flex;\n",
              "      gap: 12px;\n",
              "    }\n",
              "\n",
              "    .colab-df-convert {\n",
              "      background-color: #E8F0FE;\n",
              "      border: none;\n",
              "      border-radius: 50%;\n",
              "      cursor: pointer;\n",
              "      display: none;\n",
              "      fill: #1967D2;\n",
              "      height: 32px;\n",
              "      padding: 0 0 0 0;\n",
              "      width: 32px;\n",
              "    }\n",
              "\n",
              "    .colab-df-convert:hover {\n",
              "      background-color: #E2EBFA;\n",
              "      box-shadow: 0px 1px 2px rgba(60, 64, 67, 0.3), 0px 1px 3px 1px rgba(60, 64, 67, 0.15);\n",
              "      fill: #174EA6;\n",
              "    }\n",
              "\n",
              "    .colab-df-buttons div {\n",
              "      margin-bottom: 4px;\n",
              "    }\n",
              "\n",
              "    [theme=dark] .colab-df-convert {\n",
              "      background-color: #3B4455;\n",
              "      fill: #D2E3FC;\n",
              "    }\n",
              "\n",
              "    [theme=dark] .colab-df-convert:hover {\n",
              "      background-color: #434B5C;\n",
              "      box-shadow: 0px 1px 3px 1px rgba(0, 0, 0, 0.15);\n",
              "      filter: drop-shadow(0px 1px 2px rgba(0, 0, 0, 0.3));\n",
              "      fill: #FFFFFF;\n",
              "    }\n",
              "  </style>\n",
              "\n",
              "    <script>\n",
              "      const buttonEl =\n",
              "        document.querySelector('#df-912c7107-d675-4342-9a92-d67d9f49aa8e button.colab-df-convert');\n",
              "      buttonEl.style.display =\n",
              "        google.colab.kernel.accessAllowed ? 'block' : 'none';\n",
              "\n",
              "      async function convertToInteractive(key) {\n",
              "        const element = document.querySelector('#df-912c7107-d675-4342-9a92-d67d9f49aa8e');\n",
              "        const dataTable =\n",
              "          await google.colab.kernel.invokeFunction('convertToInteractive',\n",
              "                                                    [key], {});\n",
              "        if (!dataTable) return;\n",
              "\n",
              "        const docLinkHtml = 'Like what you see? Visit the ' +\n",
              "          '<a target=\"_blank\" href=https://colab.research.google.com/notebooks/data_table.ipynb>data table notebook</a>'\n",
              "          + ' to learn more about interactive tables.';\n",
              "        element.innerHTML = '';\n",
              "        dataTable['output_type'] = 'display_data';\n",
              "        await google.colab.output.renderOutput(dataTable, element);\n",
              "        const docLink = document.createElement('div');\n",
              "        docLink.innerHTML = docLinkHtml;\n",
              "        element.appendChild(docLink);\n",
              "      }\n",
              "    </script>\n",
              "  </div>\n",
              "\n",
              "\n",
              "<div id=\"df-21259f91-03d8-4e36-90d4-c2e5753fb148\">\n",
              "  <button class=\"colab-df-quickchart\" onclick=\"quickchart('df-21259f91-03d8-4e36-90d4-c2e5753fb148')\"\n",
              "            title=\"Suggest charts\"\n",
              "            style=\"display:none;\">\n",
              "\n",
              "<svg xmlns=\"http://www.w3.org/2000/svg\" height=\"24px\"viewBox=\"0 0 24 24\"\n",
              "     width=\"24px\">\n",
              "    <g>\n",
              "        <path d=\"M19 3H5c-1.1 0-2 .9-2 2v14c0 1.1.9 2 2 2h14c1.1 0 2-.9 2-2V5c0-1.1-.9-2-2-2zM9 17H7v-7h2v7zm4 0h-2V7h2v10zm4 0h-2v-4h2v4z\"/>\n",
              "    </g>\n",
              "</svg>\n",
              "  </button>\n",
              "\n",
              "<style>\n",
              "  .colab-df-quickchart {\n",
              "      --bg-color: #E8F0FE;\n",
              "      --fill-color: #1967D2;\n",
              "      --hover-bg-color: #E2EBFA;\n",
              "      --hover-fill-color: #174EA6;\n",
              "      --disabled-fill-color: #AAA;\n",
              "      --disabled-bg-color: #DDD;\n",
              "  }\n",
              "\n",
              "  [theme=dark] .colab-df-quickchart {\n",
              "      --bg-color: #3B4455;\n",
              "      --fill-color: #D2E3FC;\n",
              "      --hover-bg-color: #434B5C;\n",
              "      --hover-fill-color: #FFFFFF;\n",
              "      --disabled-bg-color: #3B4455;\n",
              "      --disabled-fill-color: #666;\n",
              "  }\n",
              "\n",
              "  .colab-df-quickchart {\n",
              "    background-color: var(--bg-color);\n",
              "    border: none;\n",
              "    border-radius: 50%;\n",
              "    cursor: pointer;\n",
              "    display: none;\n",
              "    fill: var(--fill-color);\n",
              "    height: 32px;\n",
              "    padding: 0;\n",
              "    width: 32px;\n",
              "  }\n",
              "\n",
              "  .colab-df-quickchart:hover {\n",
              "    background-color: var(--hover-bg-color);\n",
              "    box-shadow: 0 1px 2px rgba(60, 64, 67, 0.3), 0 1px 3px 1px rgba(60, 64, 67, 0.15);\n",
              "    fill: var(--button-hover-fill-color);\n",
              "  }\n",
              "\n",
              "  .colab-df-quickchart-complete:disabled,\n",
              "  .colab-df-quickchart-complete:disabled:hover {\n",
              "    background-color: var(--disabled-bg-color);\n",
              "    fill: var(--disabled-fill-color);\n",
              "    box-shadow: none;\n",
              "  }\n",
              "\n",
              "  .colab-df-spinner {\n",
              "    border: 2px solid var(--fill-color);\n",
              "    border-color: transparent;\n",
              "    border-bottom-color: var(--fill-color);\n",
              "    animation:\n",
              "      spin 1s steps(1) infinite;\n",
              "  }\n",
              "\n",
              "  @keyframes spin {\n",
              "    0% {\n",
              "      border-color: transparent;\n",
              "      border-bottom-color: var(--fill-color);\n",
              "      border-left-color: var(--fill-color);\n",
              "    }\n",
              "    20% {\n",
              "      border-color: transparent;\n",
              "      border-left-color: var(--fill-color);\n",
              "      border-top-color: var(--fill-color);\n",
              "    }\n",
              "    30% {\n",
              "      border-color: transparent;\n",
              "      border-left-color: var(--fill-color);\n",
              "      border-top-color: var(--fill-color);\n",
              "      border-right-color: var(--fill-color);\n",
              "    }\n",
              "    40% {\n",
              "      border-color: transparent;\n",
              "      border-right-color: var(--fill-color);\n",
              "      border-top-color: var(--fill-color);\n",
              "    }\n",
              "    60% {\n",
              "      border-color: transparent;\n",
              "      border-right-color: var(--fill-color);\n",
              "    }\n",
              "    80% {\n",
              "      border-color: transparent;\n",
              "      border-right-color: var(--fill-color);\n",
              "      border-bottom-color: var(--fill-color);\n",
              "    }\n",
              "    90% {\n",
              "      border-color: transparent;\n",
              "      border-bottom-color: var(--fill-color);\n",
              "    }\n",
              "  }\n",
              "</style>\n",
              "\n",
              "  <script>\n",
              "    async function quickchart(key) {\n",
              "      const quickchartButtonEl =\n",
              "        document.querySelector('#' + key + ' button');\n",
              "      quickchartButtonEl.disabled = true;  // To prevent multiple clicks.\n",
              "      quickchartButtonEl.classList.add('colab-df-spinner');\n",
              "      try {\n",
              "        const charts = await google.colab.kernel.invokeFunction(\n",
              "            'suggestCharts', [key], {});\n",
              "      } catch (error) {\n",
              "        console.error('Error during call to suggestCharts:', error);\n",
              "      }\n",
              "      quickchartButtonEl.classList.remove('colab-df-spinner');\n",
              "      quickchartButtonEl.classList.add('colab-df-quickchart-complete');\n",
              "    }\n",
              "    (() => {\n",
              "      let quickchartButtonEl =\n",
              "        document.querySelector('#df-21259f91-03d8-4e36-90d4-c2e5753fb148 button');\n",
              "      quickchartButtonEl.style.display =\n",
              "        google.colab.kernel.accessAllowed ? 'block' : 'none';\n",
              "    })();\n",
              "  </script>\n",
              "</div>\n",
              "    </div>\n",
              "  </div>\n"
            ],
            "application/vnd.google.colaboratory.intrinsic+json": {
              "type": "dataframe",
              "variable_name": "insurance_one_hot",
              "summary": "{\n  \"name\": \"insurance_one_hot\",\n  \"rows\": 1338,\n  \"fields\": [\n    {\n      \"column\": \"age\",\n      \"properties\": {\n        \"dtype\": \"number\",\n        \"std\": 14,\n        \"min\": 18,\n        \"max\": 64,\n        \"num_unique_values\": 47,\n        \"samples\": [\n          21,\n          45,\n          36\n        ],\n        \"semantic_type\": \"\",\n        \"description\": \"\"\n      }\n    },\n    {\n      \"column\": \"bmi\",\n      \"properties\": {\n        \"dtype\": \"number\",\n        \"std\": 6.098186911679014,\n        \"min\": 15.96,\n        \"max\": 53.13,\n        \"num_unique_values\": 548,\n        \"samples\": [\n          23.18,\n          26.885,\n          29.26\n        ],\n        \"semantic_type\": \"\",\n        \"description\": \"\"\n      }\n    },\n    {\n      \"column\": \"children\",\n      \"properties\": {\n        \"dtype\": \"number\",\n        \"std\": 1,\n        \"min\": 0,\n        \"max\": 5,\n        \"num_unique_values\": 6,\n        \"samples\": [\n          0,\n          1,\n          4\n        ],\n        \"semantic_type\": \"\",\n        \"description\": \"\"\n      }\n    },\n    {\n      \"column\": \"charges\",\n      \"properties\": {\n        \"dtype\": \"number\",\n        \"std\": 12110.011236694001,\n        \"min\": 1121.8739,\n        \"max\": 63770.42801,\n        \"num_unique_values\": 1337,\n        \"samples\": [\n          8688.85885,\n          5708.867,\n          11436.73815\n        ],\n        \"semantic_type\": \"\",\n        \"description\": \"\"\n      }\n    },\n    {\n      \"column\": \"sex_female\",\n      \"properties\": {\n        \"dtype\": \"uint8\",\n        \"num_unique_values\": 2,\n        \"samples\": [\n          0,\n          1\n        ],\n        \"semantic_type\": \"\",\n        \"description\": \"\"\n      }\n    },\n    {\n      \"column\": \"sex_male\",\n      \"properties\": {\n        \"dtype\": \"uint8\",\n        \"num_unique_values\": 2,\n        \"samples\": [\n          1,\n          0\n        ],\n        \"semantic_type\": \"\",\n        \"description\": \"\"\n      }\n    },\n    {\n      \"column\": \"smoker_no\",\n      \"properties\": {\n        \"dtype\": \"uint8\",\n        \"num_unique_values\": 2,\n        \"samples\": [\n          1,\n          0\n        ],\n        \"semantic_type\": \"\",\n        \"description\": \"\"\n      }\n    },\n    {\n      \"column\": \"smoker_yes\",\n      \"properties\": {\n        \"dtype\": \"uint8\",\n        \"num_unique_values\": 2,\n        \"samples\": [\n          0,\n          1\n        ],\n        \"semantic_type\": \"\",\n        \"description\": \"\"\n      }\n    },\n    {\n      \"column\": \"region_northeast\",\n      \"properties\": {\n        \"dtype\": \"uint8\",\n        \"num_unique_values\": 2,\n        \"samples\": [\n          1,\n          0\n        ],\n        \"semantic_type\": \"\",\n        \"description\": \"\"\n      }\n    },\n    {\n      \"column\": \"region_northwest\",\n      \"properties\": {\n        \"dtype\": \"uint8\",\n        \"num_unique_values\": 2,\n        \"samples\": [\n          1,\n          0\n        ],\n        \"semantic_type\": \"\",\n        \"description\": \"\"\n      }\n    },\n    {\n      \"column\": \"region_southeast\",\n      \"properties\": {\n        \"dtype\": \"uint8\",\n        \"num_unique_values\": 2,\n        \"samples\": [\n          1,\n          0\n        ],\n        \"semantic_type\": \"\",\n        \"description\": \"\"\n      }\n    },\n    {\n      \"column\": \"region_southwest\",\n      \"properties\": {\n        \"dtype\": \"uint8\",\n        \"num_unique_values\": 2,\n        \"samples\": [\n          0,\n          1\n        ],\n        \"semantic_type\": \"\",\n        \"description\": \"\"\n      }\n    }\n  ]\n}"
            }
          },
          "metadata": {},
          "execution_count": 87
        }
      ]
    },
    {
      "cell_type": "code",
      "source": [
        "#Create X and y values (features and labels)\n",
        "X = insurance_one_hot.drop(\"charges\", axis = 1)\n",
        "y = insurance_one_hot[\"charges\"]"
      ],
      "metadata": {
        "id": "Njbq8NeA7sR0"
      },
      "execution_count": 88,
      "outputs": []
    },
    {
      "cell_type": "code",
      "source": [
        "X.head()"
      ],
      "metadata": {
        "colab": {
          "base_uri": "https://localhost:8080/",
          "height": 226
        },
        "id": "rIlBKoceAZ2u",
        "outputId": "e14d78d3-642c-4594-f53d-a351908ea099"
      },
      "execution_count": 89,
      "outputs": [
        {
          "output_type": "execute_result",
          "data": {
            "text/plain": [
              "   age     bmi  children  sex_female  sex_male  smoker_no  smoker_yes  \\\n",
              "0   19  27.900         0           1         0          0           1   \n",
              "1   18  33.770         1           0         1          1           0   \n",
              "2   28  33.000         3           0         1          1           0   \n",
              "3   33  22.705         0           0         1          1           0   \n",
              "4   32  28.880         0           0         1          1           0   \n",
              "\n",
              "   region_northeast  region_northwest  region_southeast  region_southwest  \n",
              "0                 0                 0                 0                 1  \n",
              "1                 0                 0                 1                 0  \n",
              "2                 0                 0                 1                 0  \n",
              "3                 0                 1                 0                 0  \n",
              "4                 0                 1                 0                 0  "
            ],
            "text/html": [
              "\n",
              "  <div id=\"df-62e5a7fa-c7a3-489a-ba94-fad99365f4ea\" class=\"colab-df-container\">\n",
              "    <div>\n",
              "<style scoped>\n",
              "    .dataframe tbody tr th:only-of-type {\n",
              "        vertical-align: middle;\n",
              "    }\n",
              "\n",
              "    .dataframe tbody tr th {\n",
              "        vertical-align: top;\n",
              "    }\n",
              "\n",
              "    .dataframe thead th {\n",
              "        text-align: right;\n",
              "    }\n",
              "</style>\n",
              "<table border=\"1\" class=\"dataframe\">\n",
              "  <thead>\n",
              "    <tr style=\"text-align: right;\">\n",
              "      <th></th>\n",
              "      <th>age</th>\n",
              "      <th>bmi</th>\n",
              "      <th>children</th>\n",
              "      <th>sex_female</th>\n",
              "      <th>sex_male</th>\n",
              "      <th>smoker_no</th>\n",
              "      <th>smoker_yes</th>\n",
              "      <th>region_northeast</th>\n",
              "      <th>region_northwest</th>\n",
              "      <th>region_southeast</th>\n",
              "      <th>region_southwest</th>\n",
              "    </tr>\n",
              "  </thead>\n",
              "  <tbody>\n",
              "    <tr>\n",
              "      <th>0</th>\n",
              "      <td>19</td>\n",
              "      <td>27.900</td>\n",
              "      <td>0</td>\n",
              "      <td>1</td>\n",
              "      <td>0</td>\n",
              "      <td>0</td>\n",
              "      <td>1</td>\n",
              "      <td>0</td>\n",
              "      <td>0</td>\n",
              "      <td>0</td>\n",
              "      <td>1</td>\n",
              "    </tr>\n",
              "    <tr>\n",
              "      <th>1</th>\n",
              "      <td>18</td>\n",
              "      <td>33.770</td>\n",
              "      <td>1</td>\n",
              "      <td>0</td>\n",
              "      <td>1</td>\n",
              "      <td>1</td>\n",
              "      <td>0</td>\n",
              "      <td>0</td>\n",
              "      <td>0</td>\n",
              "      <td>1</td>\n",
              "      <td>0</td>\n",
              "    </tr>\n",
              "    <tr>\n",
              "      <th>2</th>\n",
              "      <td>28</td>\n",
              "      <td>33.000</td>\n",
              "      <td>3</td>\n",
              "      <td>0</td>\n",
              "      <td>1</td>\n",
              "      <td>1</td>\n",
              "      <td>0</td>\n",
              "      <td>0</td>\n",
              "      <td>0</td>\n",
              "      <td>1</td>\n",
              "      <td>0</td>\n",
              "    </tr>\n",
              "    <tr>\n",
              "      <th>3</th>\n",
              "      <td>33</td>\n",
              "      <td>22.705</td>\n",
              "      <td>0</td>\n",
              "      <td>0</td>\n",
              "      <td>1</td>\n",
              "      <td>1</td>\n",
              "      <td>0</td>\n",
              "      <td>0</td>\n",
              "      <td>1</td>\n",
              "      <td>0</td>\n",
              "      <td>0</td>\n",
              "    </tr>\n",
              "    <tr>\n",
              "      <th>4</th>\n",
              "      <td>32</td>\n",
              "      <td>28.880</td>\n",
              "      <td>0</td>\n",
              "      <td>0</td>\n",
              "      <td>1</td>\n",
              "      <td>1</td>\n",
              "      <td>0</td>\n",
              "      <td>0</td>\n",
              "      <td>1</td>\n",
              "      <td>0</td>\n",
              "      <td>0</td>\n",
              "    </tr>\n",
              "  </tbody>\n",
              "</table>\n",
              "</div>\n",
              "    <div class=\"colab-df-buttons\">\n",
              "\n",
              "  <div class=\"colab-df-container\">\n",
              "    <button class=\"colab-df-convert\" onclick=\"convertToInteractive('df-62e5a7fa-c7a3-489a-ba94-fad99365f4ea')\"\n",
              "            title=\"Convert this dataframe to an interactive table.\"\n",
              "            style=\"display:none;\">\n",
              "\n",
              "  <svg xmlns=\"http://www.w3.org/2000/svg\" height=\"24px\" viewBox=\"0 -960 960 960\">\n",
              "    <path d=\"M120-120v-720h720v720H120Zm60-500h600v-160H180v160Zm220 220h160v-160H400v160Zm0 220h160v-160H400v160ZM180-400h160v-160H180v160Zm440 0h160v-160H620v160ZM180-180h160v-160H180v160Zm440 0h160v-160H620v160Z\"/>\n",
              "  </svg>\n",
              "    </button>\n",
              "\n",
              "  <style>\n",
              "    .colab-df-container {\n",
              "      display:flex;\n",
              "      gap: 12px;\n",
              "    }\n",
              "\n",
              "    .colab-df-convert {\n",
              "      background-color: #E8F0FE;\n",
              "      border: none;\n",
              "      border-radius: 50%;\n",
              "      cursor: pointer;\n",
              "      display: none;\n",
              "      fill: #1967D2;\n",
              "      height: 32px;\n",
              "      padding: 0 0 0 0;\n",
              "      width: 32px;\n",
              "    }\n",
              "\n",
              "    .colab-df-convert:hover {\n",
              "      background-color: #E2EBFA;\n",
              "      box-shadow: 0px 1px 2px rgba(60, 64, 67, 0.3), 0px 1px 3px 1px rgba(60, 64, 67, 0.15);\n",
              "      fill: #174EA6;\n",
              "    }\n",
              "\n",
              "    .colab-df-buttons div {\n",
              "      margin-bottom: 4px;\n",
              "    }\n",
              "\n",
              "    [theme=dark] .colab-df-convert {\n",
              "      background-color: #3B4455;\n",
              "      fill: #D2E3FC;\n",
              "    }\n",
              "\n",
              "    [theme=dark] .colab-df-convert:hover {\n",
              "      background-color: #434B5C;\n",
              "      box-shadow: 0px 1px 3px 1px rgba(0, 0, 0, 0.15);\n",
              "      filter: drop-shadow(0px 1px 2px rgba(0, 0, 0, 0.3));\n",
              "      fill: #FFFFFF;\n",
              "    }\n",
              "  </style>\n",
              "\n",
              "    <script>\n",
              "      const buttonEl =\n",
              "        document.querySelector('#df-62e5a7fa-c7a3-489a-ba94-fad99365f4ea button.colab-df-convert');\n",
              "      buttonEl.style.display =\n",
              "        google.colab.kernel.accessAllowed ? 'block' : 'none';\n",
              "\n",
              "      async function convertToInteractive(key) {\n",
              "        const element = document.querySelector('#df-62e5a7fa-c7a3-489a-ba94-fad99365f4ea');\n",
              "        const dataTable =\n",
              "          await google.colab.kernel.invokeFunction('convertToInteractive',\n",
              "                                                    [key], {});\n",
              "        if (!dataTable) return;\n",
              "\n",
              "        const docLinkHtml = 'Like what you see? Visit the ' +\n",
              "          '<a target=\"_blank\" href=https://colab.research.google.com/notebooks/data_table.ipynb>data table notebook</a>'\n",
              "          + ' to learn more about interactive tables.';\n",
              "        element.innerHTML = '';\n",
              "        dataTable['output_type'] = 'display_data';\n",
              "        await google.colab.output.renderOutput(dataTable, element);\n",
              "        const docLink = document.createElement('div');\n",
              "        docLink.innerHTML = docLinkHtml;\n",
              "        element.appendChild(docLink);\n",
              "      }\n",
              "    </script>\n",
              "  </div>\n",
              "\n",
              "\n",
              "<div id=\"df-b624392e-1a7c-4243-b14b-055cbc4db8de\">\n",
              "  <button class=\"colab-df-quickchart\" onclick=\"quickchart('df-b624392e-1a7c-4243-b14b-055cbc4db8de')\"\n",
              "            title=\"Suggest charts\"\n",
              "            style=\"display:none;\">\n",
              "\n",
              "<svg xmlns=\"http://www.w3.org/2000/svg\" height=\"24px\"viewBox=\"0 0 24 24\"\n",
              "     width=\"24px\">\n",
              "    <g>\n",
              "        <path d=\"M19 3H5c-1.1 0-2 .9-2 2v14c0 1.1.9 2 2 2h14c1.1 0 2-.9 2-2V5c0-1.1-.9-2-2-2zM9 17H7v-7h2v7zm4 0h-2V7h2v10zm4 0h-2v-4h2v4z\"/>\n",
              "    </g>\n",
              "</svg>\n",
              "  </button>\n",
              "\n",
              "<style>\n",
              "  .colab-df-quickchart {\n",
              "      --bg-color: #E8F0FE;\n",
              "      --fill-color: #1967D2;\n",
              "      --hover-bg-color: #E2EBFA;\n",
              "      --hover-fill-color: #174EA6;\n",
              "      --disabled-fill-color: #AAA;\n",
              "      --disabled-bg-color: #DDD;\n",
              "  }\n",
              "\n",
              "  [theme=dark] .colab-df-quickchart {\n",
              "      --bg-color: #3B4455;\n",
              "      --fill-color: #D2E3FC;\n",
              "      --hover-bg-color: #434B5C;\n",
              "      --hover-fill-color: #FFFFFF;\n",
              "      --disabled-bg-color: #3B4455;\n",
              "      --disabled-fill-color: #666;\n",
              "  }\n",
              "\n",
              "  .colab-df-quickchart {\n",
              "    background-color: var(--bg-color);\n",
              "    border: none;\n",
              "    border-radius: 50%;\n",
              "    cursor: pointer;\n",
              "    display: none;\n",
              "    fill: var(--fill-color);\n",
              "    height: 32px;\n",
              "    padding: 0;\n",
              "    width: 32px;\n",
              "  }\n",
              "\n",
              "  .colab-df-quickchart:hover {\n",
              "    background-color: var(--hover-bg-color);\n",
              "    box-shadow: 0 1px 2px rgba(60, 64, 67, 0.3), 0 1px 3px 1px rgba(60, 64, 67, 0.15);\n",
              "    fill: var(--button-hover-fill-color);\n",
              "  }\n",
              "\n",
              "  .colab-df-quickchart-complete:disabled,\n",
              "  .colab-df-quickchart-complete:disabled:hover {\n",
              "    background-color: var(--disabled-bg-color);\n",
              "    fill: var(--disabled-fill-color);\n",
              "    box-shadow: none;\n",
              "  }\n",
              "\n",
              "  .colab-df-spinner {\n",
              "    border: 2px solid var(--fill-color);\n",
              "    border-color: transparent;\n",
              "    border-bottom-color: var(--fill-color);\n",
              "    animation:\n",
              "      spin 1s steps(1) infinite;\n",
              "  }\n",
              "\n",
              "  @keyframes spin {\n",
              "    0% {\n",
              "      border-color: transparent;\n",
              "      border-bottom-color: var(--fill-color);\n",
              "      border-left-color: var(--fill-color);\n",
              "    }\n",
              "    20% {\n",
              "      border-color: transparent;\n",
              "      border-left-color: var(--fill-color);\n",
              "      border-top-color: var(--fill-color);\n",
              "    }\n",
              "    30% {\n",
              "      border-color: transparent;\n",
              "      border-left-color: var(--fill-color);\n",
              "      border-top-color: var(--fill-color);\n",
              "      border-right-color: var(--fill-color);\n",
              "    }\n",
              "    40% {\n",
              "      border-color: transparent;\n",
              "      border-right-color: var(--fill-color);\n",
              "      border-top-color: var(--fill-color);\n",
              "    }\n",
              "    60% {\n",
              "      border-color: transparent;\n",
              "      border-right-color: var(--fill-color);\n",
              "    }\n",
              "    80% {\n",
              "      border-color: transparent;\n",
              "      border-right-color: var(--fill-color);\n",
              "      border-bottom-color: var(--fill-color);\n",
              "    }\n",
              "    90% {\n",
              "      border-color: transparent;\n",
              "      border-bottom-color: var(--fill-color);\n",
              "    }\n",
              "  }\n",
              "</style>\n",
              "\n",
              "  <script>\n",
              "    async function quickchart(key) {\n",
              "      const quickchartButtonEl =\n",
              "        document.querySelector('#' + key + ' button');\n",
              "      quickchartButtonEl.disabled = true;  // To prevent multiple clicks.\n",
              "      quickchartButtonEl.classList.add('colab-df-spinner');\n",
              "      try {\n",
              "        const charts = await google.colab.kernel.invokeFunction(\n",
              "            'suggestCharts', [key], {});\n",
              "      } catch (error) {\n",
              "        console.error('Error during call to suggestCharts:', error);\n",
              "      }\n",
              "      quickchartButtonEl.classList.remove('colab-df-spinner');\n",
              "      quickchartButtonEl.classList.add('colab-df-quickchart-complete');\n",
              "    }\n",
              "    (() => {\n",
              "      let quickchartButtonEl =\n",
              "        document.querySelector('#df-b624392e-1a7c-4243-b14b-055cbc4db8de button');\n",
              "      quickchartButtonEl.style.display =\n",
              "        google.colab.kernel.accessAllowed ? 'block' : 'none';\n",
              "    })();\n",
              "  </script>\n",
              "</div>\n",
              "    </div>\n",
              "  </div>\n"
            ],
            "application/vnd.google.colaboratory.intrinsic+json": {
              "type": "dataframe",
              "variable_name": "X",
              "summary": "{\n  \"name\": \"X\",\n  \"rows\": 1338,\n  \"fields\": [\n    {\n      \"column\": \"age\",\n      \"properties\": {\n        \"dtype\": \"number\",\n        \"std\": 14,\n        \"min\": 18,\n        \"max\": 64,\n        \"num_unique_values\": 47,\n        \"samples\": [\n          21,\n          45,\n          36\n        ],\n        \"semantic_type\": \"\",\n        \"description\": \"\"\n      }\n    },\n    {\n      \"column\": \"bmi\",\n      \"properties\": {\n        \"dtype\": \"number\",\n        \"std\": 6.098186911679014,\n        \"min\": 15.96,\n        \"max\": 53.13,\n        \"num_unique_values\": 548,\n        \"samples\": [\n          23.18,\n          26.885,\n          29.26\n        ],\n        \"semantic_type\": \"\",\n        \"description\": \"\"\n      }\n    },\n    {\n      \"column\": \"children\",\n      \"properties\": {\n        \"dtype\": \"number\",\n        \"std\": 1,\n        \"min\": 0,\n        \"max\": 5,\n        \"num_unique_values\": 6,\n        \"samples\": [\n          0,\n          1,\n          4\n        ],\n        \"semantic_type\": \"\",\n        \"description\": \"\"\n      }\n    },\n    {\n      \"column\": \"sex_female\",\n      \"properties\": {\n        \"dtype\": \"uint8\",\n        \"num_unique_values\": 2,\n        \"samples\": [\n          0,\n          1\n        ],\n        \"semantic_type\": \"\",\n        \"description\": \"\"\n      }\n    },\n    {\n      \"column\": \"sex_male\",\n      \"properties\": {\n        \"dtype\": \"uint8\",\n        \"num_unique_values\": 2,\n        \"samples\": [\n          1,\n          0\n        ],\n        \"semantic_type\": \"\",\n        \"description\": \"\"\n      }\n    },\n    {\n      \"column\": \"smoker_no\",\n      \"properties\": {\n        \"dtype\": \"uint8\",\n        \"num_unique_values\": 2,\n        \"samples\": [\n          1,\n          0\n        ],\n        \"semantic_type\": \"\",\n        \"description\": \"\"\n      }\n    },\n    {\n      \"column\": \"smoker_yes\",\n      \"properties\": {\n        \"dtype\": \"uint8\",\n        \"num_unique_values\": 2,\n        \"samples\": [\n          0,\n          1\n        ],\n        \"semantic_type\": \"\",\n        \"description\": \"\"\n      }\n    },\n    {\n      \"column\": \"region_northeast\",\n      \"properties\": {\n        \"dtype\": \"uint8\",\n        \"num_unique_values\": 2,\n        \"samples\": [\n          1,\n          0\n        ],\n        \"semantic_type\": \"\",\n        \"description\": \"\"\n      }\n    },\n    {\n      \"column\": \"region_northwest\",\n      \"properties\": {\n        \"dtype\": \"uint8\",\n        \"num_unique_values\": 2,\n        \"samples\": [\n          1,\n          0\n        ],\n        \"semantic_type\": \"\",\n        \"description\": \"\"\n      }\n    },\n    {\n      \"column\": \"region_southeast\",\n      \"properties\": {\n        \"dtype\": \"uint8\",\n        \"num_unique_values\": 2,\n        \"samples\": [\n          1,\n          0\n        ],\n        \"semantic_type\": \"\",\n        \"description\": \"\"\n      }\n    },\n    {\n      \"column\": \"region_southwest\",\n      \"properties\": {\n        \"dtype\": \"uint8\",\n        \"num_unique_values\": 2,\n        \"samples\": [\n          0,\n          1\n        ],\n        \"semantic_type\": \"\",\n        \"description\": \"\"\n      }\n    }\n  ]\n}"
            }
          },
          "metadata": {},
          "execution_count": 89
        }
      ]
    },
    {
      "cell_type": "code",
      "source": [
        "y.head()"
      ],
      "metadata": {
        "colab": {
          "base_uri": "https://localhost:8080/"
        },
        "id": "q93jfK3VAaEh",
        "outputId": "5ee4af8c-b9dc-4c45-f6bf-60aeb10bbe7c"
      },
      "execution_count": 90,
      "outputs": [
        {
          "output_type": "execute_result",
          "data": {
            "text/plain": [
              "0    16884.92400\n",
              "1     1725.55230\n",
              "2     4449.46200\n",
              "3    21984.47061\n",
              "4     3866.85520\n",
              "Name: charges, dtype: float64"
            ]
          },
          "metadata": {},
          "execution_count": 90
        }
      ]
    },
    {
      "cell_type": "code",
      "source": [
        "#Create training and test sets\n",
        "from sklearn.model_selection import train_test_split\n",
        "\n",
        "X_train, X_test, y_train, y_test = train_test_split(X, y, test_size = 0.20, random_state = 42)"
      ],
      "metadata": {
        "id": "cVbWLUj--7_n"
      },
      "execution_count": 91,
      "outputs": []
    },
    {
      "cell_type": "code",
      "source": [
        "len(X), len(X_train), len(X_test)"
      ],
      "metadata": {
        "colab": {
          "base_uri": "https://localhost:8080/"
        },
        "id": "0ikgjCxXCPjH",
        "outputId": "752fbe73-dc98-4abb-f72c-cb59146a363f"
      },
      "execution_count": 92,
      "outputs": [
        {
          "output_type": "execute_result",
          "data": {
            "text/plain": [
              "(1338, 1070, 268)"
            ]
          },
          "metadata": {},
          "execution_count": 92
        }
      ]
    },
    {
      "cell_type": "code",
      "source": [
        "#Build a neural network\n",
        "tf.random.set_seed(42)\n",
        "\n",
        "#Create the model\n",
        "model_insurance = tf.keras.Sequential()\n",
        "model_insurance.add(tf.keras.layers.Dense(10))\n",
        "model_insurance.add(tf.keras.layers.Dense(1))\n",
        "\n",
        "#Compile the model\n",
        "model_insurance.compile(optimizer = tf.keras.optimizers.SGD(),\n",
        "                        loss = tf.keras.losses.mae,\n",
        "                        metrics = [\"mae\"])\n",
        "\n",
        "#Fit the model\n",
        "model_insurance.fit(X_train, y_train, epochs = 100)"
      ],
      "metadata": {
        "colab": {
          "base_uri": "https://localhost:8080/"
        },
        "id": "PZ-rkjSz_grC",
        "outputId": "524cd25f-8c20-4a49-ba48-1ab487c7bba7"
      },
      "execution_count": 93,
      "outputs": [
        {
          "output_type": "stream",
          "name": "stdout",
          "text": [
            "Epoch 1/100\n",
            "34/34 [==============================] - 0s 2ms/step - loss: 8654.8770 - mae: 8654.8770\n",
            "Epoch 2/100\n",
            "34/34 [==============================] - 0s 1ms/step - loss: 7841.2617 - mae: 7841.2617\n",
            "Epoch 3/100\n",
            "34/34 [==============================] - 0s 2ms/step - loss: 7549.8643 - mae: 7549.8643\n",
            "Epoch 4/100\n",
            "34/34 [==============================] - 0s 2ms/step - loss: 7860.9683 - mae: 7860.9683\n",
            "Epoch 5/100\n",
            "34/34 [==============================] - 0s 2ms/step - loss: 7671.4980 - mae: 7671.4980\n",
            "Epoch 6/100\n",
            "34/34 [==============================] - 0s 2ms/step - loss: 7562.3599 - mae: 7562.3599\n",
            "Epoch 7/100\n",
            "34/34 [==============================] - 0s 2ms/step - loss: 7574.1982 - mae: 7574.1982\n",
            "Epoch 8/100\n",
            "34/34 [==============================] - 0s 2ms/step - loss: 7807.0908 - mae: 7807.0908\n",
            "Epoch 9/100\n",
            "34/34 [==============================] - 0s 2ms/step - loss: 7552.6348 - mae: 7552.6348\n",
            "Epoch 10/100\n",
            "34/34 [==============================] - 0s 2ms/step - loss: 7563.6348 - mae: 7563.6348\n",
            "Epoch 11/100\n",
            "34/34 [==============================] - 0s 2ms/step - loss: 7522.3037 - mae: 7522.3037\n",
            "Epoch 12/100\n",
            "34/34 [==============================] - 0s 2ms/step - loss: 7570.3101 - mae: 7570.3101\n",
            "Epoch 13/100\n",
            "34/34 [==============================] - 0s 2ms/step - loss: 7613.6108 - mae: 7613.6108\n",
            "Epoch 14/100\n",
            "34/34 [==============================] - 0s 2ms/step - loss: 7715.9839 - mae: 7715.9839\n",
            "Epoch 15/100\n",
            "34/34 [==============================] - 0s 2ms/step - loss: 7501.1641 - mae: 7501.1641\n",
            "Epoch 16/100\n",
            "34/34 [==============================] - 0s 2ms/step - loss: 7821.6230 - mae: 7821.6230\n",
            "Epoch 17/100\n",
            "34/34 [==============================] - 0s 2ms/step - loss: 7558.3574 - mae: 7558.3574\n",
            "Epoch 18/100\n",
            "34/34 [==============================] - 0s 2ms/step - loss: 7680.4419 - mae: 7680.4419\n",
            "Epoch 19/100\n",
            "34/34 [==============================] - 0s 2ms/step - loss: 7854.1338 - mae: 7854.1338\n",
            "Epoch 20/100\n",
            "34/34 [==============================] - 0s 2ms/step - loss: 7781.8013 - mae: 7781.8013\n",
            "Epoch 21/100\n",
            "34/34 [==============================] - 0s 2ms/step - loss: 7422.8584 - mae: 7422.8584\n",
            "Epoch 22/100\n",
            "34/34 [==============================] - 0s 2ms/step - loss: 7860.2207 - mae: 7860.2207\n",
            "Epoch 23/100\n",
            "34/34 [==============================] - 0s 2ms/step - loss: 7762.5967 - mae: 7762.5967\n",
            "Epoch 24/100\n",
            "34/34 [==============================] - 0s 2ms/step - loss: 7547.6479 - mae: 7547.6479\n",
            "Epoch 25/100\n",
            "34/34 [==============================] - 0s 2ms/step - loss: 7695.0742 - mae: 7695.0742\n",
            "Epoch 26/100\n",
            "34/34 [==============================] - 0s 2ms/step - loss: 7659.0547 - mae: 7659.0547\n",
            "Epoch 27/100\n",
            "34/34 [==============================] - 0s 2ms/step - loss: 7381.8125 - mae: 7381.8125\n",
            "Epoch 28/100\n",
            "34/34 [==============================] - 0s 2ms/step - loss: 7263.7622 - mae: 7263.7622\n",
            "Epoch 29/100\n",
            "34/34 [==============================] - 0s 2ms/step - loss: 7674.5537 - mae: 7674.5537\n",
            "Epoch 30/100\n",
            "34/34 [==============================] - 0s 1ms/step - loss: 7360.5312 - mae: 7360.5312\n",
            "Epoch 31/100\n",
            "34/34 [==============================] - 0s 2ms/step - loss: 7598.4595 - mae: 7598.4595\n",
            "Epoch 32/100\n",
            "34/34 [==============================] - 0s 2ms/step - loss: 7479.3901 - mae: 7479.3901\n",
            "Epoch 33/100\n",
            "34/34 [==============================] - 0s 2ms/step - loss: 7530.5791 - mae: 7530.5791\n",
            "Epoch 34/100\n",
            "34/34 [==============================] - 0s 2ms/step - loss: 7429.6602 - mae: 7429.6602\n",
            "Epoch 35/100\n",
            "34/34 [==============================] - 0s 2ms/step - loss: 7371.2285 - mae: 7371.2285\n",
            "Epoch 36/100\n",
            "34/34 [==============================] - 0s 2ms/step - loss: 7662.7109 - mae: 7662.7109\n",
            "Epoch 37/100\n",
            "34/34 [==============================] - 0s 2ms/step - loss: 7572.3501 - mae: 7572.3501\n",
            "Epoch 38/100\n",
            "34/34 [==============================] - 0s 2ms/step - loss: 7523.1519 - mae: 7523.1519\n",
            "Epoch 39/100\n",
            "34/34 [==============================] - 0s 2ms/step - loss: 7547.3193 - mae: 7547.3193\n",
            "Epoch 40/100\n",
            "34/34 [==============================] - 0s 2ms/step - loss: 7509.5654 - mae: 7509.5654\n",
            "Epoch 41/100\n",
            "34/34 [==============================] - 0s 2ms/step - loss: 7708.0488 - mae: 7708.0488\n",
            "Epoch 42/100\n",
            "34/34 [==============================] - 0s 3ms/step - loss: 7394.5742 - mae: 7394.5742\n",
            "Epoch 43/100\n",
            "34/34 [==============================] - 0s 3ms/step - loss: 7638.2842 - mae: 7638.2842\n",
            "Epoch 44/100\n",
            "34/34 [==============================] - 0s 3ms/step - loss: 7435.2026 - mae: 7435.2026\n",
            "Epoch 45/100\n",
            "34/34 [==============================] - 0s 3ms/step - loss: 7505.9897 - mae: 7505.9897\n",
            "Epoch 46/100\n",
            "34/34 [==============================] - 0s 3ms/step - loss: 7315.5542 - mae: 7315.5542\n",
            "Epoch 47/100\n",
            "34/34 [==============================] - 0s 4ms/step - loss: 7392.6606 - mae: 7392.6606\n",
            "Epoch 48/100\n",
            "34/34 [==============================] - 0s 3ms/step - loss: 7540.3765 - mae: 7540.3765\n",
            "Epoch 49/100\n",
            "34/34 [==============================] - 0s 3ms/step - loss: 7529.3540 - mae: 7529.3540\n",
            "Epoch 50/100\n",
            "34/34 [==============================] - 0s 3ms/step - loss: 7490.3550 - mae: 7490.3550\n",
            "Epoch 51/100\n",
            "34/34 [==============================] - 0s 3ms/step - loss: 7306.5347 - mae: 7306.5347\n",
            "Epoch 52/100\n",
            "34/34 [==============================] - 0s 3ms/step - loss: 7317.6011 - mae: 7317.6011\n",
            "Epoch 53/100\n",
            "34/34 [==============================] - 0s 3ms/step - loss: 7515.3403 - mae: 7515.3403\n",
            "Epoch 54/100\n",
            "34/34 [==============================] - 0s 3ms/step - loss: 7226.7046 - mae: 7226.7046\n",
            "Epoch 55/100\n",
            "34/34 [==============================] - 0s 4ms/step - loss: 7230.0488 - mae: 7230.0488\n",
            "Epoch 56/100\n",
            "34/34 [==============================] - 0s 3ms/step - loss: 7304.7471 - mae: 7304.7471\n",
            "Epoch 57/100\n",
            "34/34 [==============================] - 0s 3ms/step - loss: 7552.5684 - mae: 7552.5684\n",
            "Epoch 58/100\n",
            "34/34 [==============================] - 0s 3ms/step - loss: 7410.9736 - mae: 7410.9736\n",
            "Epoch 59/100\n",
            "34/34 [==============================] - 0s 3ms/step - loss: 7491.2266 - mae: 7491.2266\n",
            "Epoch 60/100\n",
            "34/34 [==============================] - 0s 3ms/step - loss: 7477.9077 - mae: 7477.9077\n",
            "Epoch 61/100\n",
            "34/34 [==============================] - 0s 3ms/step - loss: 7319.6626 - mae: 7319.6626\n",
            "Epoch 62/100\n",
            "34/34 [==============================] - 0s 3ms/step - loss: 7548.5381 - mae: 7548.5381\n",
            "Epoch 63/100\n",
            "34/34 [==============================] - 0s 2ms/step - loss: 7393.3462 - mae: 7393.3462\n",
            "Epoch 64/100\n",
            "34/34 [==============================] - 0s 2ms/step - loss: 7439.4507 - mae: 7439.4507\n",
            "Epoch 65/100\n",
            "34/34 [==============================] - 0s 3ms/step - loss: 7420.6284 - mae: 7420.6284\n",
            "Epoch 66/100\n",
            "34/34 [==============================] - 0s 3ms/step - loss: 7307.5327 - mae: 7307.5327\n",
            "Epoch 67/100\n",
            "34/34 [==============================] - 0s 3ms/step - loss: 7471.9307 - mae: 7471.9307\n",
            "Epoch 68/100\n",
            "34/34 [==============================] - 0s 3ms/step - loss: 7484.1792 - mae: 7484.1792\n",
            "Epoch 69/100\n",
            "34/34 [==============================] - 0s 3ms/step - loss: 7559.9976 - mae: 7559.9976\n",
            "Epoch 70/100\n",
            "34/34 [==============================] - 0s 2ms/step - loss: 7630.0181 - mae: 7630.0181\n",
            "Epoch 71/100\n",
            "34/34 [==============================] - 0s 3ms/step - loss: 7254.8955 - mae: 7254.8955\n",
            "Epoch 72/100\n",
            "34/34 [==============================] - 0s 2ms/step - loss: 7365.3892 - mae: 7365.3892\n",
            "Epoch 73/100\n",
            "34/34 [==============================] - 0s 3ms/step - loss: 7338.1675 - mae: 7338.1675\n",
            "Epoch 74/100\n",
            "34/34 [==============================] - 0s 3ms/step - loss: 7406.0889 - mae: 7406.0889\n",
            "Epoch 75/100\n",
            "34/34 [==============================] - 0s 3ms/step - loss: 7273.4468 - mae: 7273.4468\n",
            "Epoch 76/100\n",
            "34/34 [==============================] - 0s 4ms/step - loss: 7141.3667 - mae: 7141.3667\n",
            "Epoch 77/100\n",
            "34/34 [==============================] - 0s 3ms/step - loss: 7515.0605 - mae: 7515.0605\n",
            "Epoch 78/100\n",
            "34/34 [==============================] - 0s 2ms/step - loss: 7105.4238 - mae: 7105.4238\n",
            "Epoch 79/100\n",
            "34/34 [==============================] - 0s 2ms/step - loss: 7482.5405 - mae: 7482.5405\n",
            "Epoch 80/100\n",
            "34/34 [==============================] - 0s 1ms/step - loss: 7370.4951 - mae: 7370.4951\n",
            "Epoch 81/100\n",
            "34/34 [==============================] - 0s 2ms/step - loss: 7214.2388 - mae: 7214.2388\n",
            "Epoch 82/100\n",
            "34/34 [==============================] - 0s 2ms/step - loss: 7274.4165 - mae: 7274.4165\n",
            "Epoch 83/100\n",
            "34/34 [==============================] - 0s 2ms/step - loss: 7534.4805 - mae: 7534.4805\n",
            "Epoch 84/100\n",
            "34/34 [==============================] - 0s 1ms/step - loss: 7432.1841 - mae: 7432.1841\n",
            "Epoch 85/100\n",
            "34/34 [==============================] - 0s 2ms/step - loss: 7425.4087 - mae: 7425.4087\n",
            "Epoch 86/100\n",
            "34/34 [==============================] - 0s 1ms/step - loss: 7572.3750 - mae: 7572.3750\n",
            "Epoch 87/100\n",
            "34/34 [==============================] - 0s 2ms/step - loss: 7127.0449 - mae: 7127.0449\n",
            "Epoch 88/100\n",
            "34/34 [==============================] - 0s 2ms/step - loss: 7307.9238 - mae: 7307.9238\n",
            "Epoch 89/100\n",
            "34/34 [==============================] - 0s 2ms/step - loss: 7511.9834 - mae: 7511.9834\n",
            "Epoch 90/100\n",
            "34/34 [==============================] - 0s 2ms/step - loss: 7102.9619 - mae: 7102.9619\n",
            "Epoch 91/100\n",
            "34/34 [==============================] - 0s 2ms/step - loss: 7272.4512 - mae: 7272.4512\n",
            "Epoch 92/100\n",
            "34/34 [==============================] - 0s 2ms/step - loss: 7229.3623 - mae: 7229.3623\n",
            "Epoch 93/100\n",
            "34/34 [==============================] - 0s 2ms/step - loss: 7451.5708 - mae: 7451.5708\n",
            "Epoch 94/100\n",
            "34/34 [==============================] - 0s 2ms/step - loss: 7139.8379 - mae: 7139.8379\n",
            "Epoch 95/100\n",
            "34/34 [==============================] - 0s 2ms/step - loss: 7212.0435 - mae: 7212.0435\n",
            "Epoch 96/100\n",
            "34/34 [==============================] - 0s 2ms/step - loss: 7204.3774 - mae: 7204.3774\n",
            "Epoch 97/100\n",
            "34/34 [==============================] - 0s 2ms/step - loss: 7307.1411 - mae: 7307.1411\n",
            "Epoch 98/100\n",
            "34/34 [==============================] - 0s 2ms/step - loss: 7427.3740 - mae: 7427.3740\n",
            "Epoch 99/100\n",
            "34/34 [==============================] - 0s 2ms/step - loss: 7307.5410 - mae: 7307.5410\n",
            "Epoch 100/100\n",
            "34/34 [==============================] - 0s 2ms/step - loss: 7269.8774 - mae: 7269.8774\n"
          ]
        },
        {
          "output_type": "execute_result",
          "data": {
            "text/plain": [
              "<keras.src.callbacks.History at 0x7d6e4e418e80>"
            ]
          },
          "metadata": {},
          "execution_count": 93
        }
      ]
    },
    {
      "cell_type": "code",
      "source": [
        "#Check the results of the insurance model on the test data\n",
        "\n",
        "y_pred_insurance = model_insurance.predict(X_test)"
      ],
      "metadata": {
        "colab": {
          "base_uri": "https://localhost:8080/"
        },
        "id": "gIljl4fBESti",
        "outputId": "00fc1db5-a992-469c-a1a0-983cd2a8c0bd"
      },
      "execution_count": 94,
      "outputs": [
        {
          "output_type": "stream",
          "name": "stdout",
          "text": [
            "9/9 [==============================] - 0s 2ms/step\n"
          ]
        }
      ]
    },
    {
      "cell_type": "code",
      "source": [
        "#Evaluation\n",
        "mae_insurance = tf.keras.metrics.mean_absolute_error(y_true = y_test, y_pred = tf.squeeze(y_pred_insurance))\n",
        "mae_insurance"
      ],
      "metadata": {
        "colab": {
          "base_uri": "https://localhost:8080/"
        },
        "id": "qoqHFqB1FVIv",
        "outputId": "15c3c35f-bcfc-4aa5-acbb-e5d6f7be4161"
      },
      "execution_count": 95,
      "outputs": [
        {
          "output_type": "execute_result",
          "data": {
            "text/plain": [
              "<tf.Tensor: shape=(), dtype=float32, numpy=8453.168>"
            ]
          },
          "metadata": {},
          "execution_count": 95
        }
      ]
    },
    {
      "cell_type": "code",
      "source": [
        "mse_insurance = tf.keras.metrics.mean_squared_error(y_true = y_test, y_pred = tf.squeeze(y_pred_insurance))\n",
        "mse_insurance"
      ],
      "metadata": {
        "colab": {
          "base_uri": "https://localhost:8080/"
        },
        "id": "gi31GHZEFo8F",
        "outputId": "b8c3ebbe-166b-4c75-fb20-2846953ea056"
      },
      "execution_count": 96,
      "outputs": [
        {
          "output_type": "execute_result",
          "data": {
            "text/plain": [
              "<tf.Tensor: shape=(), dtype=float32, numpy=106966380.0>"
            ]
          },
          "metadata": {},
          "execution_count": 96
        }
      ]
    },
    {
      "cell_type": "code",
      "source": [
        "model_insurance.evaluate(X_test, y_test)"
      ],
      "metadata": {
        "colab": {
          "base_uri": "https://localhost:8080/"
        },
        "id": "v0fO5FyVF9D3",
        "outputId": "c1c552fa-5837-4659-9f81-2a77e3a89cd4"
      },
      "execution_count": 97,
      "outputs": [
        {
          "output_type": "stream",
          "name": "stdout",
          "text": [
            "9/9 [==============================] - 0s 2ms/step - loss: 8453.1670 - mae: 8453.1670\n"
          ]
        },
        {
          "output_type": "execute_result",
          "data": {
            "text/plain": [
              "[8453.1669921875, 8453.1669921875]"
            ]
          },
          "metadata": {},
          "execution_count": 97
        }
      ]
    },
    {
      "cell_type": "markdown",
      "source": [
        "##Improving our model\n",
        "1. Add an extra layer with more hidden units and use Adam optimizer\n",
        "2. Increase the epochs"
      ],
      "metadata": {
        "id": "DxybFQsqGQzi"
      }
    },
    {
      "cell_type": "code",
      "source": [
        "#Set random_seed\n",
        "tf.random.set_seed(42)\n",
        "\n",
        "#Create the model\n",
        "model_insurance_2 = tf.keras.Sequential()\n",
        "model_insurance_2.add(tf.keras.layers.Dense(100))\n",
        "model_insurance_2.add(tf.keras.layers.Dense(10))\n",
        "model_insurance_2.add(tf.keras.layers.Dense(1))\n",
        "\n",
        "#Compile the model\n",
        "model_insurance_2.compile(optimizer = tf.keras.optimizers.Adam(),\n",
        "                          loss = tf.keras.losses.mae,\n",
        "                          metrics = [\"mse\"])\n",
        "\n",
        "#Fit the model\n",
        "model_insurance_2.fit(X_train, y_train, epochs = 100, verbose = 1)"
      ],
      "metadata": {
        "colab": {
          "base_uri": "https://localhost:8080/"
        },
        "id": "Si2wq2GIHjhW",
        "outputId": "da158714-973d-46dd-c368-98b77faf82f1"
      },
      "execution_count": 98,
      "outputs": [
        {
          "output_type": "stream",
          "name": "stdout",
          "text": [
            "Epoch 1/100\n",
            "34/34 [==============================] - 1s 2ms/step - loss: 13292.9072 - mse: 320917856.0000\n",
            "Epoch 2/100\n",
            "34/34 [==============================] - 0s 2ms/step - loss: 13110.4600 - mse: 315731776.0000\n",
            "Epoch 3/100\n",
            "34/34 [==============================] - 0s 2ms/step - loss: 12732.8984 - mse: 305305728.0000\n",
            "Epoch 4/100\n",
            "34/34 [==============================] - 0s 2ms/step - loss: 12005.9053 - mse: 286172736.0000\n",
            "Epoch 5/100\n",
            "34/34 [==============================] - 0s 2ms/step - loss: 10818.5576 - mse: 256830496.0000\n",
            "Epoch 6/100\n",
            "34/34 [==============================] - 0s 2ms/step - loss: 9345.2188 - mse: 219712816.0000\n",
            "Epoch 7/100\n",
            "34/34 [==============================] - 0s 2ms/step - loss: 8048.5513 - mse: 184167472.0000\n",
            "Epoch 8/100\n",
            "34/34 [==============================] - 0s 2ms/step - loss: 7493.0542 - mse: 161576016.0000\n",
            "Epoch 9/100\n",
            "34/34 [==============================] - 0s 2ms/step - loss: 7410.6802 - mse: 154880736.0000\n",
            "Epoch 10/100\n",
            "34/34 [==============================] - 0s 3ms/step - loss: 7390.3721 - mse: 153720480.0000\n",
            "Epoch 11/100\n",
            "34/34 [==============================] - 0s 2ms/step - loss: 7370.4121 - mse: 153532352.0000\n",
            "Epoch 12/100\n",
            "34/34 [==============================] - 0s 2ms/step - loss: 7347.4106 - mse: 154476384.0000\n",
            "Epoch 13/100\n",
            "34/34 [==============================] - 0s 2ms/step - loss: 7325.9692 - mse: 153679392.0000\n",
            "Epoch 14/100\n",
            "34/34 [==============================] - 0s 2ms/step - loss: 7302.5786 - mse: 153683104.0000\n",
            "Epoch 15/100\n",
            "34/34 [==============================] - 0s 2ms/step - loss: 7282.4590 - mse: 153641376.0000\n",
            "Epoch 16/100\n",
            "34/34 [==============================] - 0s 2ms/step - loss: 7259.1953 - mse: 154224992.0000\n",
            "Epoch 17/100\n",
            "34/34 [==============================] - 0s 2ms/step - loss: 7236.5708 - mse: 153448400.0000\n",
            "Epoch 18/100\n",
            "34/34 [==============================] - 0s 2ms/step - loss: 7211.8716 - mse: 153184416.0000\n",
            "Epoch 19/100\n",
            "34/34 [==============================] - 0s 2ms/step - loss: 7187.7500 - mse: 153687440.0000\n",
            "Epoch 20/100\n",
            "34/34 [==============================] - 0s 2ms/step - loss: 7162.0103 - mse: 153441168.0000\n",
            "Epoch 21/100\n",
            "34/34 [==============================] - 0s 2ms/step - loss: 7140.5562 - mse: 155094512.0000\n",
            "Epoch 22/100\n",
            "34/34 [==============================] - 0s 2ms/step - loss: 7111.0288 - mse: 152854720.0000\n",
            "Epoch 23/100\n",
            "34/34 [==============================] - 0s 2ms/step - loss: 7084.0283 - mse: 153300816.0000\n",
            "Epoch 24/100\n",
            "34/34 [==============================] - 0s 2ms/step - loss: 7055.7744 - mse: 154351568.0000\n",
            "Epoch 25/100\n",
            "34/34 [==============================] - 0s 3ms/step - loss: 7033.5381 - mse: 152645648.0000\n",
            "Epoch 26/100\n",
            "34/34 [==============================] - 0s 2ms/step - loss: 7000.2612 - mse: 155215072.0000\n",
            "Epoch 27/100\n",
            "34/34 [==============================] - 0s 2ms/step - loss: 6968.9380 - mse: 153946896.0000\n",
            "Epoch 28/100\n",
            "34/34 [==============================] - 0s 2ms/step - loss: 6937.4019 - mse: 154739696.0000\n",
            "Epoch 29/100\n",
            "34/34 [==============================] - 0s 2ms/step - loss: 6905.0054 - mse: 154921200.0000\n",
            "Epoch 30/100\n",
            "34/34 [==============================] - 0s 2ms/step - loss: 6876.7808 - mse: 154247520.0000\n",
            "Epoch 31/100\n",
            "34/34 [==============================] - 0s 2ms/step - loss: 6841.2051 - mse: 154797360.0000\n",
            "Epoch 32/100\n",
            "34/34 [==============================] - 0s 2ms/step - loss: 6808.6807 - mse: 154411232.0000\n",
            "Epoch 33/100\n",
            "34/34 [==============================] - 0s 2ms/step - loss: 6772.6685 - mse: 156568176.0000\n",
            "Epoch 34/100\n",
            "34/34 [==============================] - 0s 2ms/step - loss: 6736.8047 - mse: 155435488.0000\n",
            "Epoch 35/100\n",
            "34/34 [==============================] - 0s 2ms/step - loss: 6699.9033 - mse: 155809200.0000\n",
            "Epoch 36/100\n",
            "34/34 [==============================] - 0s 3ms/step - loss: 6663.0684 - mse: 156295024.0000\n",
            "Epoch 37/100\n",
            "34/34 [==============================] - 0s 2ms/step - loss: 6625.6582 - mse: 156634480.0000\n",
            "Epoch 38/100\n",
            "34/34 [==============================] - 0s 2ms/step - loss: 6594.1597 - mse: 156542784.0000\n",
            "Epoch 39/100\n",
            "34/34 [==============================] - 0s 2ms/step - loss: 6558.8970 - mse: 156746704.0000\n",
            "Epoch 40/100\n",
            "34/34 [==============================] - 0s 2ms/step - loss: 6532.9155 - mse: 156324336.0000\n",
            "Epoch 41/100\n",
            "34/34 [==============================] - 0s 2ms/step - loss: 6513.7036 - mse: 157059776.0000\n",
            "Epoch 42/100\n",
            "34/34 [==============================] - 0s 2ms/step - loss: 6496.4619 - mse: 156161536.0000\n",
            "Epoch 43/100\n",
            "34/34 [==============================] - 0s 3ms/step - loss: 6478.3350 - mse: 155770016.0000\n",
            "Epoch 44/100\n",
            "34/34 [==============================] - 0s 2ms/step - loss: 6461.1006 - mse: 155620944.0000\n",
            "Epoch 45/100\n",
            "34/34 [==============================] - 0s 2ms/step - loss: 6453.3813 - mse: 155791712.0000\n",
            "Epoch 46/100\n",
            "34/34 [==============================] - 0s 2ms/step - loss: 6435.0659 - mse: 154788448.0000\n",
            "Epoch 47/100\n",
            "34/34 [==============================] - 0s 2ms/step - loss: 6420.7573 - mse: 154405936.0000\n",
            "Epoch 48/100\n",
            "34/34 [==============================] - 0s 2ms/step - loss: 6407.3037 - mse: 154189328.0000\n",
            "Epoch 49/100\n",
            "34/34 [==============================] - 0s 2ms/step - loss: 6395.9160 - mse: 153694128.0000\n",
            "Epoch 50/100\n",
            "34/34 [==============================] - 0s 2ms/step - loss: 6381.4697 - mse: 153584848.0000\n",
            "Epoch 51/100\n",
            "34/34 [==============================] - 0s 2ms/step - loss: 6367.2339 - mse: 152525200.0000\n",
            "Epoch 52/100\n",
            "34/34 [==============================] - 0s 2ms/step - loss: 6353.9951 - mse: 152253568.0000\n",
            "Epoch 53/100\n",
            "34/34 [==============================] - 0s 2ms/step - loss: 6339.5078 - mse: 152383712.0000\n",
            "Epoch 54/100\n",
            "34/34 [==============================] - 0s 2ms/step - loss: 6324.1729 - mse: 151021200.0000\n",
            "Epoch 55/100\n",
            "34/34 [==============================] - 0s 2ms/step - loss: 6309.8516 - mse: 151297968.0000\n",
            "Epoch 56/100\n",
            "34/34 [==============================] - 0s 2ms/step - loss: 6295.6929 - mse: 150064384.0000\n",
            "Epoch 57/100\n",
            "34/34 [==============================] - 0s 2ms/step - loss: 6280.1992 - mse: 149696784.0000\n",
            "Epoch 58/100\n",
            "34/34 [==============================] - 0s 2ms/step - loss: 6266.0278 - mse: 149281936.0000\n",
            "Epoch 59/100\n",
            "34/34 [==============================] - 0s 2ms/step - loss: 6248.7266 - mse: 148761760.0000\n",
            "Epoch 60/100\n",
            "34/34 [==============================] - 0s 2ms/step - loss: 6236.6055 - mse: 148278688.0000\n",
            "Epoch 61/100\n",
            "34/34 [==============================] - 0s 2ms/step - loss: 6214.9536 - mse: 147108912.0000\n",
            "Epoch 62/100\n",
            "34/34 [==============================] - 0s 2ms/step - loss: 6201.9268 - mse: 147298880.0000\n",
            "Epoch 63/100\n",
            "34/34 [==============================] - 0s 2ms/step - loss: 6182.4683 - mse: 146404160.0000\n",
            "Epoch 64/100\n",
            "34/34 [==============================] - 0s 2ms/step - loss: 6163.0557 - mse: 145296224.0000\n",
            "Epoch 65/100\n",
            "34/34 [==============================] - 0s 2ms/step - loss: 6143.9727 - mse: 145155936.0000\n",
            "Epoch 66/100\n",
            "34/34 [==============================] - 0s 2ms/step - loss: 6124.1445 - mse: 144195472.0000\n",
            "Epoch 67/100\n",
            "34/34 [==============================] - 0s 2ms/step - loss: 6110.3076 - mse: 143556944.0000\n",
            "Epoch 68/100\n",
            "34/34 [==============================] - 0s 2ms/step - loss: 6084.6230 - mse: 142673120.0000\n",
            "Epoch 69/100\n",
            "34/34 [==============================] - 0s 2ms/step - loss: 6066.6304 - mse: 141623680.0000\n",
            "Epoch 70/100\n",
            "34/34 [==============================] - 0s 2ms/step - loss: 6044.0913 - mse: 141155824.0000\n",
            "Epoch 71/100\n",
            "34/34 [==============================] - 0s 2ms/step - loss: 6021.5889 - mse: 140148752.0000\n",
            "Epoch 72/100\n",
            "34/34 [==============================] - 0s 2ms/step - loss: 5997.9878 - mse: 138587888.0000\n",
            "Epoch 73/100\n",
            "34/34 [==============================] - 0s 3ms/step - loss: 5981.9717 - mse: 139072688.0000\n",
            "Epoch 74/100\n",
            "34/34 [==============================] - 0s 2ms/step - loss: 5949.1401 - mse: 137025296.0000\n",
            "Epoch 75/100\n",
            "34/34 [==============================] - 0s 2ms/step - loss: 5924.9087 - mse: 136390208.0000\n",
            "Epoch 76/100\n",
            "34/34 [==============================] - 0s 2ms/step - loss: 5904.1318 - mse: 135158048.0000\n",
            "Epoch 77/100\n",
            "34/34 [==============================] - 0s 3ms/step - loss: 5871.6382 - mse: 134419808.0000\n",
            "Epoch 78/100\n",
            "34/34 [==============================] - 0s 2ms/step - loss: 5843.0073 - mse: 133248880.0000\n",
            "Epoch 79/100\n",
            "34/34 [==============================] - 0s 2ms/step - loss: 5813.4873 - mse: 131809544.0000\n",
            "Epoch 80/100\n",
            "34/34 [==============================] - 0s 2ms/step - loss: 5780.8652 - mse: 130613096.0000\n",
            "Epoch 81/100\n",
            "34/34 [==============================] - 0s 2ms/step - loss: 5751.3979 - mse: 129392208.0000\n",
            "Epoch 82/100\n",
            "34/34 [==============================] - 0s 2ms/step - loss: 5717.0571 - mse: 127750512.0000\n",
            "Epoch 83/100\n",
            "34/34 [==============================] - 0s 4ms/step - loss: 5684.1353 - mse: 126300896.0000\n",
            "Epoch 84/100\n",
            "34/34 [==============================] - 0s 4ms/step - loss: 5645.3862 - mse: 124807936.0000\n",
            "Epoch 85/100\n",
            "34/34 [==============================] - 0s 4ms/step - loss: 5614.4561 - mse: 123052912.0000\n",
            "Epoch 86/100\n",
            "34/34 [==============================] - 0s 4ms/step - loss: 5571.5830 - mse: 122460608.0000\n",
            "Epoch 87/100\n",
            "34/34 [==============================] - 0s 4ms/step - loss: 5529.1572 - mse: 120993232.0000\n",
            "Epoch 88/100\n",
            "34/34 [==============================] - 0s 4ms/step - loss: 5485.5029 - mse: 118421648.0000\n",
            "Epoch 89/100\n",
            "34/34 [==============================] - 0s 4ms/step - loss: 5438.8618 - mse: 117482192.0000\n",
            "Epoch 90/100\n",
            "34/34 [==============================] - 0s 4ms/step - loss: 5388.6846 - mse: 115200744.0000\n",
            "Epoch 91/100\n",
            "34/34 [==============================] - 0s 4ms/step - loss: 5344.2446 - mse: 113606504.0000\n",
            "Epoch 92/100\n",
            "34/34 [==============================] - 0s 4ms/step - loss: 5288.3633 - mse: 111473552.0000\n",
            "Epoch 93/100\n",
            "34/34 [==============================] - 0s 4ms/step - loss: 5235.1797 - mse: 109466536.0000\n",
            "Epoch 94/100\n",
            "34/34 [==============================] - 0s 4ms/step - loss: 5179.2534 - mse: 107041376.0000\n",
            "Epoch 95/100\n",
            "34/34 [==============================] - 0s 4ms/step - loss: 5118.2988 - mse: 105466408.0000\n",
            "Epoch 96/100\n",
            "34/34 [==============================] - 0s 4ms/step - loss: 5064.1714 - mse: 102700456.0000\n",
            "Epoch 97/100\n",
            "34/34 [==============================] - 0s 3ms/step - loss: 4999.2280 - mse: 99982976.0000\n",
            "Epoch 98/100\n",
            "34/34 [==============================] - 0s 3ms/step - loss: 4928.0825 - mse: 98645488.0000\n",
            "Epoch 99/100\n",
            "34/34 [==============================] - 0s 3ms/step - loss: 4852.5391 - mse: 95770904.0000\n",
            "Epoch 100/100\n",
            "34/34 [==============================] - 0s 3ms/step - loss: 4791.7007 - mse: 92262264.0000\n"
          ]
        },
        {
          "output_type": "execute_result",
          "data": {
            "text/plain": [
              "<keras.src.callbacks.History at 0x7d6e4d3a0af0>"
            ]
          },
          "metadata": {},
          "execution_count": 98
        }
      ]
    },
    {
      "cell_type": "code",
      "source": [
        "model_insurance_2.evaluate(X_test, y_test)"
      ],
      "metadata": {
        "colab": {
          "base_uri": "https://localhost:8080/"
        },
        "id": "WooA19uNJ9tt",
        "outputId": "88f14e8d-66f5-43d9-d6c5-517294ae34fd"
      },
      "execution_count": 99,
      "outputs": [
        {
          "output_type": "stream",
          "name": "stdout",
          "text": [
            "9/9 [==============================] - 0s 3ms/step - loss: 4670.3350 - mse: 91598936.0000\n"
          ]
        },
        {
          "output_type": "execute_result",
          "data": {
            "text/plain": [
              "[4670.3349609375, 91598936.0]"
            ]
          },
          "metadata": {},
          "execution_count": 99
        }
      ]
    },
    {
      "cell_type": "code",
      "source": [
        "model_insurance_2.summary()"
      ],
      "metadata": {
        "colab": {
          "base_uri": "https://localhost:8080/"
        },
        "id": "zKfpwbWPKG_9",
        "outputId": "bc51747d-4994-4669-c483-6ad2968c9096"
      },
      "execution_count": 100,
      "outputs": [
        {
          "output_type": "stream",
          "name": "stdout",
          "text": [
            "Model: \"sequential_4\"\n",
            "_________________________________________________________________\n",
            " Layer (type)                Output Shape              Param #   \n",
            "=================================================================\n",
            " dense_11 (Dense)            (None, 100)               1200      \n",
            "                                                                 \n",
            " dense_12 (Dense)            (None, 10)                1010      \n",
            "                                                                 \n",
            " dense_13 (Dense)            (None, 1)                 11        \n",
            "                                                                 \n",
            "=================================================================\n",
            "Total params: 2221 (8.68 KB)\n",
            "Trainable params: 2221 (8.68 KB)\n",
            "Non-trainable params: 0 (0.00 Byte)\n",
            "_________________________________________________________________\n"
          ]
        }
      ]
    },
    {
      "cell_type": "code",
      "source": [
        "plot_model(model_insurance_2, show_shapes = True)"
      ],
      "metadata": {
        "colab": {
          "base_uri": "https://localhost:8080/",
          "height": 422
        },
        "id": "dmORJdecL03v",
        "outputId": "cc8f9961-9ce8-41fb-ebd3-60b5b1594cc4"
      },
      "execution_count": 101,
      "outputs": [
        {
          "output_type": "execute_result",
          "data": {
            "image/png": "[encoded data removed]",
            "text/plain": [
              "<IPython.core.display.Image object>"
            ]
          },
          "metadata": {},
          "execution_count": 101
        }
      ]
    },
    {
      "cell_type": "code",
      "source": [
        "#set radom_seed\n",
        "tf.random.set_seed(42)\n",
        "\n",
        "#Create the model\n",
        "model_insurance_3 = tf.keras.Sequential()\n",
        "model_insurance_3.add(tf.keras.layers.Dense(100))\n",
        "model_insurance_3.add(tf.keras.layers.Dense(10))\n",
        "model_insurance_3.add(tf.keras.layers.Dense(1))\n",
        "\n",
        "#Compile the model\n",
        "model_insurance_3.compile(optimizer = tf.keras.optimizers.Adam(),\n",
        "                          loss = tf.keras.losses.mae,\n",
        "                          metrics = [\"mae\"])\n",
        "\n",
        "#Fit the model\n",
        "history = model_insurance_3.fit(X_train, y_train, epochs = 200)"
      ],
      "metadata": {
        "colab": {
          "base_uri": "https://localhost:8080/"
        },
        "id": "lusfj_IYL7UJ",
        "outputId": "9372d13a-0e7b-4a1d-a4b1-37f32634fd0f"
      },
      "execution_count": 102,
      "outputs": [
        {
          "output_type": "stream",
          "name": "stdout",
          "text": [
            "Epoch 1/200\n",
            "34/34 [==============================] - 1s 2ms/step - loss: 13318.3135 - mae: 13318.3135\n",
            "Epoch 2/200\n",
            "34/34 [==============================] - 0s 2ms/step - loss: 13191.3574 - mae: 13191.3574\n",
            "Epoch 3/200\n",
            "34/34 [==============================] - 0s 3ms/step - loss: 12925.8291 - mae: 12925.8291\n",
            "Epoch 4/200\n",
            "34/34 [==============================] - 0s 2ms/step - loss: 12379.2090 - mae: 12379.2090\n",
            "Epoch 5/200\n",
            "34/34 [==============================] - 0s 2ms/step - loss: 11394.2510 - mae: 11394.2510\n",
            "Epoch 6/200\n",
            "34/34 [==============================] - 0s 2ms/step - loss: 9985.9170 - mae: 9985.9170\n",
            "Epoch 7/200\n",
            "34/34 [==============================] - 0s 2ms/step - loss: 8522.7344 - mae: 8522.7344\n",
            "Epoch 8/200\n",
            "34/34 [==============================] - 0s 3ms/step - loss: 7630.3760 - mae: 7630.3760\n",
            "Epoch 9/200\n",
            "34/34 [==============================] - 0s 2ms/step - loss: 7438.4004 - mae: 7438.4004\n",
            "Epoch 10/200\n",
            "34/34 [==============================] - 0s 2ms/step - loss: 7413.0947 - mae: 7413.0947\n",
            "Epoch 11/200\n",
            "34/34 [==============================] - 0s 2ms/step - loss: 7394.3706 - mae: 7394.3706\n",
            "Epoch 12/200\n",
            "34/34 [==============================] - 0s 3ms/step - loss: 7372.7778 - mae: 7372.7778\n",
            "Epoch 13/200\n",
            "34/34 [==============================] - 0s 2ms/step - loss: 7352.8364 - mae: 7352.8364\n",
            "Epoch 14/200\n",
            "34/34 [==============================] - 0s 2ms/step - loss: 7330.9766 - mae: 7330.9766\n",
            "Epoch 15/200\n",
            "34/34 [==============================] - 0s 3ms/step - loss: 7312.6118 - mae: 7312.6118\n",
            "Epoch 16/200\n",
            "34/34 [==============================] - 0s 2ms/step - loss: 7290.8892 - mae: 7290.8892\n",
            "Epoch 17/200\n",
            "34/34 [==============================] - 0s 2ms/step - loss: 7271.0054 - mae: 7271.0054\n",
            "Epoch 18/200\n",
            "34/34 [==============================] - 0s 2ms/step - loss: 7248.0464 - mae: 7248.0464\n",
            "Epoch 19/200\n",
            "34/34 [==============================] - 0s 2ms/step - loss: 7226.3301 - mae: 7226.3301\n",
            "Epoch 20/200\n",
            "34/34 [==============================] - 0s 2ms/step - loss: 7203.3604 - mae: 7203.3604\n",
            "Epoch 21/200\n",
            "34/34 [==============================] - 0s 2ms/step - loss: 7184.8467 - mae: 7184.8467\n",
            "Epoch 22/200\n",
            "34/34 [==============================] - 0s 2ms/step - loss: 7158.0894 - mae: 7158.0894\n",
            "Epoch 23/200\n",
            "34/34 [==============================] - 0s 2ms/step - loss: 7133.6187 - mae: 7133.6187\n",
            "Epoch 24/200\n",
            "34/34 [==============================] - 0s 2ms/step - loss: 7109.2832 - mae: 7109.2832\n",
            "Epoch 25/200\n",
            "34/34 [==============================] - 0s 2ms/step - loss: 7091.6475 - mae: 7091.6475\n",
            "Epoch 26/200\n",
            "34/34 [==============================] - 0s 2ms/step - loss: 7060.3076 - mae: 7060.3076\n",
            "Epoch 27/200\n",
            "34/34 [==============================] - 0s 3ms/step - loss: 7032.3770 - mae: 7032.3770\n",
            "Epoch 28/200\n",
            "34/34 [==============================] - 0s 2ms/step - loss: 7004.8311 - mae: 7004.8311\n",
            "Epoch 29/200\n",
            "34/34 [==============================] - 0s 2ms/step - loss: 6977.3569 - mae: 6977.3569\n",
            "Epoch 30/200\n",
            "34/34 [==============================] - 0s 2ms/step - loss: 6950.3960 - mae: 6950.3960\n",
            "Epoch 31/200\n",
            "34/34 [==============================] - 0s 2ms/step - loss: 6919.6685 - mae: 6919.6685\n",
            "Epoch 32/200\n",
            "34/34 [==============================] - 0s 2ms/step - loss: 6891.5034 - mae: 6891.5034\n",
            "Epoch 33/200\n",
            "34/34 [==============================] - 0s 2ms/step - loss: 6860.7349 - mae: 6860.7349\n",
            "Epoch 34/200\n",
            "34/34 [==============================] - 0s 2ms/step - loss: 6830.4414 - mae: 6830.4414\n",
            "Epoch 35/200\n",
            "34/34 [==============================] - 0s 2ms/step - loss: 6797.1191 - mae: 6797.1191\n",
            "Epoch 36/200\n",
            "34/34 [==============================] - 0s 2ms/step - loss: 6763.0073 - mae: 6763.0073\n",
            "Epoch 37/200\n",
            "34/34 [==============================] - 0s 2ms/step - loss: 6727.3438 - mae: 6727.3438\n",
            "Epoch 38/200\n",
            "34/34 [==============================] - 0s 2ms/step - loss: 6695.2939 - mae: 6695.2939\n",
            "Epoch 39/200\n",
            "34/34 [==============================] - 0s 2ms/step - loss: 6657.2407 - mae: 6657.2407\n",
            "Epoch 40/200\n",
            "34/34 [==============================] - 0s 2ms/step - loss: 6622.2559 - mae: 6622.2559\n",
            "Epoch 41/200\n",
            "34/34 [==============================] - 0s 2ms/step - loss: 6588.7881 - mae: 6588.7881\n",
            "Epoch 42/200\n",
            "34/34 [==============================] - 0s 2ms/step - loss: 6560.9995 - mae: 6560.9995\n",
            "Epoch 43/200\n",
            "34/34 [==============================] - 0s 2ms/step - loss: 6531.8389 - mae: 6531.8389\n",
            "Epoch 44/200\n",
            "34/34 [==============================] - 0s 2ms/step - loss: 6507.5376 - mae: 6507.5376\n",
            "Epoch 45/200\n",
            "34/34 [==============================] - 0s 2ms/step - loss: 6493.2915 - mae: 6493.2915\n",
            "Epoch 46/200\n",
            "34/34 [==============================] - 0s 2ms/step - loss: 6476.0483 - mae: 6476.0483\n",
            "Epoch 47/200\n",
            "34/34 [==============================] - 0s 2ms/step - loss: 6458.5415 - mae: 6458.5415\n",
            "Epoch 48/200\n",
            "34/34 [==============================] - 0s 2ms/step - loss: 6445.1538 - mae: 6445.1538\n",
            "Epoch 49/200\n",
            "34/34 [==============================] - 0s 2ms/step - loss: 6431.4150 - mae: 6431.4150\n",
            "Epoch 50/200\n",
            "34/34 [==============================] - 0s 2ms/step - loss: 6417.4600 - mae: 6417.4600\n",
            "Epoch 51/200\n",
            "34/34 [==============================] - 0s 2ms/step - loss: 6403.6338 - mae: 6403.6338\n",
            "Epoch 52/200\n",
            "34/34 [==============================] - 0s 2ms/step - loss: 6392.5103 - mae: 6392.5103\n",
            "Epoch 53/200\n",
            "34/34 [==============================] - 0s 3ms/step - loss: 6378.6724 - mae: 6378.6724\n",
            "Epoch 54/200\n",
            "34/34 [==============================] - 0s 2ms/step - loss: 6364.9043 - mae: 6364.9043\n",
            "Epoch 55/200\n",
            "34/34 [==============================] - 0s 2ms/step - loss: 6351.3623 - mae: 6351.3623\n",
            "Epoch 56/200\n",
            "34/34 [==============================] - 0s 2ms/step - loss: 6337.1484 - mae: 6337.1484\n",
            "Epoch 57/200\n",
            "34/34 [==============================] - 0s 2ms/step - loss: 6325.0303 - mae: 6325.0303\n",
            "Epoch 58/200\n",
            "34/34 [==============================] - 0s 2ms/step - loss: 6310.4150 - mae: 6310.4150\n",
            "Epoch 59/200\n",
            "34/34 [==============================] - 0s 2ms/step - loss: 6295.4219 - mae: 6295.4219\n",
            "Epoch 60/200\n",
            "34/34 [==============================] - 0s 2ms/step - loss: 6284.9292 - mae: 6284.9292\n",
            "Epoch 61/200\n",
            "34/34 [==============================] - 0s 2ms/step - loss: 6265.3154 - mae: 6265.3154\n",
            "Epoch 62/200\n",
            "34/34 [==============================] - 0s 2ms/step - loss: 6253.5044 - mae: 6253.5044\n",
            "Epoch 63/200\n",
            "34/34 [==============================] - 0s 2ms/step - loss: 6234.8569 - mae: 6234.8569\n",
            "Epoch 64/200\n",
            "34/34 [==============================] - 0s 2ms/step - loss: 6218.3330 - mae: 6218.3330\n",
            "Epoch 65/200\n",
            "34/34 [==============================] - 0s 2ms/step - loss: 6201.4521 - mae: 6201.4521\n",
            "Epoch 66/200\n",
            "34/34 [==============================] - 0s 3ms/step - loss: 6184.4546 - mae: 6184.4546\n",
            "Epoch 67/200\n",
            "34/34 [==============================] - 0s 2ms/step - loss: 6172.1582 - mae: 6172.1582\n",
            "Epoch 68/200\n",
            "34/34 [==============================] - 0s 2ms/step - loss: 6149.5933 - mae: 6149.5933\n",
            "Epoch 69/200\n",
            "34/34 [==============================] - 0s 2ms/step - loss: 6133.5938 - mae: 6133.5938\n",
            "Epoch 70/200\n",
            "34/34 [==============================] - 0s 2ms/step - loss: 6113.3877 - mae: 6113.3877\n",
            "Epoch 71/200\n",
            "34/34 [==============================] - 0s 2ms/step - loss: 6094.5830 - mae: 6094.5830\n",
            "Epoch 72/200\n",
            "34/34 [==============================] - 0s 2ms/step - loss: 6075.1953 - mae: 6075.1953\n",
            "Epoch 73/200\n",
            "34/34 [==============================] - 0s 2ms/step - loss: 6061.3833 - mae: 6061.3833\n",
            "Epoch 74/200\n",
            "34/34 [==============================] - 0s 2ms/step - loss: 6033.7227 - mae: 6033.7227\n",
            "Epoch 75/200\n",
            "34/34 [==============================] - 0s 2ms/step - loss: 6013.0728 - mae: 6013.0728\n",
            "Epoch 76/200\n",
            "34/34 [==============================] - 0s 2ms/step - loss: 5997.5396 - mae: 5997.5396\n",
            "Epoch 77/200\n",
            "34/34 [==============================] - 0s 2ms/step - loss: 5965.9565 - mae: 5965.9565\n",
            "Epoch 78/200\n",
            "34/34 [==============================] - 0s 2ms/step - loss: 5943.6973 - mae: 5943.6973\n",
            "Epoch 79/200\n",
            "34/34 [==============================] - 0s 2ms/step - loss: 5919.9072 - mae: 5919.9072\n",
            "Epoch 80/200\n",
            "34/34 [==============================] - 0s 2ms/step - loss: 5893.2139 - mae: 5893.2139\n",
            "Epoch 81/200\n",
            "34/34 [==============================] - 0s 2ms/step - loss: 5867.6387 - mae: 5867.6387\n",
            "Epoch 82/200\n",
            "34/34 [==============================] - 0s 2ms/step - loss: 5839.8359 - mae: 5839.8359\n",
            "Epoch 83/200\n",
            "34/34 [==============================] - 0s 2ms/step - loss: 5812.4082 - mae: 5812.4082\n",
            "Epoch 84/200\n",
            "34/34 [==============================] - 0s 3ms/step - loss: 5780.2622 - mae: 5780.2622\n",
            "Epoch 85/200\n",
            "34/34 [==============================] - 0s 2ms/step - loss: 5755.2534 - mae: 5755.2534\n",
            "Epoch 86/200\n",
            "34/34 [==============================] - 0s 2ms/step - loss: 5720.9004 - mae: 5720.9004\n",
            "Epoch 87/200\n",
            "34/34 [==============================] - 0s 2ms/step - loss: 5684.6675 - mae: 5684.6675\n",
            "Epoch 88/200\n",
            "34/34 [==============================] - 0s 2ms/step - loss: 5651.7363 - mae: 5651.7363\n",
            "Epoch 89/200\n",
            "34/34 [==============================] - 0s 2ms/step - loss: 5613.4746 - mae: 5613.4746\n",
            "Epoch 90/200\n",
            "34/34 [==============================] - 0s 2ms/step - loss: 5573.9028 - mae: 5573.9028\n",
            "Epoch 91/200\n",
            "34/34 [==============================] - 0s 3ms/step - loss: 5540.3042 - mae: 5540.3042\n",
            "Epoch 92/200\n",
            "34/34 [==============================] - 0s 2ms/step - loss: 5491.7251 - mae: 5491.7251\n",
            "Epoch 93/200\n",
            "34/34 [==============================] - 0s 2ms/step - loss: 5452.3813 - mae: 5452.3813\n",
            "Epoch 94/200\n",
            "34/34 [==============================] - 0s 2ms/step - loss: 5408.9873 - mae: 5408.9873\n",
            "Epoch 95/200\n",
            "34/34 [==============================] - 0s 2ms/step - loss: 5356.8203 - mae: 5356.8203\n",
            "Epoch 96/200\n",
            "34/34 [==============================] - 0s 2ms/step - loss: 5314.1777 - mae: 5314.1777\n",
            "Epoch 97/200\n",
            "34/34 [==============================] - 0s 2ms/step - loss: 5262.6069 - mae: 5262.6069\n",
            "Epoch 98/200\n",
            "34/34 [==============================] - 0s 2ms/step - loss: 5202.6445 - mae: 5202.6445\n",
            "Epoch 99/200\n",
            "34/34 [==============================] - 0s 2ms/step - loss: 5145.8960 - mae: 5145.8960\n",
            "Epoch 100/200\n",
            "34/34 [==============================] - 0s 2ms/step - loss: 5091.4155 - mae: 5091.4155\n",
            "Epoch 101/200\n",
            "34/34 [==============================] - 0s 2ms/step - loss: 5024.1621 - mae: 5024.1621\n",
            "Epoch 102/200\n",
            "34/34 [==============================] - 0s 2ms/step - loss: 4956.6802 - mae: 4956.6802\n",
            "Epoch 103/200\n",
            "34/34 [==============================] - 0s 2ms/step - loss: 4892.6304 - mae: 4892.6304\n",
            "Epoch 104/200\n",
            "34/34 [==============================] - 0s 3ms/step - loss: 4815.5562 - mae: 4815.5562\n",
            "Epoch 105/200\n",
            "34/34 [==============================] - 0s 2ms/step - loss: 4736.2700 - mae: 4736.2700\n",
            "Epoch 106/200\n",
            "34/34 [==============================] - 0s 2ms/step - loss: 4657.4844 - mae: 4657.4844\n",
            "Epoch 107/200\n",
            "34/34 [==============================] - 0s 2ms/step - loss: 4578.1294 - mae: 4578.1294\n",
            "Epoch 108/200\n",
            "34/34 [==============================] - 0s 2ms/step - loss: 4486.8198 - mae: 4486.8198\n",
            "Epoch 109/200\n",
            "34/34 [==============================] - 0s 2ms/step - loss: 4403.6597 - mae: 4403.6597\n",
            "Epoch 110/200\n",
            "34/34 [==============================] - 0s 2ms/step - loss: 4320.4482 - mae: 4320.4482\n",
            "Epoch 111/200\n",
            "34/34 [==============================] - 0s 2ms/step - loss: 4237.9229 - mae: 4237.9229\n",
            "Epoch 112/200\n",
            "34/34 [==============================] - 0s 2ms/step - loss: 4166.9990 - mae: 4166.9990\n",
            "Epoch 113/200\n",
            "34/34 [==============================] - 0s 2ms/step - loss: 4092.0901 - mae: 4092.0901\n",
            "Epoch 114/200\n",
            "34/34 [==============================] - 0s 2ms/step - loss: 4027.7322 - mae: 4027.7322\n",
            "Epoch 115/200\n",
            "34/34 [==============================] - 0s 2ms/step - loss: 3973.6145 - mae: 3973.6145\n",
            "Epoch 116/200\n",
            "34/34 [==============================] - 0s 3ms/step - loss: 3949.7153 - mae: 3949.7153\n",
            "Epoch 117/200\n",
            "34/34 [==============================] - 0s 2ms/step - loss: 3922.8789 - mae: 3922.8789\n",
            "Epoch 118/200\n",
            "34/34 [==============================] - 0s 4ms/step - loss: 3892.6489 - mae: 3892.6489\n",
            "Epoch 119/200\n",
            "34/34 [==============================] - 0s 3ms/step - loss: 3868.2095 - mae: 3868.2095\n",
            "Epoch 120/200\n",
            "34/34 [==============================] - 0s 4ms/step - loss: 3848.1895 - mae: 3848.1895\n",
            "Epoch 121/200\n",
            "34/34 [==============================] - 0s 3ms/step - loss: 3840.8196 - mae: 3840.8196\n",
            "Epoch 122/200\n",
            "34/34 [==============================] - 0s 3ms/step - loss: 3833.8425 - mae: 3833.8425\n",
            "Epoch 123/200\n",
            "34/34 [==============================] - 0s 4ms/step - loss: 3826.0693 - mae: 3826.0693\n",
            "Epoch 124/200\n",
            "34/34 [==============================] - 0s 4ms/step - loss: 3816.5215 - mae: 3816.5215\n",
            "Epoch 125/200\n",
            "34/34 [==============================] - 0s 3ms/step - loss: 3803.6504 - mae: 3803.6504\n",
            "Epoch 126/200\n",
            "34/34 [==============================] - 0s 3ms/step - loss: 3817.1235 - mae: 3817.1235\n",
            "Epoch 127/200\n",
            "34/34 [==============================] - 0s 3ms/step - loss: 3803.3931 - mae: 3803.3931\n",
            "Epoch 128/200\n",
            "34/34 [==============================] - 0s 4ms/step - loss: 3797.6057 - mae: 3797.6057\n",
            "Epoch 129/200\n",
            "34/34 [==============================] - 0s 4ms/step - loss: 3805.6487 - mae: 3805.6487\n",
            "Epoch 130/200\n",
            "34/34 [==============================] - 0s 4ms/step - loss: 3794.3713 - mae: 3794.3713\n",
            "Epoch 131/200\n",
            "34/34 [==============================] - 0s 4ms/step - loss: 3786.6001 - mae: 3786.6001\n",
            "Epoch 132/200\n",
            "34/34 [==============================] - 0s 3ms/step - loss: 3779.4497 - mae: 3779.4497\n",
            "Epoch 133/200\n",
            "34/34 [==============================] - 0s 3ms/step - loss: 3774.8950 - mae: 3774.8950\n",
            "Epoch 134/200\n",
            "34/34 [==============================] - 0s 3ms/step - loss: 3774.0249 - mae: 3774.0249\n",
            "Epoch 135/200\n",
            "34/34 [==============================] - 0s 4ms/step - loss: 3770.9712 - mae: 3770.9712\n",
            "Epoch 136/200\n",
            "34/34 [==============================] - 0s 3ms/step - loss: 3770.0862 - mae: 3770.0862\n",
            "Epoch 137/200\n",
            "34/34 [==============================] - 0s 3ms/step - loss: 3776.7681 - mae: 3776.7681\n",
            "Epoch 138/200\n",
            "34/34 [==============================] - 0s 3ms/step - loss: 3785.1829 - mae: 3785.1829\n",
            "Epoch 139/200\n",
            "34/34 [==============================] - 0s 3ms/step - loss: 3765.7737 - mae: 3765.7737\n",
            "Epoch 140/200\n",
            "34/34 [==============================] - 0s 3ms/step - loss: 3765.7756 - mae: 3765.7756\n",
            "Epoch 141/200\n",
            "34/34 [==============================] - 0s 4ms/step - loss: 3767.3052 - mae: 3767.3052\n",
            "Epoch 142/200\n",
            "34/34 [==============================] - 0s 3ms/step - loss: 3768.2229 - mae: 3768.2229\n",
            "Epoch 143/200\n",
            "34/34 [==============================] - 0s 3ms/step - loss: 3759.0195 - mae: 3759.0195\n",
            "Epoch 144/200\n",
            "34/34 [==============================] - 0s 3ms/step - loss: 3754.4702 - mae: 3754.4702\n",
            "Epoch 145/200\n",
            "34/34 [==============================] - 0s 3ms/step - loss: 3754.7371 - mae: 3754.7371\n",
            "Epoch 146/200\n",
            "34/34 [==============================] - 0s 3ms/step - loss: 3760.2180 - mae: 3760.2180\n",
            "Epoch 147/200\n",
            "34/34 [==============================] - 0s 4ms/step - loss: 3755.8430 - mae: 3755.8430\n",
            "Epoch 148/200\n",
            "34/34 [==============================] - 0s 4ms/step - loss: 3761.2273 - mae: 3761.2273\n",
            "Epoch 149/200\n",
            "34/34 [==============================] - 0s 3ms/step - loss: 3747.1921 - mae: 3747.1921\n",
            "Epoch 150/200\n",
            "34/34 [==============================] - 0s 2ms/step - loss: 3742.3491 - mae: 3742.3491\n",
            "Epoch 151/200\n",
            "34/34 [==============================] - 0s 2ms/step - loss: 3746.5444 - mae: 3746.5444\n",
            "Epoch 152/200\n",
            "34/34 [==============================] - 0s 2ms/step - loss: 3746.3474 - mae: 3746.3474\n",
            "Epoch 153/200\n",
            "34/34 [==============================] - 0s 2ms/step - loss: 3746.7957 - mae: 3746.7957\n",
            "Epoch 154/200\n",
            "34/34 [==============================] - 0s 2ms/step - loss: 3741.1428 - mae: 3741.1428\n",
            "Epoch 155/200\n",
            "34/34 [==============================] - 0s 2ms/step - loss: 3743.9856 - mae: 3743.9856\n",
            "Epoch 156/200\n",
            "34/34 [==============================] - 0s 2ms/step - loss: 3739.3735 - mae: 3739.3735\n",
            "Epoch 157/200\n",
            "34/34 [==============================] - 0s 2ms/step - loss: 3736.8552 - mae: 3736.8552\n",
            "Epoch 158/200\n",
            "34/34 [==============================] - 0s 2ms/step - loss: 3733.0835 - mae: 3733.0835\n",
            "Epoch 159/200\n",
            "34/34 [==============================] - 0s 2ms/step - loss: 3729.8618 - mae: 3729.8618\n",
            "Epoch 160/200\n",
            "34/34 [==============================] - 0s 2ms/step - loss: 3736.9658 - mae: 3736.9658\n",
            "Epoch 161/200\n",
            "34/34 [==============================] - 0s 2ms/step - loss: 3733.7227 - mae: 3733.7227\n",
            "Epoch 162/200\n",
            "34/34 [==============================] - 0s 2ms/step - loss: 3728.4485 - mae: 3728.4485\n",
            "Epoch 163/200\n",
            "34/34 [==============================] - 0s 3ms/step - loss: 3728.8113 - mae: 3728.8113\n",
            "Epoch 164/200\n",
            "34/34 [==============================] - 0s 2ms/step - loss: 3730.6570 - mae: 3730.6570\n",
            "Epoch 165/200\n",
            "34/34 [==============================] - 0s 2ms/step - loss: 3719.5190 - mae: 3719.5190\n",
            "Epoch 166/200\n",
            "34/34 [==============================] - 0s 2ms/step - loss: 3724.1665 - mae: 3724.1665\n",
            "Epoch 167/200\n",
            "34/34 [==============================] - 0s 2ms/step - loss: 3723.7170 - mae: 3723.7170\n",
            "Epoch 168/200\n",
            "34/34 [==============================] - 0s 2ms/step - loss: 3718.4602 - mae: 3718.4602\n",
            "Epoch 169/200\n",
            "34/34 [==============================] - 0s 2ms/step - loss: 3716.3296 - mae: 3716.3296\n",
            "Epoch 170/200\n",
            "34/34 [==============================] - 0s 2ms/step - loss: 3712.2444 - mae: 3712.2444\n",
            "Epoch 171/200\n",
            "34/34 [==============================] - 0s 2ms/step - loss: 3711.5227 - mae: 3711.5227\n",
            "Epoch 172/200\n",
            "34/34 [==============================] - 0s 2ms/step - loss: 3714.9058 - mae: 3714.9058\n",
            "Epoch 173/200\n",
            "34/34 [==============================] - 0s 2ms/step - loss: 3708.5540 - mae: 3708.5540\n",
            "Epoch 174/200\n",
            "34/34 [==============================] - 0s 2ms/step - loss: 3713.3633 - mae: 3713.3633\n",
            "Epoch 175/200\n",
            "34/34 [==============================] - 0s 3ms/step - loss: 3715.5469 - mae: 3715.5469\n",
            "Epoch 176/200\n",
            "34/34 [==============================] - 0s 2ms/step - loss: 3710.6060 - mae: 3710.6060\n",
            "Epoch 177/200\n",
            "34/34 [==============================] - 0s 2ms/step - loss: 3702.9839 - mae: 3702.9839\n",
            "Epoch 178/200\n",
            "34/34 [==============================] - 0s 2ms/step - loss: 3700.4736 - mae: 3700.4736\n",
            "Epoch 179/200\n",
            "34/34 [==============================] - 0s 2ms/step - loss: 3708.9731 - mae: 3708.9731\n",
            "Epoch 180/200\n",
            "34/34 [==============================] - 0s 2ms/step - loss: 3713.6594 - mae: 3713.6594\n",
            "Epoch 181/200\n",
            "34/34 [==============================] - 0s 2ms/step - loss: 3700.8074 - mae: 3700.8074\n",
            "Epoch 182/200\n",
            "34/34 [==============================] - 0s 2ms/step - loss: 3698.1440 - mae: 3698.1440\n",
            "Epoch 183/200\n",
            "34/34 [==============================] - 0s 2ms/step - loss: 3696.2761 - mae: 3696.2761\n",
            "Epoch 184/200\n",
            "34/34 [==============================] - 0s 2ms/step - loss: 3702.5200 - mae: 3702.5200\n",
            "Epoch 185/200\n",
            "34/34 [==============================] - 0s 2ms/step - loss: 3697.6238 - mae: 3697.6238\n",
            "Epoch 186/200\n",
            "34/34 [==============================] - 0s 2ms/step - loss: 3701.6921 - mae: 3701.6921\n",
            "Epoch 187/200\n",
            "34/34 [==============================] - 0s 2ms/step - loss: 3693.8130 - mae: 3693.8130\n",
            "Epoch 188/200\n",
            "34/34 [==============================] - 0s 3ms/step - loss: 3699.4219 - mae: 3699.4219\n",
            "Epoch 189/200\n",
            "34/34 [==============================] - 0s 2ms/step - loss: 3688.9890 - mae: 3688.9890\n",
            "Epoch 190/200\n",
            "34/34 [==============================] - 0s 2ms/step - loss: 3687.2126 - mae: 3687.2126\n",
            "Epoch 191/200\n",
            "34/34 [==============================] - 0s 2ms/step - loss: 3704.6826 - mae: 3704.6826\n",
            "Epoch 192/200\n",
            "34/34 [==============================] - 0s 2ms/step - loss: 3690.0701 - mae: 3690.0701\n",
            "Epoch 193/200\n",
            "34/34 [==============================] - 0s 2ms/step - loss: 3680.2915 - mae: 3680.2915\n",
            "Epoch 194/200\n",
            "34/34 [==============================] - 0s 2ms/step - loss: 3680.7629 - mae: 3680.7629\n",
            "Epoch 195/200\n",
            "34/34 [==============================] - 0s 2ms/step - loss: 3678.4480 - mae: 3678.4480\n",
            "Epoch 196/200\n",
            "34/34 [==============================] - 0s 2ms/step - loss: 3686.3604 - mae: 3686.3604\n",
            "Epoch 197/200\n",
            "34/34 [==============================] - 0s 2ms/step - loss: 3671.2302 - mae: 3671.2302\n",
            "Epoch 198/200\n",
            "34/34 [==============================] - 0s 2ms/step - loss: 3677.1562 - mae: 3677.1562\n",
            "Epoch 199/200\n",
            "34/34 [==============================] - 0s 2ms/step - loss: 3684.9353 - mae: 3684.9353\n",
            "Epoch 200/200\n",
            "34/34 [==============================] - 0s 3ms/step - loss: 3671.1870 - mae: 3671.1870\n"
          ]
        }
      ]
    },
    {
      "cell_type": "code",
      "source": [
        "model_insurance_3.evaluate(X_test, y_test)"
      ],
      "metadata": {
        "colab": {
          "base_uri": "https://localhost:8080/"
        },
        "id": "A3nHAAEiNii5",
        "outputId": "d6bf9acf-39e5-44bb-baea-1b41533d0a6f"
      },
      "execution_count": 103,
      "outputs": [
        {
          "output_type": "stream",
          "name": "stdout",
          "text": [
            "9/9 [==============================] - 0s 2ms/step - loss: 3499.6870 - mae: 3499.6870\n"
          ]
        },
        {
          "output_type": "execute_result",
          "data": {
            "text/plain": [
              "[3499.68701171875, 3499.68701171875]"
            ]
          },
          "metadata": {},
          "execution_count": 103
        }
      ]
    },
    {
      "cell_type": "code",
      "source": [
        "model_insurance_3.summary()"
      ],
      "metadata": {
        "colab": {
          "base_uri": "https://localhost:8080/"
        },
        "id": "BzUsamRGN1XG",
        "outputId": "6850f14b-7863-4094-ba04-0dd6c3f03f31"
      },
      "execution_count": 104,
      "outputs": [
        {
          "output_type": "stream",
          "name": "stdout",
          "text": [
            "Model: \"sequential_5\"\n",
            "_________________________________________________________________\n",
            " Layer (type)                Output Shape              Param #   \n",
            "=================================================================\n",
            " dense_14 (Dense)            (None, 100)               1200      \n",
            "                                                                 \n",
            " dense_15 (Dense)            (None, 10)                1010      \n",
            "                                                                 \n",
            " dense_16 (Dense)            (None, 1)                 11        \n",
            "                                                                 \n",
            "=================================================================\n",
            "Total params: 2221 (8.68 KB)\n",
            "Trainable params: 2221 (8.68 KB)\n",
            "Non-trainable params: 0 (0.00 Byte)\n",
            "_________________________________________________________________\n"
          ]
        }
      ]
    },
    {
      "cell_type": "code",
      "source": [
        "plot_model(model_insurance_3, show_shapes = True)"
      ],
      "metadata": {
        "colab": {
          "base_uri": "https://localhost:8080/",
          "height": 422
        },
        "id": "I80xVvwNN5LT",
        "outputId": "7fbedb51-105f-4871-87e0-645aacbc4fbf"
      },
      "execution_count": 105,
      "outputs": [
        {
          "output_type": "execute_result",
          "data": {
            "image/png": "[encoded data removed]",
            "text/plain": [
              "<IPython.core.display.Image object>"
            ]
          },
          "metadata": {},
          "execution_count": 105
        }
      ]
    },
    {
      "cell_type": "code",
      "source": [
        "#Plot history (also known as a loss curve or training curve)\n",
        "\n",
        "pd.DataFrame(history.history).plot()\n",
        "plt.ylabel(\"loss\")\n",
        "plt.xlabel(\"epochs\")"
      ],
      "metadata": {
        "colab": {
          "base_uri": "https://localhost:8080/",
          "height": 466
        },
        "id": "t1ct21uQN_zf",
        "outputId": "984018a9-dd27-43f9-85a5-405a7baf6097"
      },
      "execution_count": 106,
      "outputs": [
        {
          "output_type": "execute_result",
          "data": {
            "text/plain": [
              "Text(0.5, 0, 'epochs')"
            ]
          },
          "metadata": {},
          "execution_count": 106
        },
        {
          "output_type": "display_data",
          "data": {
            "text/plain": [
              "<Figure size 640x480 with 1 Axes>"
            ],
            "image/png": "[encoded data removed]"
          },
          "metadata": {}
        }
      ]
    },
    {
      "cell_type": "markdown",
      "source": [
        "##Preprocessing data (Normalization and Standardization)"
      ],
      "metadata": {
        "id": "v4qR6Ho7Oph8"
      }
    },
    {
      "cell_type": "code",
      "source": [
        "import pandas as pd\n",
        "import matplotlib.pyplot as plt\n",
        "import tensorflow as tf"
      ],
      "metadata": {
        "id": "GG2Ua4-MVdEu"
      },
      "execution_count": 107,
      "outputs": []
    },
    {
      "cell_type": "code",
      "source": [
        "insurance = pd.read_csv(\"https://raw.githubusercontent.com/stedy/Machine-Learning-with-R-datasets/master/insurance.csv\")"
      ],
      "metadata": {
        "id": "LPFTAYxUZD1m"
      },
      "execution_count": 108,
      "outputs": []
    },
    {
      "cell_type": "code",
      "source": [
        "insurance"
      ],
      "metadata": {
        "colab": {
          "base_uri": "https://localhost:8080/",
          "height": 423
        },
        "id": "SaCMRMPlZTPi",
        "outputId": "81f1578a-36f4-4501-946e-52df0407cd74"
      },
      "execution_count": 109,
      "outputs": [
        {
          "output_type": "execute_result",
          "data": {
            "text/plain": [
              "      age     sex     bmi  children smoker     region      charges\n",
              "0      19  female  27.900         0    yes  southwest  16884.92400\n",
              "1      18    male  33.770         1     no  southeast   1725.55230\n",
              "2      28    male  33.000         3     no  southeast   4449.46200\n",
              "3      33    male  22.705         0     no  northwest  21984.47061\n",
              "4      32    male  28.880         0     no  northwest   3866.85520\n",
              "...   ...     ...     ...       ...    ...        ...          ...\n",
              "1333   50    male  30.970         3     no  northwest  10600.54830\n",
              "1334   18  female  31.920         0     no  northeast   2205.98080\n",
              "1335   18  female  36.850         0     no  southeast   1629.83350\n",
              "1336   21  female  25.800         0     no  southwest   2007.94500\n",
              "1337   61  female  29.070         0    yes  northwest  29141.36030\n",
              "\n",
              "[1338 rows x 7 columns]"
            ],
            "text/html": [
              "\n",
              "  <div id=\"df-62ed7007-e262-448b-90ba-ad14d21c716f\" class=\"colab-df-container\">\n",
              "    <div>\n",
              "<style scoped>\n",
              "    .dataframe tbody tr th:only-of-type {\n",
              "        vertical-align: middle;\n",
              "    }\n",
              "\n",
              "    .dataframe tbody tr th {\n",
              "        vertical-align: top;\n",
              "    }\n",
              "\n",
              "    .dataframe thead th {\n",
              "        text-align: right;\n",
              "    }\n",
              "</style>\n",
              "<table border=\"1\" class=\"dataframe\">\n",
              "  <thead>\n",
              "    <tr style=\"text-align: right;\">\n",
              "      <th></th>\n",
              "      <th>age</th>\n",
              "      <th>sex</th>\n",
              "      <th>bmi</th>\n",
              "      <th>children</th>\n",
              "      <th>smoker</th>\n",
              "      <th>region</th>\n",
              "      <th>charges</th>\n",
              "    </tr>\n",
              "  </thead>\n",
              "  <tbody>\n",
              "    <tr>\n",
              "      <th>0</th>\n",
              "      <td>19</td>\n",
              "      <td>female</td>\n",
              "      <td>27.900</td>\n",
              "      <td>0</td>\n",
              "      <td>yes</td>\n",
              "      <td>southwest</td>\n",
              "      <td>16884.92400</td>\n",
              "    </tr>\n",
              "    <tr>\n",
              "      <th>1</th>\n",
              "      <td>18</td>\n",
              "      <td>male</td>\n",
              "      <td>33.770</td>\n",
              "      <td>1</td>\n",
              "      <td>no</td>\n",
              "      <td>southeast</td>\n",
              "      <td>1725.55230</td>\n",
              "    </tr>\n",
              "    <tr>\n",
              "      <th>2</th>\n",
              "      <td>28</td>\n",
              "      <td>male</td>\n",
              "      <td>33.000</td>\n",
              "      <td>3</td>\n",
              "      <td>no</td>\n",
              "      <td>southeast</td>\n",
              "      <td>4449.46200</td>\n",
              "    </tr>\n",
              "    <tr>\n",
              "      <th>3</th>\n",
              "      <td>33</td>\n",
              "      <td>male</td>\n",
              "      <td>22.705</td>\n",
              "      <td>0</td>\n",
              "      <td>no</td>\n",
              "      <td>northwest</td>\n",
              "      <td>21984.47061</td>\n",
              "    </tr>\n",
              "    <tr>\n",
              "      <th>4</th>\n",
              "      <td>32</td>\n",
              "      <td>male</td>\n",
              "      <td>28.880</td>\n",
              "      <td>0</td>\n",
              "      <td>no</td>\n",
              "      <td>northwest</td>\n",
              "      <td>3866.85520</td>\n",
              "    </tr>\n",
              "    <tr>\n",
              "      <th>...</th>\n",
              "      <td>...</td>\n",
              "      <td>...</td>\n",
              "      <td>...</td>\n",
              "      <td>...</td>\n",
              "      <td>...</td>\n",
              "      <td>...</td>\n",
              "      <td>...</td>\n",
              "    </tr>\n",
              "    <tr>\n",
              "      <th>1333</th>\n",
              "      <td>50</td>\n",
              "      <td>male</td>\n",
              "      <td>30.970</td>\n",
              "      <td>3</td>\n",
              "      <td>no</td>\n",
              "      <td>northwest</td>\n",
              "      <td>10600.54830</td>\n",
              "    </tr>\n",
              "    <tr>\n",
              "      <th>1334</th>\n",
              "      <td>18</td>\n",
              "      <td>female</td>\n",
              "      <td>31.920</td>\n",
              "      <td>0</td>\n",
              "      <td>no</td>\n",
              "      <td>northeast</td>\n",
              "      <td>2205.98080</td>\n",
              "    </tr>\n",
              "    <tr>\n",
              "      <th>1335</th>\n",
              "      <td>18</td>\n",
              "      <td>female</td>\n",
              "      <td>36.850</td>\n",
              "      <td>0</td>\n",
              "      <td>no</td>\n",
              "      <td>southeast</td>\n",
              "      <td>1629.83350</td>\n",
              "    </tr>\n",
              "    <tr>\n",
              "      <th>1336</th>\n",
              "      <td>21</td>\n",
              "      <td>female</td>\n",
              "      <td>25.800</td>\n",
              "      <td>0</td>\n",
              "      <td>no</td>\n",
              "      <td>southwest</td>\n",
              "      <td>2007.94500</td>\n",
              "    </tr>\n",
              "    <tr>\n",
              "      <th>1337</th>\n",
              "      <td>61</td>\n",
              "      <td>female</td>\n",
              "      <td>29.070</td>\n",
              "      <td>0</td>\n",
              "      <td>yes</td>\n",
              "      <td>northwest</td>\n",
              "      <td>29141.36030</td>\n",
              "    </tr>\n",
              "  </tbody>\n",
              "</table>\n",
              "<p>1338 rows × 7 columns</p>\n",
              "</div>\n",
              "    <div class=\"colab-df-buttons\">\n",
              "\n",
              "  <div class=\"colab-df-container\">\n",
              "    <button class=\"colab-df-convert\" onclick=\"convertToInteractive('df-62ed7007-e262-448b-90ba-ad14d21c716f')\"\n",
              "            title=\"Convert this dataframe to an interactive table.\"\n",
              "            style=\"display:none;\">\n",
              "\n",
              "  <svg xmlns=\"http://www.w3.org/2000/svg\" height=\"24px\" viewBox=\"0 -960 960 960\">\n",
              "    <path d=\"M120-120v-720h720v720H120Zm60-500h600v-160H180v160Zm220 220h160v-160H400v160Zm0 220h160v-160H400v160ZM180-400h160v-160H180v160Zm440 0h160v-160H620v160ZM180-180h160v-160H180v160Zm440 0h160v-160H620v160Z\"/>\n",
              "  </svg>\n",
              "    </button>\n",
              "\n",
              "  <style>\n",
              "    .colab-df-container {\n",
              "      display:flex;\n",
              "      gap: 12px;\n",
              "    }\n",
              "\n",
              "    .colab-df-convert {\n",
              "      background-color: #E8F0FE;\n",
              "      border: none;\n",
              "      border-radius: 50%;\n",
              "      cursor: pointer;\n",
              "      display: none;\n",
              "      fill: #1967D2;\n",
              "      height: 32px;\n",
              "      padding: 0 0 0 0;\n",
              "      width: 32px;\n",
              "    }\n",
              "\n",
              "    .colab-df-convert:hover {\n",
              "      background-color: #E2EBFA;\n",
              "      box-shadow: 0px 1px 2px rgba(60, 64, 67, 0.3), 0px 1px 3px 1px rgba(60, 64, 67, 0.15);\n",
              "      fill: #174EA6;\n",
              "    }\n",
              "\n",
              "    .colab-df-buttons div {\n",
              "      margin-bottom: 4px;\n",
              "    }\n",
              "\n",
              "    [theme=dark] .colab-df-convert {\n",
              "      background-color: #3B4455;\n",
              "      fill: #D2E3FC;\n",
              "    }\n",
              "\n",
              "    [theme=dark] .colab-df-convert:hover {\n",
              "      background-color: #434B5C;\n",
              "      box-shadow: 0px 1px 3px 1px rgba(0, 0, 0, 0.15);\n",
              "      filter: drop-shadow(0px 1px 2px rgba(0, 0, 0, 0.3));\n",
              "      fill: #FFFFFF;\n",
              "    }\n",
              "  </style>\n",
              "\n",
              "    <script>\n",
              "      const buttonEl =\n",
              "        document.querySelector('#df-62ed7007-e262-448b-90ba-ad14d21c716f button.colab-df-convert');\n",
              "      buttonEl.style.display =\n",
              "        google.colab.kernel.accessAllowed ? 'block' : 'none';\n",
              "\n",
              "      async function convertToInteractive(key) {\n",
              "        const element = document.querySelector('#df-62ed7007-e262-448b-90ba-ad14d21c716f');\n",
              "        const dataTable =\n",
              "          await google.colab.kernel.invokeFunction('convertToInteractive',\n",
              "                                                    [key], {});\n",
              "        if (!dataTable) return;\n",
              "\n",
              "        const docLinkHtml = 'Like what you see? Visit the ' +\n",
              "          '<a target=\"_blank\" href=https://colab.research.google.com/notebooks/data_table.ipynb>data table notebook</a>'\n",
              "          + ' to learn more about interactive tables.';\n",
              "        element.innerHTML = '';\n",
              "        dataTable['output_type'] = 'display_data';\n",
              "        await google.colab.output.renderOutput(dataTable, element);\n",
              "        const docLink = document.createElement('div');\n",
              "        docLink.innerHTML = docLinkHtml;\n",
              "        element.appendChild(docLink);\n",
              "      }\n",
              "    </script>\n",
              "  </div>\n",
              "\n",
              "\n",
              "<div id=\"df-a9e1ca99-d4cd-431e-8acf-dc1065be766b\">\n",
              "  <button class=\"colab-df-quickchart\" onclick=\"quickchart('df-a9e1ca99-d4cd-431e-8acf-dc1065be766b')\"\n",
              "            title=\"Suggest charts\"\n",
              "            style=\"display:none;\">\n",
              "\n",
              "<svg xmlns=\"http://www.w3.org/2000/svg\" height=\"24px\"viewBox=\"0 0 24 24\"\n",
              "     width=\"24px\">\n",
              "    <g>\n",
              "        <path d=\"M19 3H5c-1.1 0-2 .9-2 2v14c0 1.1.9 2 2 2h14c1.1 0 2-.9 2-2V5c0-1.1-.9-2-2-2zM9 17H7v-7h2v7zm4 0h-2V7h2v10zm4 0h-2v-4h2v4z\"/>\n",
              "    </g>\n",
              "</svg>\n",
              "  </button>\n",
              "\n",
              "<style>\n",
              "  .colab-df-quickchart {\n",
              "      --bg-color: #E8F0FE;\n",
              "      --fill-color: #1967D2;\n",
              "      --hover-bg-color: #E2EBFA;\n",
              "      --hover-fill-color: #174EA6;\n",
              "      --disabled-fill-color: #AAA;\n",
              "      --disabled-bg-color: #DDD;\n",
              "  }\n",
              "\n",
              "  [theme=dark] .colab-df-quickchart {\n",
              "      --bg-color: #3B4455;\n",
              "      --fill-color: #D2E3FC;\n",
              "      --hover-bg-color: #434B5C;\n",
              "      --hover-fill-color: #FFFFFF;\n",
              "      --disabled-bg-color: #3B4455;\n",
              "      --disabled-fill-color: #666;\n",
              "  }\n",
              "\n",
              "  .colab-df-quickchart {\n",
              "    background-color: var(--bg-color);\n",
              "    border: none;\n",
              "    border-radius: 50%;\n",
              "    cursor: pointer;\n",
              "    display: none;\n",
              "    fill: var(--fill-color);\n",
              "    height: 32px;\n",
              "    padding: 0;\n",
              "    width: 32px;\n",
              "  }\n",
              "\n",
              "  .colab-df-quickchart:hover {\n",
              "    background-color: var(--hover-bg-color);\n",
              "    box-shadow: 0 1px 2px rgba(60, 64, 67, 0.3), 0 1px 3px 1px rgba(60, 64, 67, 0.15);\n",
              "    fill: var(--button-hover-fill-color);\n",
              "  }\n",
              "\n",
              "  .colab-df-quickchart-complete:disabled,\n",
              "  .colab-df-quickchart-complete:disabled:hover {\n",
              "    background-color: var(--disabled-bg-color);\n",
              "    fill: var(--disabled-fill-color);\n",
              "    box-shadow: none;\n",
              "  }\n",
              "\n",
              "  .colab-df-spinner {\n",
              "    border: 2px solid var(--fill-color);\n",
              "    border-color: transparent;\n",
              "    border-bottom-color: var(--fill-color);\n",
              "    animation:\n",
              "      spin 1s steps(1) infinite;\n",
              "  }\n",
              "\n",
              "  @keyframes spin {\n",
              "    0% {\n",
              "      border-color: transparent;\n",
              "      border-bottom-color: var(--fill-color);\n",
              "      border-left-color: var(--fill-color);\n",
              "    }\n",
              "    20% {\n",
              "      border-color: transparent;\n",
              "      border-left-color: var(--fill-color);\n",
              "      border-top-color: var(--fill-color);\n",
              "    }\n",
              "    30% {\n",
              "      border-color: transparent;\n",
              "      border-left-color: var(--fill-color);\n",
              "      border-top-color: var(--fill-color);\n",
              "      border-right-color: var(--fill-color);\n",
              "    }\n",
              "    40% {\n",
              "      border-color: transparent;\n",
              "      border-right-color: var(--fill-color);\n",
              "      border-top-color: var(--fill-color);\n",
              "    }\n",
              "    60% {\n",
              "      border-color: transparent;\n",
              "      border-right-color: var(--fill-color);\n",
              "    }\n",
              "    80% {\n",
              "      border-color: transparent;\n",
              "      border-right-color: var(--fill-color);\n",
              "      border-bottom-color: var(--fill-color);\n",
              "    }\n",
              "    90% {\n",
              "      border-color: transparent;\n",
              "      border-bottom-color: var(--fill-color);\n",
              "    }\n",
              "  }\n",
              "</style>\n",
              "\n",
              "  <script>\n",
              "    async function quickchart(key) {\n",
              "      const quickchartButtonEl =\n",
              "        document.querySelector('#' + key + ' button');\n",
              "      quickchartButtonEl.disabled = true;  // To prevent multiple clicks.\n",
              "      quickchartButtonEl.classList.add('colab-df-spinner');\n",
              "      try {\n",
              "        const charts = await google.colab.kernel.invokeFunction(\n",
              "            'suggestCharts', [key], {});\n",
              "      } catch (error) {\n",
              "        console.error('Error during call to suggestCharts:', error);\n",
              "      }\n",
              "      quickchartButtonEl.classList.remove('colab-df-spinner');\n",
              "      quickchartButtonEl.classList.add('colab-df-quickchart-complete');\n",
              "    }\n",
              "    (() => {\n",
              "      let quickchartButtonEl =\n",
              "        document.querySelector('#df-a9e1ca99-d4cd-431e-8acf-dc1065be766b button');\n",
              "      quickchartButtonEl.style.display =\n",
              "        google.colab.kernel.accessAllowed ? 'block' : 'none';\n",
              "    })();\n",
              "  </script>\n",
              "</div>\n",
              "    </div>\n",
              "  </div>\n"
            ],
            "application/vnd.google.colaboratory.intrinsic+json": {
              "type": "dataframe",
              "variable_name": "insurance",
              "summary": "{\n  \"name\": \"insurance\",\n  \"rows\": 1338,\n  \"fields\": [\n    {\n      \"column\": \"age\",\n      \"properties\": {\n        \"dtype\": \"number\",\n        \"std\": 14,\n        \"min\": 18,\n        \"max\": 64,\n        \"num_unique_values\": 47,\n        \"samples\": [\n          21,\n          45,\n          36\n        ],\n        \"semantic_type\": \"\",\n        \"description\": \"\"\n      }\n    },\n    {\n      \"column\": \"sex\",\n      \"properties\": {\n        \"dtype\": \"category\",\n        \"num_unique_values\": 2,\n        \"samples\": [\n          \"male\",\n          \"female\"\n        ],\n        \"semantic_type\": \"\",\n        \"description\": \"\"\n      }\n    },\n    {\n      \"column\": \"bmi\",\n      \"properties\": {\n        \"dtype\": \"number\",\n        \"std\": 6.098186911679014,\n        \"min\": 15.96,\n        \"max\": 53.13,\n        \"num_unique_values\": 548,\n        \"samples\": [\n          23.18,\n          26.885\n        ],\n        \"semantic_type\": \"\",\n        \"description\": \"\"\n      }\n    },\n    {\n      \"column\": \"children\",\n      \"properties\": {\n        \"dtype\": \"number\",\n        \"std\": 1,\n        \"min\": 0,\n        \"max\": 5,\n        \"num_unique_values\": 6,\n        \"samples\": [\n          0,\n          1\n        ],\n        \"semantic_type\": \"\",\n        \"description\": \"\"\n      }\n    },\n    {\n      \"column\": \"smoker\",\n      \"properties\": {\n        \"dtype\": \"category\",\n        \"num_unique_values\": 2,\n        \"samples\": [\n          \"no\",\n          \"yes\"\n        ],\n        \"semantic_type\": \"\",\n        \"description\": \"\"\n      }\n    },\n    {\n      \"column\": \"region\",\n      \"properties\": {\n        \"dtype\": \"category\",\n        \"num_unique_values\": 4,\n        \"samples\": [\n          \"southeast\",\n          \"northeast\"\n        ],\n        \"semantic_type\": \"\",\n        \"description\": \"\"\n      }\n    },\n    {\n      \"column\": \"charges\",\n      \"properties\": {\n        \"dtype\": \"number\",\n        \"std\": 12110.011236694001,\n        \"min\": 1121.8739,\n        \"max\": 63770.42801,\n        \"num_unique_values\": 1337,\n        \"samples\": [\n          8688.85885,\n          5708.867\n        ],\n        \"semantic_type\": \"\",\n        \"description\": \"\"\n      }\n    }\n  ]\n}"
            }
          },
          "metadata": {},
          "execution_count": 109
        }
      ]
    },
    {
      "cell_type": "code",
      "source": [
        "from sklearn.compose import make_column_transformer\n",
        "from sklearn.preprocessing import MinMaxScaler, OneHotEncoder\n",
        "from sklearn.model_selection import train_test_split"
      ],
      "metadata": {
        "id": "G3KyaLyBZXNw"
      },
      "execution_count": 110,
      "outputs": []
    },
    {
      "cell_type": "code",
      "source": [
        "#Create a column transformer\n",
        "\n",
        "ct = make_column_transformer(\n",
        "    (MinMaxScaler(), [\"age\",\"bmi\",\"children\"]),\n",
        "    (OneHotEncoder(handle_unknown = \"ignore\"), [\"sex\",\"smoker\",\"region\"])\n",
        ")\n",
        "\n",
        "#Create X and y\n",
        "X = insurance.drop(\"charges\", axis = 1)\n",
        "y = insurance[\"charges\"]\n",
        "\n",
        "X_train, X_test, y_train, y_test = train_test_split(X,y, test_size = 0.2, random_state = 42)\n",
        "\n",
        "#Fit the column transformer to our training data\n",
        "ct.fit(X_train)\n",
        "\n",
        "#Transform training and test data with Normalization(MinMaxScaler) and OneHotEncoder\n",
        "X_train_normal = ct.transform(X_train)\n",
        "X_test_normal = ct.transform(X_test)"
      ],
      "metadata": {
        "id": "fjV8uuIeartr"
      },
      "execution_count": 111,
      "outputs": []
    },
    {
      "cell_type": "code",
      "source": [
        "X_train.loc[0]"
      ],
      "metadata": {
        "colab": {
          "base_uri": "https://localhost:8080/"
        },
        "id": "sBqpijOXdjgG",
        "outputId": "379af061-a199-4e51-c5d6-f67f40d2af11"
      },
      "execution_count": 112,
      "outputs": [
        {
          "output_type": "execute_result",
          "data": {
            "text/plain": [
              "age                19\n",
              "sex            female\n",
              "bmi              27.9\n",
              "children            0\n",
              "smoker            yes\n",
              "region      southwest\n",
              "Name: 0, dtype: object"
            ]
          },
          "metadata": {},
          "execution_count": 112
        }
      ]
    },
    {
      "cell_type": "code",
      "source": [
        "X_train_normal[0]"
      ],
      "metadata": {
        "colab": {
          "base_uri": "https://localhost:8080/"
        },
        "id": "h1MzwelthJRa",
        "outputId": "5dd257eb-6608-436f-ee4b-82baf3285f00"
      },
      "execution_count": 113,
      "outputs": [
        {
          "output_type": "execute_result",
          "data": {
            "text/plain": [
              "array([0.60869565, 0.10734463, 0.4       , 1.        , 0.        ,\n",
              "       1.        , 0.        , 0.        , 1.        , 0.        ,\n",
              "       0.        ])"
            ]
          },
          "metadata": {},
          "execution_count": 113
        }
      ]
    },
    {
      "cell_type": "code",
      "source": [
        "X_train.shape, X_train_normal.shape"
      ],
      "metadata": {
        "colab": {
          "base_uri": "https://localhost:8080/"
        },
        "id": "S687eDBDhNJe",
        "outputId": "788942ca-283a-48bc-a048-61631410704f"
      },
      "execution_count": 114,
      "outputs": [
        {
          "output_type": "execute_result",
          "data": {
            "text/plain": [
              "((1070, 6), (1070, 11))"
            ]
          },
          "metadata": {},
          "execution_count": 114
        }
      ]
    },
    {
      "cell_type": "code",
      "source": [
        "#Build a neural network model to fit on our normalized data\n",
        "\n",
        "tf.random.set_seed(42)\n",
        "\n",
        "#Create the model\n",
        "model_insurance_4 = tf.keras.Sequential()\n",
        "model_insurance_4.add(tf.keras.layers.Dense(100))\n",
        "model_insurance_4.add(tf.keras.layers.Dense(10))\n",
        "model_insurance_4.add(tf.keras.layers.Dense(1))\n",
        "\n",
        "#Compile the model\n",
        "model_insurance_4.compile(optimizer = tf.keras.optimizers.Adam(),\n",
        "                          loss = tf.keras.losses.mae,\n",
        "                          metrics = [\"mae\"])\n",
        "\n",
        "#Fit the model\n",
        "model_insurance_4.fit(X_train_normal, y_train, epochs = 100)"
      ],
      "metadata": {
        "colab": {
          "base_uri": "https://localhost:8080/"
        },
        "id": "LaN28VwUhccf",
        "outputId": "7925203f-302a-4872-bafc-f055b4c37be2"
      },
      "execution_count": 116,
      "outputs": [
        {
          "output_type": "stream",
          "name": "stdout",
          "text": [
            "Epoch 1/100\n",
            "34/34 [==============================] - 1s 3ms/step - loss: 13343.1719 - mae: 13343.1719\n",
            "Epoch 2/100\n",
            "34/34 [==============================] - 0s 3ms/step - loss: 13334.0459 - mae: 13334.0459\n",
            "Epoch 3/100\n",
            "34/34 [==============================] - 0s 3ms/step - loss: 13311.6016 - mae: 13311.6016\n",
            "Epoch 4/100\n",
            "34/34 [==============================] - 0s 2ms/step - loss: 13265.8311 - mae: 13265.8311\n",
            "Epoch 5/100\n",
            "34/34 [==============================] - 0s 2ms/step - loss: 13186.1191 - mae: 13186.1191\n",
            "Epoch 6/100\n",
            "34/34 [==============================] - 0s 3ms/step - loss: 13061.6191 - mae: 13061.6191\n",
            "Epoch 7/100\n",
            "34/34 [==============================] - 0s 2ms/step - loss: 12882.1104 - mae: 12882.1104\n",
            "Epoch 8/100\n",
            "34/34 [==============================] - 0s 2ms/step - loss: 12637.5254 - mae: 12637.5254\n",
            "Epoch 9/100\n",
            "34/34 [==============================] - 0s 2ms/step - loss: 12317.6436 - mae: 12317.6436\n",
            "Epoch 10/100\n",
            "34/34 [==============================] - 0s 3ms/step - loss: 11918.2520 - mae: 11918.2520\n",
            "Epoch 11/100\n",
            "34/34 [==============================] - 0s 2ms/step - loss: 11448.0977 - mae: 11448.0977\n",
            "Epoch 12/100\n",
            "34/34 [==============================] - 0s 2ms/step - loss: 10945.5010 - mae: 10945.5010\n",
            "Epoch 13/100\n",
            "34/34 [==============================] - 0s 2ms/step - loss: 10445.8447 - mae: 10445.8447\n",
            "Epoch 14/100\n",
            "34/34 [==============================] - 0s 2ms/step - loss: 9950.4414 - mae: 9950.4414\n",
            "Epoch 15/100\n",
            "34/34 [==============================] - 0s 3ms/step - loss: 9484.0996 - mae: 9484.0996\n",
            "Epoch 16/100\n",
            "34/34 [==============================] - 0s 3ms/step - loss: 9068.1826 - mae: 9068.1826\n",
            "Epoch 17/100\n",
            "34/34 [==============================] - 0s 2ms/step - loss: 8723.8398 - mae: 8723.8398\n",
            "Epoch 18/100\n",
            "34/34 [==============================] - 0s 3ms/step - loss: 8444.2070 - mae: 8444.2070\n",
            "Epoch 19/100\n",
            "34/34 [==============================] - 0s 2ms/step - loss: 8231.0322 - mae: 8231.0322\n",
            "Epoch 20/100\n",
            "34/34 [==============================] - 0s 3ms/step - loss: 8085.0815 - mae: 8085.0815\n",
            "Epoch 21/100\n",
            "34/34 [==============================] - 0s 3ms/step - loss: 7976.7881 - mae: 7976.7881\n",
            "Epoch 22/100\n",
            "34/34 [==============================] - 0s 2ms/step - loss: 7902.9038 - mae: 7902.9038\n",
            "Epoch 23/100\n",
            "34/34 [==============================] - 0s 3ms/step - loss: 7844.5962 - mae: 7844.5962\n",
            "Epoch 24/100\n",
            "34/34 [==============================] - 0s 2ms/step - loss: 7792.1655 - mae: 7792.1655\n",
            "Epoch 25/100\n",
            "34/34 [==============================] - 0s 2ms/step - loss: 7753.2769 - mae: 7753.2769\n",
            "Epoch 26/100\n",
            "34/34 [==============================] - 0s 3ms/step - loss: 7701.9282 - mae: 7701.9282\n",
            "Epoch 27/100\n",
            "34/34 [==============================] - 0s 2ms/step - loss: 7659.7422 - mae: 7659.7422\n",
            "Epoch 28/100\n",
            "34/34 [==============================] - 0s 3ms/step - loss: 7617.3682 - mae: 7617.3682\n",
            "Epoch 29/100\n",
            "34/34 [==============================] - 0s 2ms/step - loss: 7574.9849 - mae: 7574.9849\n",
            "Epoch 30/100\n",
            "34/34 [==============================] - 0s 2ms/step - loss: 7531.5625 - mae: 7531.5625\n",
            "Epoch 31/100\n",
            "34/34 [==============================] - 0s 2ms/step - loss: 7487.7480 - mae: 7487.7480\n",
            "Epoch 32/100\n",
            "34/34 [==============================] - 0s 2ms/step - loss: 7443.7681 - mae: 7443.7681\n",
            "Epoch 33/100\n",
            "34/34 [==============================] - 0s 3ms/step - loss: 7399.5767 - mae: 7399.5767\n",
            "Epoch 34/100\n",
            "34/34 [==============================] - 0s 12ms/step - loss: 7351.4219 - mae: 7351.4219\n",
            "Epoch 35/100\n",
            "34/34 [==============================] - 0s 8ms/step - loss: 7304.7383 - mae: 7304.7383\n",
            "Epoch 36/100\n",
            "34/34 [==============================] - 0s 9ms/step - loss: 7254.7773 - mae: 7254.7773\n",
            "Epoch 37/100\n",
            "34/34 [==============================] - 0s 5ms/step - loss: 7204.6143 - mae: 7204.6143\n",
            "Epoch 38/100\n",
            "34/34 [==============================] - 0s 7ms/step - loss: 7153.7026 - mae: 7153.7026\n",
            "Epoch 39/100\n",
            "34/34 [==============================] - 0s 3ms/step - loss: 7099.0781 - mae: 7099.0781\n",
            "Epoch 40/100\n",
            "34/34 [==============================] - 0s 2ms/step - loss: 7043.9604 - mae: 7043.9604\n",
            "Epoch 41/100\n",
            "34/34 [==============================] - 0s 2ms/step - loss: 6987.8174 - mae: 6987.8174\n",
            "Epoch 42/100\n",
            "34/34 [==============================] - 0s 2ms/step - loss: 6928.7627 - mae: 6928.7627\n",
            "Epoch 43/100\n",
            "34/34 [==============================] - 0s 3ms/step - loss: 6866.5356 - mae: 6866.5356\n",
            "Epoch 44/100\n",
            "34/34 [==============================] - 0s 2ms/step - loss: 6800.4629 - mae: 6800.4629\n",
            "Epoch 45/100\n",
            "34/34 [==============================] - 0s 3ms/step - loss: 6733.5312 - mae: 6733.5312\n",
            "Epoch 46/100\n",
            "34/34 [==============================] - 0s 2ms/step - loss: 6664.8345 - mae: 6664.8345\n",
            "Epoch 47/100\n",
            "34/34 [==============================] - 0s 2ms/step - loss: 6593.7974 - mae: 6593.7974\n",
            "Epoch 48/100\n",
            "34/34 [==============================] - 0s 3ms/step - loss: 6515.3521 - mae: 6515.3521\n",
            "Epoch 49/100\n",
            "34/34 [==============================] - 0s 3ms/step - loss: 6436.4414 - mae: 6436.4414\n",
            "Epoch 50/100\n",
            "34/34 [==============================] - 0s 3ms/step - loss: 6351.3652 - mae: 6351.3652\n",
            "Epoch 51/100\n",
            "34/34 [==============================] - 0s 2ms/step - loss: 6267.1870 - mae: 6267.1870\n",
            "Epoch 52/100\n",
            "34/34 [==============================] - 0s 4ms/step - loss: 6173.9653 - mae: 6173.9653\n",
            "Epoch 53/100\n",
            "34/34 [==============================] - 0s 4ms/step - loss: 6078.0259 - mae: 6078.0259\n",
            "Epoch 54/100\n",
            "34/34 [==============================] - 0s 4ms/step - loss: 5979.6050 - mae: 5979.6050\n",
            "Epoch 55/100\n",
            "34/34 [==============================] - 0s 4ms/step - loss: 5872.6577 - mae: 5872.6577\n",
            "Epoch 56/100\n",
            "34/34 [==============================] - 0s 4ms/step - loss: 5764.4932 - mae: 5764.4932\n",
            "Epoch 57/100\n",
            "34/34 [==============================] - 0s 4ms/step - loss: 5648.7222 - mae: 5648.7222\n",
            "Epoch 58/100\n",
            "34/34 [==============================] - 0s 4ms/step - loss: 5531.0894 - mae: 5531.0894\n",
            "Epoch 59/100\n",
            "34/34 [==============================] - 0s 4ms/step - loss: 5413.4043 - mae: 5413.4043\n",
            "Epoch 60/100\n",
            "34/34 [==============================] - 0s 3ms/step - loss: 5290.2563 - mae: 5290.2563\n",
            "Epoch 61/100\n",
            "34/34 [==============================] - 0s 4ms/step - loss: 5163.0889 - mae: 5163.0889\n",
            "Epoch 62/100\n",
            "34/34 [==============================] - 0s 5ms/step - loss: 5032.9492 - mae: 5032.9492\n",
            "Epoch 63/100\n",
            "34/34 [==============================] - 0s 4ms/step - loss: 4904.0269 - mae: 4904.0269\n",
            "Epoch 64/100\n",
            "34/34 [==============================] - 0s 4ms/step - loss: 4772.0488 - mae: 4772.0488\n",
            "Epoch 65/100\n",
            "34/34 [==============================] - 0s 3ms/step - loss: 4645.1582 - mae: 4645.1582\n",
            "Epoch 66/100\n",
            "34/34 [==============================] - 0s 3ms/step - loss: 4519.8022 - mae: 4519.8022\n",
            "Epoch 67/100\n",
            "34/34 [==============================] - 0s 3ms/step - loss: 4410.0732 - mae: 4410.0732\n",
            "Epoch 68/100\n",
            "34/34 [==============================] - 0s 4ms/step - loss: 4302.3872 - mae: 4302.3872\n",
            "Epoch 69/100\n",
            "34/34 [==============================] - 0s 3ms/step - loss: 4200.3110 - mae: 4200.3110\n",
            "Epoch 70/100\n",
            "34/34 [==============================] - 0s 4ms/step - loss: 4106.2925 - mae: 4106.2925\n",
            "Epoch 71/100\n",
            "34/34 [==============================] - 0s 4ms/step - loss: 4019.1733 - mae: 4019.1733\n",
            "Epoch 72/100\n",
            "34/34 [==============================] - 0s 4ms/step - loss: 3943.4285 - mae: 3943.4285\n",
            "Epoch 73/100\n",
            "34/34 [==============================] - 0s 4ms/step - loss: 3878.8931 - mae: 3878.8931\n",
            "Epoch 74/100\n",
            "34/34 [==============================] - 0s 4ms/step - loss: 3825.7458 - mae: 3825.7458\n",
            "Epoch 75/100\n",
            "34/34 [==============================] - 0s 4ms/step - loss: 3782.9038 - mae: 3782.9038\n",
            "Epoch 76/100\n",
            "34/34 [==============================] - 0s 4ms/step - loss: 3750.5691 - mae: 3750.5691\n",
            "Epoch 77/100\n",
            "34/34 [==============================] - 0s 4ms/step - loss: 3724.7104 - mae: 3724.7104\n",
            "Epoch 78/100\n",
            "34/34 [==============================] - 0s 4ms/step - loss: 3706.8655 - mae: 3706.8655\n",
            "Epoch 79/100\n",
            "34/34 [==============================] - 0s 3ms/step - loss: 3693.4377 - mae: 3693.4377\n",
            "Epoch 80/100\n",
            "34/34 [==============================] - 0s 3ms/step - loss: 3684.2097 - mae: 3684.2097\n",
            "Epoch 81/100\n",
            "34/34 [==============================] - 0s 2ms/step - loss: 3677.4702 - mae: 3677.4702\n",
            "Epoch 82/100\n",
            "34/34 [==============================] - 0s 3ms/step - loss: 3673.8840 - mae: 3673.8840\n",
            "Epoch 83/100\n",
            "34/34 [==============================] - 0s 2ms/step - loss: 3668.1306 - mae: 3668.1306\n",
            "Epoch 84/100\n",
            "34/34 [==============================] - 0s 2ms/step - loss: 3664.8569 - mae: 3664.8569\n",
            "Epoch 85/100\n",
            "34/34 [==============================] - 0s 3ms/step - loss: 3662.0974 - mae: 3662.0974\n",
            "Epoch 86/100\n",
            "34/34 [==============================] - 0s 2ms/step - loss: 3660.4973 - mae: 3660.4973\n",
            "Epoch 87/100\n",
            "34/34 [==============================] - 0s 2ms/step - loss: 3657.3196 - mae: 3657.3196\n",
            "Epoch 88/100\n",
            "34/34 [==============================] - 0s 2ms/step - loss: 3654.9304 - mae: 3654.9304\n",
            "Epoch 89/100\n",
            "34/34 [==============================] - 0s 2ms/step - loss: 3653.4036 - mae: 3653.4036\n",
            "Epoch 90/100\n",
            "34/34 [==============================] - 0s 3ms/step - loss: 3651.7002 - mae: 3651.7002\n",
            "Epoch 91/100\n",
            "34/34 [==============================] - 0s 3ms/step - loss: 3648.6033 - mae: 3648.6033\n",
            "Epoch 92/100\n",
            "34/34 [==============================] - 0s 2ms/step - loss: 3647.9629 - mae: 3647.9629\n",
            "Epoch 93/100\n",
            "34/34 [==============================] - 0s 2ms/step - loss: 3645.8081 - mae: 3645.8081\n",
            "Epoch 94/100\n",
            "34/34 [==============================] - 0s 3ms/step - loss: 3644.0771 - mae: 3644.0771\n",
            "Epoch 95/100\n",
            "34/34 [==============================] - 0s 2ms/step - loss: 3645.1743 - mae: 3645.1743\n",
            "Epoch 96/100\n",
            "34/34 [==============================] - 0s 2ms/step - loss: 3641.9602 - mae: 3641.9602\n",
            "Epoch 97/100\n",
            "34/34 [==============================] - 0s 3ms/step - loss: 3639.5876 - mae: 3639.5876\n",
            "Epoch 98/100\n",
            "34/34 [==============================] - 0s 2ms/step - loss: 3637.4968 - mae: 3637.4968\n",
            "Epoch 99/100\n",
            "34/34 [==============================] - 0s 2ms/step - loss: 3637.0491 - mae: 3637.0491\n",
            "Epoch 100/100\n",
            "34/34 [==============================] - 0s 3ms/step - loss: 3635.4482 - mae: 3635.4482\n"
          ]
        },
        {
          "output_type": "execute_result",
          "data": {
            "text/plain": [
              "<keras.src.callbacks.History at 0x7d6e46cf16f0>"
            ]
          },
          "metadata": {},
          "execution_count": 116
        }
      ]
    },
    {
      "cell_type": "code",
      "source": [
        "model_insurance_4.evaluate(X_test_normal, y_test)"
      ],
      "metadata": {
        "colab": {
          "base_uri": "https://localhost:8080/"
        },
        "id": "9yj_8JTfk1TW",
        "outputId": "fbf1e029-c61f-470c-9c71-5f1606a338a0"
      },
      "execution_count": 117,
      "outputs": [
        {
          "output_type": "stream",
          "name": "stdout",
          "text": [
            "9/9 [==============================] - 0s 4ms/step - loss: 3438.8083 - mae: 3438.8083\n"
          ]
        },
        {
          "output_type": "execute_result",
          "data": {
            "text/plain": [
              "[3438.808349609375, 3438.808349609375]"
            ]
          },
          "metadata": {},
          "execution_count": 117
        }
      ]
    },
    {
      "cell_type": "code",
      "source": [
        "#9/9 [==============================] - 0s 3ms/step - loss: 4670.3350 - mse: 91598936.0000\n",
        "#[4670.3349609375, 91598936.0]"
      ],
      "metadata": {
        "id": "5CwM4TsnmDFh"
      },
      "execution_count": 119,
      "outputs": []
    },
    {
      "cell_type": "markdown",
      "source": [
        "##After normalization of our feature data with using the same model and hyperparameters mean absolute error decreased even from our best previous evaluation score."
      ],
      "metadata": {
        "id": "UsHvmzLDlBw3"
      }
    }
  ]
}